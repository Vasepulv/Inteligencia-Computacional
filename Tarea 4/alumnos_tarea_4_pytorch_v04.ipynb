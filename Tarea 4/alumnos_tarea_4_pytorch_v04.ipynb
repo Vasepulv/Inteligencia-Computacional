{
 "cells": [
  {
   "cell_type": "code",
   "execution_count": null,
   "metadata": {
    "id": "dCZ7oF6sR-Po"
   },
   "outputs": [],
   "source": [
    "import pandas as pd\n",
    "import torch\n",
    "import torch.nn as nn\n",
    "\n",
    "import numpy as np\n",
    "\n",
    "from torch.utils.data import random_split\n",
    "\n",
    "import sys"
   ]
  },
  {
   "cell_type": "markdown",
   "metadata": {
    "id": "fi3AQdmgVwtd"
   },
   "source": [
    "## Subir datasets de fallas de corriente"
   ]
  },
  {
   "cell_type": "code",
   "execution_count": null,
   "metadata": {
    "id": "kSYyW_bVVQuz"
   },
   "outputs": [],
   "source": [
    "from google.colab import files\n",
    "uploaded = files.upload()  # sensorless_tarea4_train.txt"
   ]
  },
  {
   "cell_type": "code",
   "execution_count": null,
   "metadata": {
    "id": "Rh7_NhV2VdNO"
   },
   "outputs": [],
   "source": [
    "from google.colab import files\n",
    "uploaded = files.upload()  # sensorless_tarea4_test.txt"
   ]
  },
  {
   "cell_type": "markdown",
   "metadata": {
    "id": "rKJ_qwMmV9As"
   },
   "source": [
    "## Leer datasets de fallas de corriente"
   ]
  },
  {
   "cell_type": "code",
   "execution_count": 2,
   "metadata": {
    "colab": {
     "base_uri": "https://localhost:8080/"
    },
    "id": "yMFbT5x8MChJ",
    "outputId": "823db31c-bf66-466d-9806-b9be7e821e4d"
   },
   "outputs": [
    {
     "name": "stdout",
     "output_type": "stream",
     "text": [
      "sample_data  sensorless_tarea4_test.txt  sensorless_tarea4_train.txt\n"
     ]
    }
   ],
   "source": [
    "!ls"
   ]
  },
  {
   "cell_type": "code",
   "execution_count": 3,
   "metadata": {
    "id": "-PY8i4KEZnnN"
   },
   "outputs": [],
   "source": [
    "column_names = [\"feat\" + str(i) for i in range(48)]\n",
    "column_names.append(\"class\")"
   ]
  },
  {
   "cell_type": "code",
   "execution_count": null,
   "metadata": {
    "id": "-Ps17buyVt-3"
   },
   "outputs": [],
   "source": [
    "df_train_val = pd.read_csv('sensorless_tarea4_train.txt', names = column_names)\n",
    "df_train_val[\"class\"] = df_train_val[\"class\"] - 1\n",
    "df_train_val"
   ]
  },
  {
   "cell_type": "code",
   "execution_count": null,
   "metadata": {
    "id": "E7sXIE9mWOko"
   },
   "outputs": [],
   "source": [
    "df_test = pd.read_csv('sensorless_tarea4_test.txt', names = column_names)\n",
    "df_test[\"class\"] = df_test[\"class\"] - 1\n",
    "df_test"
   ]
  },
  {
   "cell_type": "markdown",
   "metadata": {
    "id": "s-3-bU2IxSA4"
   },
   "source": [
    "## Crear modelo"
   ]
  },
  {
   "cell_type": "code",
   "execution_count": 6,
   "metadata": {
    "id": "SVqQYb9wcb27"
   },
   "outputs": [],
   "source": [
    "model = nn.Sequential(\n",
    "          nn.Linear(48, 11)\n",
    "        )"
   ]
  },
  {
   "cell_type": "code",
   "execution_count": 7,
   "metadata": {
    "id": "CLBTy_3JdKhs"
   },
   "outputs": [],
   "source": [
    "device = torch.device('cuda')\n",
    "\n",
    "model = model.to(device)\n",
    "\n",
    "criterion = nn.CrossEntropyLoss()\n",
    "optimizer = torch.optim.Adam(model.parameters(), lr=1e-3)"
   ]
  },
  {
   "cell_type": "markdown",
   "metadata": {
    "id": "KdHaG51qxcuI"
   },
   "source": [
    "## Crear datasets y dataloaders para pytorch"
   ]
  },
  {
   "cell_type": "code",
   "execution_count": 8,
   "metadata": {
    "id": "htP8BlaJe41j"
   },
   "outputs": [],
   "source": [
    "# Crear datasets\n",
    "\n",
    "feats_train_val = df_train_val.to_numpy()[:,0:48].astype(np.float32)\n",
    "labels_train_val = df_train_val.to_numpy()[:,48].astype(int)\n",
    "dataset_train_val = [ {\"features\":feats_train_val[i,:], \"labels\":labels_train_val[i]} for i in range(feats_train_val.shape[0]) ]\n",
    "\n",
    "feats_test = df_test.to_numpy()[:,0:48].astype(np.float32)\n",
    "labels_test = df_test.to_numpy()[:,48].astype(int)\n",
    "dataset_test = [ {\"features\":feats_test[i,:], \"labels\":labels_test[i]} for i in range(feats_test.shape[0]) ]\n",
    "\n",
    "n_train = int(df_train_val.shape[0]*0.85)\n",
    "n_val = df_train_val.shape[0] - n_train\n",
    "\n",
    "dataset_train, dataset_val = random_split(dataset_train_val, [n_train, n_val])"
   ]
  },
  {
   "cell_type": "code",
   "execution_count": 9,
   "metadata": {
    "id": "xBBrpwyNIADU"
   },
   "outputs": [],
   "source": [
    "# Normalizar datos\n",
    "\n",
    "fdata = []\n",
    "i = 0\n",
    "\n",
    "for x in dataset_train:\n",
    "  fdata.append(x['features'])\n",
    "\n",
    "fdata = np.array(fdata)\n",
    "\n",
    "fmean= np.mean(fdata, axis=0)\n",
    "fstd = np.std(fdata, axis=0)\n",
    "\n",
    "for x in dataset_train:\n",
    "  x['features'] = (x['features']-fmean) / fstd\n",
    "\n",
    "for x in dataset_val:\n",
    "  x['features'] = (x['features']-fmean) / fstd\n",
    "\n",
    "for x in dataset_test:\n",
    "  x['features'] = (x['features']-fmean) / fstd\n"
   ]
  },
  {
   "cell_type": "code",
   "execution_count": 10,
   "metadata": {
    "id": "NBbi9klod9IE"
   },
   "outputs": [],
   "source": [
    "# Crear dataloaders\n",
    "dataloader_train = torch.utils.data.DataLoader(dataset_train, batch_size=128, shuffle=True, num_workers=0)\n",
    "dataloader_val = torch.utils.data.DataLoader(dataset_val, batch_size=128, shuffle=True, num_workers=0)\n",
    "dataloader_test = torch.utils.data.DataLoader(dataset_test, batch_size=128, shuffle=True, num_workers=0)"
   ]
  },
  {
   "cell_type": "markdown",
   "metadata": {
    "id": "x-nVLEmvxlAQ"
   },
   "source": [
    "## Entrenamiento\n",
    "Se puede interrumpir con: Entorno de Ejecución -> interrumpir la ejecución"
   ]
  },
  {
   "cell_type": "code",
   "execution_count": null,
   "metadata": {
    "id": "FeWnOtyOdijh"
   },
   "outputs": [],
   "source": [
    "for epoch in range(1000):\n",
    "    try:\n",
    "      sys.stdout.write(\"\\rÉpoca %d  \"  %(epoch))\n",
    "      model.train()\n",
    "\n",
    "      # Train on the current epoch\n",
    "      for i, data in enumerate(dataloader_train, 0):\n",
    "          inputs = data[\"features\"].to(device)\n",
    "          labels = data[\"labels\"].to(device)\n",
    "\n",
    "          # zero the parameter gradients\n",
    "          optimizer.zero_grad()\n",
    "\n",
    "          # forward + backward + optimize\n",
    "          outputs = model(inputs)\n",
    "\n",
    "          loss = criterion(outputs, labels)\n",
    "          loss.backward()\n",
    "          optimizer.step()\n",
    "\n",
    "      # Compute validation loss and accuracy for current epoch\n",
    "      model.eval()\n",
    "\n",
    "      with torch.no_grad():  \n",
    "        for i, data in enumerate(dataloader_val, 0):\n",
    "            inputs = data[\"features\"].to(device)\n",
    "            labels = data[\"labels\"].to(device)\n",
    "\n",
    "            outputs = model(inputs)\n",
    "            # Calcular loss de validación\n",
    "\n",
    "      # Imprimir: numero de época, loss de entrenamiento y loss de validación\n",
    "      # Se debe usar sys.stdout.write() para que la línea de texto se sobreescriba en vez de imprimirse línea por línea\n",
    "      # No se debe guardar checkpoints en cada época (guardarlos cada 50 épocas)\n",
    "\n",
    "    except KeyboardInterrupt:\n",
    "      print(\"\\nEntrenamiento interrumpido\")\n",
    "      break\n",
    "\n",
    "print('\\nEntrenamiento finalizado')"
   ]
  }
 ],
 "metadata": {
  "accelerator": "GPU",
  "colab": {
   "collapsed_sections": [],
   "name": "alumnos_tarea_4_pytorch_v04.ipynb",
   "provenance": []
  },
  "kernelspec": {
   "display_name": "Python 3",
   "language": "python",
   "name": "python3"
  },
  "language_info": {
   "codemirror_mode": {
    "name": "ipython",
    "version": 3
   },
   "file_extension": ".py",
   "mimetype": "text/x-python",
   "name": "python",
   "nbconvert_exporter": "python",
   "pygments_lexer": "ipython3",
   "version": "3.7.1"
  }
 },
 "nbformat": 4,
 "nbformat_minor": 1
}
