{
 "cells": [
  {
   "cell_type": "markdown",
   "metadata": {},
   "source": [
    "# 0. Introducción\n"
   ]
  },
  {
   "cell_type": "markdown",
   "metadata": {},
   "source": [
    "El problema de clasificacion de patrones es conocido en el área de Inteligencia Artificial y se sabe que no hay una solucion universal para todo tipo de problemas, puesto que esto depende de la distribucion de los datos. La idea es encontrar una funcion que sea capaz de clasificar valores nuevos, y esta funcion puede ser lineal como no serlo.\n",
    "\n",
    "Anteriormente habiamos visto el modelo de Bayes, que es un modelo de clasificacion no lineal. Su concepto detras es la utilizacion del teorema de Bayes, es decir decide la clase en base a comparar la probabilidad de que tal elemento sea la clase 1 o sea la clase 0. Sin embargo vimos que este no era capaz de resolver de manera satisfactioria el problema.\n",
    "\n",
    "Para esto, en este trabajo se utiliza otro clasificador: el clasificador Support Vector Machine, o SVM. Lo que hace este es encontrar el hiperplano que divide una clase con otra, y la hace buscando el hiperplano que tenga la mayor distancia entre las dos clases, sin que se acerque a uno o a otro, de tal forma de no sobreajustarse. Aunque este modelo está definido para resolver problemas lineales, se pueden hacer unos ajustes de tal forma que tambien puede resolver problemas no lineales.\n",
    "\n",
    "Esto lo hace utilizando lo que se conoce como un kernel, que es lo que hace es mapear los datos con dimensiones extras. Esto al estar mapeado con mas dimensiones podria encontrarse un hiperplano que separe los datos. Esto es equivalente a separar los datos con curvas no lineales que tienen diferentes formas, ya sea polinomial o sigmoidal, u otras.\n",
    "\n",
    "En este trabajo se intentará resolver el problema del trabajo pasado pero con un clasificador SVM. Para esto se han definido 4 modelos distintos, que corresponden al tipo de kernel a utilizar. Uno corresponde al modelo lineal que se probará con 5 valores distintos de un parametro $C$. Despues hay dos modelos polinomiales, uno de grado 3 y otro de grado 5, los dos con 4 parametros $\\gamma$ y $C$. Por ultimo está el kernel RBF, que utiliza 4 parametros $\\gamma$ y 5 parametros $C$."
   ]
  },
  {
   "cell_type": "markdown",
   "metadata": {},
   "source": [
    "# 1. Modelos\n",
    "\n",
    "Hay que probar 4 modelos distintos de clasificador Support Vector Machine. Esto con el proposito de encontrar el mejor clasificador dentro de los 4 posibles variantes. \n",
    "\n",
    "Para probar los modelos, primero hay que entrenar cada uno de estos con los datos del Set de Entrenamiento, esto se basa en encontrar el hiperplano que define la clase. Esto se hace buscando la curva que mejor separe los dos hiperplanos. En el caso del modelo SVM, es encontrar una curva que sea equisdistante a los conjuntos de cada clase. La curva puede tener distintas formas, dado que puede ser lineal, una curva polinomial, una sigmoide, etc. Es de este tipo de eleccion que diferencian cada uno de los modelos, y se conoce como Kernel.\n",
    "\n",
    "En este trabajo se diferencian 4 modelos distintos: Primero un modelo con un Kernel lineal, luego dos polinomiales: uno de grado 3 y otro de grado 5. Por ultimo hay un modelo con Kernel RBF.\n",
    "\n",
    "Una vez entrenado el modelo, se calcula sus resultados tratando de predecir el Set de Validacion.\n",
    "\n",
    "En base a los resultados con el Set de Validacion, se escoge el modelo con mejores resultados, y con esta eleccion se prueba con el Set de Training, y se prueba que tan bueno es el SVM para resolver este tipo de problemas."
   ]
  },
  {
   "cell_type": "markdown",
   "metadata": {},
   "source": [
    "### Carga de Datos"
   ]
  },
  {
   "cell_type": "code",
   "execution_count": 1,
   "metadata": {},
   "outputs": [],
   "source": [
    "import pandas as pd\n",
    "import matplotlib.pyplot as plt\n",
    "import numpy as np\n",
    "import seaborn as sb"
   ]
  },
  {
   "cell_type": "markdown",
   "metadata": {},
   "source": [
    "Primero cargamos los datos con las columnas definidas anteriormente y hacemos un muestreo de 3000 datos de hadrones y 3000 de no hadrones."
   ]
  },
  {
   "cell_type": "code",
   "execution_count": 2,
   "metadata": {},
   "outputs": [],
   "source": [
    "from sklearn.utils import resample\n",
    "import sklearn.utils\n",
    "import math"
   ]
  },
  {
   "cell_type": "code",
   "execution_count": 33,
   "metadata": {},
   "outputs": [],
   "source": [
    "datos=pd.read_csv(\"magic04.data\",  names=['fLength', 'fWidth', 'fSize', 'fConc', 'fConc1',\n",
    "'fAsym', 'fM3Long', 'fM3Trans', 'fAlpha', 'fDist', 'class']\n",
    ")"
   ]
  },
  {
   "cell_type": "markdown",
   "metadata": {},
   "source": [
    "Hacemos el sampling de 3000 datos de la clase no Hadrones y 3000 de las clases hadrones."
   ]
  },
  {
   "cell_type": "code",
   "execution_count": 34,
   "metadata": {},
   "outputs": [],
   "source": [
    "datos=datos.replace(to_replace='g',value=0)\n",
    "datos=datos.replace(to_replace='h',value=1)\n",
    "\n",
    "noHadrones=datos[datos['class']==0]\n",
    "hadrones=datos[datos['class']==1]\n",
    "\n",
    "muestraNoHadrones=noHadrones.sample(n=3000)\n",
    "muestraHadrones=hadrones.sample(n=3000)"
   ]
  },
  {
   "cell_type": "markdown",
   "metadata": {},
   "source": [
    "Ahora los juntamos y partimos el conjunto en 3 pedazos: el set de Entrenamiento (60%), de Validacion (20%) y de Testing. (20%)"
   ]
  },
  {
   "cell_type": "code",
   "execution_count": 35,
   "metadata": {},
   "outputs": [
    {
     "data": {
      "text/html": [
       "<div>\n",
       "<style scoped>\n",
       "    .dataframe tbody tr th:only-of-type {\n",
       "        vertical-align: middle;\n",
       "    }\n",
       "\n",
       "    .dataframe tbody tr th {\n",
       "        vertical-align: top;\n",
       "    }\n",
       "\n",
       "    .dataframe thead th {\n",
       "        text-align: right;\n",
       "    }\n",
       "</style>\n",
       "<table border=\"1\" class=\"dataframe\">\n",
       "  <thead>\n",
       "    <tr style=\"text-align: right;\">\n",
       "      <th></th>\n",
       "      <th>fLength</th>\n",
       "      <th>fWidth</th>\n",
       "      <th>fSize</th>\n",
       "      <th>fConc</th>\n",
       "      <th>fConc1</th>\n",
       "      <th>fAsym</th>\n",
       "      <th>fM3Long</th>\n",
       "      <th>fM3Trans</th>\n",
       "      <th>fAlpha</th>\n",
       "      <th>fDist</th>\n",
       "      <th>class</th>\n",
       "    </tr>\n",
       "  </thead>\n",
       "  <tbody>\n",
       "    <tr>\n",
       "      <td>681</td>\n",
       "      <td>43.9110</td>\n",
       "      <td>19.6896</td>\n",
       "      <td>3.0465</td>\n",
       "      <td>0.3010</td>\n",
       "      <td>0.1568</td>\n",
       "      <td>10.3476</td>\n",
       "      <td>39.0333</td>\n",
       "      <td>5.8314</td>\n",
       "      <td>14.8740</td>\n",
       "      <td>179.0550</td>\n",
       "      <td>0</td>\n",
       "    </tr>\n",
       "    <tr>\n",
       "      <td>9732</td>\n",
       "      <td>80.4507</td>\n",
       "      <td>23.1313</td>\n",
       "      <td>3.1678</td>\n",
       "      <td>0.2705</td>\n",
       "      <td>0.1702</td>\n",
       "      <td>-132.3620</td>\n",
       "      <td>68.8152</td>\n",
       "      <td>-22.1816</td>\n",
       "      <td>0.2900</td>\n",
       "      <td>208.7750</td>\n",
       "      <td>0</td>\n",
       "    </tr>\n",
       "    <tr>\n",
       "      <td>3331</td>\n",
       "      <td>28.5956</td>\n",
       "      <td>23.4599</td>\n",
       "      <td>2.9865</td>\n",
       "      <td>0.3032</td>\n",
       "      <td>0.1521</td>\n",
       "      <td>37.2139</td>\n",
       "      <td>22.6608</td>\n",
       "      <td>18.2677</td>\n",
       "      <td>5.3590</td>\n",
       "      <td>144.8260</td>\n",
       "      <td>0</td>\n",
       "    </tr>\n",
       "    <tr>\n",
       "      <td>2687</td>\n",
       "      <td>31.9061</td>\n",
       "      <td>16.9151</td>\n",
       "      <td>2.6380</td>\n",
       "      <td>0.3475</td>\n",
       "      <td>0.1807</td>\n",
       "      <td>-17.1608</td>\n",
       "      <td>17.9271</td>\n",
       "      <td>14.4937</td>\n",
       "      <td>22.6447</td>\n",
       "      <td>146.2910</td>\n",
       "      <td>0</td>\n",
       "    </tr>\n",
       "    <tr>\n",
       "      <td>111</td>\n",
       "      <td>28.0883</td>\n",
       "      <td>6.8084</td>\n",
       "      <td>2.2504</td>\n",
       "      <td>0.5899</td>\n",
       "      <td>0.3174</td>\n",
       "      <td>-7.7092</td>\n",
       "      <td>-17.4113</td>\n",
       "      <td>-2.8594</td>\n",
       "      <td>27.5490</td>\n",
       "      <td>146.5960</td>\n",
       "      <td>0</td>\n",
       "    </tr>\n",
       "    <tr>\n",
       "      <td>...</td>\n",
       "      <td>...</td>\n",
       "      <td>...</td>\n",
       "      <td>...</td>\n",
       "      <td>...</td>\n",
       "      <td>...</td>\n",
       "      <td>...</td>\n",
       "      <td>...</td>\n",
       "      <td>...</td>\n",
       "      <td>...</td>\n",
       "      <td>...</td>\n",
       "      <td>...</td>\n",
       "    </tr>\n",
       "    <tr>\n",
       "      <td>17634</td>\n",
       "      <td>103.6049</td>\n",
       "      <td>20.4311</td>\n",
       "      <td>3.1020</td>\n",
       "      <td>0.1693</td>\n",
       "      <td>0.0843</td>\n",
       "      <td>-70.3798</td>\n",
       "      <td>-54.5048</td>\n",
       "      <td>4.9712</td>\n",
       "      <td>40.9715</td>\n",
       "      <td>73.3252</td>\n",
       "      <td>1</td>\n",
       "    </tr>\n",
       "    <tr>\n",
       "      <td>18131</td>\n",
       "      <td>184.9713</td>\n",
       "      <td>56.9314</td>\n",
       "      <td>4.1234</td>\n",
       "      <td>0.0351</td>\n",
       "      <td>0.0298</td>\n",
       "      <td>-65.6463</td>\n",
       "      <td>-173.8273</td>\n",
       "      <td>52.6700</td>\n",
       "      <td>59.1918</td>\n",
       "      <td>101.9371</td>\n",
       "      <td>1</td>\n",
       "    </tr>\n",
       "    <tr>\n",
       "      <td>14371</td>\n",
       "      <td>76.5360</td>\n",
       "      <td>15.9522</td>\n",
       "      <td>2.9193</td>\n",
       "      <td>0.2276</td>\n",
       "      <td>0.1198</td>\n",
       "      <td>-95.8396</td>\n",
       "      <td>36.2652</td>\n",
       "      <td>-7.5991</td>\n",
       "      <td>65.5170</td>\n",
       "      <td>194.4050</td>\n",
       "      <td>1</td>\n",
       "    </tr>\n",
       "    <tr>\n",
       "      <td>15911</td>\n",
       "      <td>17.8258</td>\n",
       "      <td>17.0974</td>\n",
       "      <td>2.5384</td>\n",
       "      <td>0.5355</td>\n",
       "      <td>0.2851</td>\n",
       "      <td>23.1300</td>\n",
       "      <td>4.3708</td>\n",
       "      <td>15.6104</td>\n",
       "      <td>14.9390</td>\n",
       "      <td>154.5190</td>\n",
       "      <td>1</td>\n",
       "    </tr>\n",
       "    <tr>\n",
       "      <td>12785</td>\n",
       "      <td>85.6186</td>\n",
       "      <td>21.3754</td>\n",
       "      <td>2.7392</td>\n",
       "      <td>0.2717</td>\n",
       "      <td>0.1431</td>\n",
       "      <td>-67.7877</td>\n",
       "      <td>-52.2066</td>\n",
       "      <td>-3.5756</td>\n",
       "      <td>63.9240</td>\n",
       "      <td>112.0120</td>\n",
       "      <td>1</td>\n",
       "    </tr>\n",
       "  </tbody>\n",
       "</table>\n",
       "<p>6000 rows × 11 columns</p>\n",
       "</div>"
      ],
      "text/plain": [
       "        fLength   fWidth   fSize   fConc  fConc1     fAsym   fM3Long  \\\n",
       "681     43.9110  19.6896  3.0465  0.3010  0.1568   10.3476   39.0333   \n",
       "9732    80.4507  23.1313  3.1678  0.2705  0.1702 -132.3620   68.8152   \n",
       "3331    28.5956  23.4599  2.9865  0.3032  0.1521   37.2139   22.6608   \n",
       "2687    31.9061  16.9151  2.6380  0.3475  0.1807  -17.1608   17.9271   \n",
       "111     28.0883   6.8084  2.2504  0.5899  0.3174   -7.7092  -17.4113   \n",
       "...         ...      ...     ...     ...     ...       ...       ...   \n",
       "17634  103.6049  20.4311  3.1020  0.1693  0.0843  -70.3798  -54.5048   \n",
       "18131  184.9713  56.9314  4.1234  0.0351  0.0298  -65.6463 -173.8273   \n",
       "14371   76.5360  15.9522  2.9193  0.2276  0.1198  -95.8396   36.2652   \n",
       "15911   17.8258  17.0974  2.5384  0.5355  0.2851   23.1300    4.3708   \n",
       "12785   85.6186  21.3754  2.7392  0.2717  0.1431  -67.7877  -52.2066   \n",
       "\n",
       "       fM3Trans   fAlpha     fDist  class  \n",
       "681      5.8314  14.8740  179.0550      0  \n",
       "9732   -22.1816   0.2900  208.7750      0  \n",
       "3331    18.2677   5.3590  144.8260      0  \n",
       "2687    14.4937  22.6447  146.2910      0  \n",
       "111     -2.8594  27.5490  146.5960      0  \n",
       "...         ...      ...       ...    ...  \n",
       "17634    4.9712  40.9715   73.3252      1  \n",
       "18131   52.6700  59.1918  101.9371      1  \n",
       "14371   -7.5991  65.5170  194.4050      1  \n",
       "15911   15.6104  14.9390  154.5190      1  \n",
       "12785   -3.5756  63.9240  112.0120      1  \n",
       "\n",
       "[6000 rows x 11 columns]"
      ]
     },
     "execution_count": 35,
     "metadata": {},
     "output_type": "execute_result"
    }
   ],
   "source": [
    "muestraNueva=pd.concat([muestraNoHadrones, muestraHadrones])\n",
    "\n",
    "muestraNueva"
   ]
  },
  {
   "cell_type": "markdown",
   "metadata": {},
   "source": [
    "Definimos los tamaños para cada unos de los conjuntos."
   ]
  },
  {
   "cell_type": "code",
   "execution_count": 36,
   "metadata": {},
   "outputs": [
    {
     "name": "stdout",
     "output_type": "stream",
     "text": [
      "3600 1200 1200\n"
     ]
    }
   ],
   "source": [
    "sizeEntrenamiento=int(6000*0.6)\n",
    "sizeValidacion=6000-sizeEntrenamiento\n",
    "sizeValidacion=int(sizeValidacion/2)\n",
    "sizeTesting=sizeValidacion\n",
    "print(sizeEntrenamiento,sizeValidacion,sizeTesting)"
   ]
  },
  {
   "cell_type": "markdown",
   "metadata": {},
   "source": [
    "Los mezclamos entre sí para que los valores sean aleatorios, y de estos muestramos 6000 datos. A estos datos les asignamos un nuevo indice que va de 0 hasta 6000."
   ]
  },
  {
   "cell_type": "code",
   "execution_count": 37,
   "metadata": {},
   "outputs": [],
   "source": [
    "muestraDatos = sklearn.utils.shuffle(muestraNueva)\n",
    "muestraDatos.reset_index(inplace=True, drop=True)\n",
    "vector=np.arange(6000).tolist()\n",
    "muestraDatos=muestraDatos.assign(index=lambda x: x.index+1)"
   ]
  },
  {
   "cell_type": "markdown",
   "metadata": {},
   "source": [
    "Ahora escogemos la primera parte del set como Set de Entrenamiento, la segunda parte como Set de Validación y por ultimo los datos restante como Set de Testing"
   ]
  },
  {
   "cell_type": "code",
   "execution_count": 38,
   "metadata": {},
   "outputs": [],
   "source": [
    "setEntrenamiento=muestraDatos.iloc[:sizeEntrenamiento,:]\n",
    "setValidacion=muestraDatos.iloc[sizeEntrenamiento:sizeEntrenamiento+sizeTesting]\n",
    "setTesting=muestraDatos.iloc[(sizeEntrenamiento+sizeTesting):,:]"
   ]
  },
  {
   "cell_type": "markdown",
   "metadata": {},
   "source": [
    "Ahora vemos la proporcion de clases dentro de cada subconjunto."
   ]
  },
  {
   "cell_type": "code",
   "execution_count": 39,
   "metadata": {},
   "outputs": [
    {
     "name": "stdout",
     "output_type": "stream",
     "text": [
      "0.4961111111111111 0.5038888888888889\n"
     ]
    }
   ],
   "source": [
    "class0=setEntrenamiento[setEntrenamiento['class']==0].count()['class']\n",
    "class1=setEntrenamiento[setEntrenamiento['class']==1].count()['class']\n",
    "total=class0+class1\n",
    "print(class0/total, class1/total)"
   ]
  },
  {
   "cell_type": "code",
   "execution_count": 40,
   "metadata": {},
   "outputs": [
    {
     "name": "stdout",
     "output_type": "stream",
     "text": [
      "0.5033333333333333 0.49666666666666665\n"
     ]
    }
   ],
   "source": [
    "class0=setValidacion[setValidacion['class']==0].count()['class']\n",
    "class1=setValidacion[setValidacion['class']==1].count()['class']\n",
    "total=class0+class1\n",
    "print(class0/total, class1/total)"
   ]
  },
  {
   "cell_type": "code",
   "execution_count": 41,
   "metadata": {},
   "outputs": [
    {
     "name": "stdout",
     "output_type": "stream",
     "text": [
      "0.5083333333333333 0.49166666666666664\n"
     ]
    }
   ],
   "source": [
    "class0=setTesting[setTesting['class']==0].count()['class']\n",
    "class1=setTesting[setTesting['class']==1].count()['class']\n",
    "total=class0+class1\n",
    "print(class0/total, class1/total)"
   ]
  },
  {
   "cell_type": "markdown",
   "metadata": {},
   "source": [
    "Podemos ver que los tres conjuntos están balanceados, con la proporcion que deberian tener un 0.5 de cada clase."
   ]
  },
  {
   "cell_type": "markdown",
   "metadata": {},
   "source": [
    "### 1.0 Preprocesamiento\n",
    "\n",
    "En el caso de Preprocesamiento, hay que transformar los datos a una escala comun, esto se hace con medio de un \"scaler\" o escalador\" con el proposito de definir unos limites a los datos."
   ]
  },
  {
   "cell_type": "code",
   "execution_count": 42,
   "metadata": {},
   "outputs": [],
   "source": [
    "from sklearn.preprocessing import StandardScaler"
   ]
  },
  {
   "cell_type": "markdown",
   "metadata": {},
   "source": [
    "Separamos los conjuntos y los entandarizamos."
   ]
  },
  {
   "cell_type": "code",
   "execution_count": 43,
   "metadata": {},
   "outputs": [],
   "source": [
    "y_train=setEntrenamiento.iloc[:,10]\n",
    "X_train=setEntrenamiento.iloc[:,0:10]\n",
    "\n",
    "y_val=setValidacion.iloc[:,10]\n",
    "X_val=setValidacion.iloc[:,0:10]\n",
    "\n",
    "X_test=setTesting.iloc[:,0:10]\n",
    "y_test=setTesting.iloc[:,10]"
   ]
  },
  {
   "cell_type": "code",
   "execution_count": 44,
   "metadata": {},
   "outputs": [],
   "source": [
    "scaler = StandardScaler()\n",
    "\n",
    "scaler=scaler.fit(setEntrenamiento.iloc[:,0:10])"
   ]
  },
  {
   "cell_type": "code",
   "execution_count": 45,
   "metadata": {},
   "outputs": [],
   "source": [
    "setEntrenamiento=scaler.transform(X_train)\n",
    "setValidacion=scaler.transform(X_val)\n",
    "setTesting=scaler.transform(X_test)"
   ]
  },
  {
   "cell_type": "markdown",
   "metadata": {},
   "source": [
    "Luego con este \"scaler\", transformamos cada uno de los set totales."
   ]
  },
  {
   "cell_type": "code",
   "execution_count": 46,
   "metadata": {},
   "outputs": [
    {
     "data": {
      "text/plain": [
       "array([ 0.23275872, -0.18092419, -0.16736448, -0.03945875, -0.1554079 ,\n",
       "        0.98701035,  0.9596054 , -0.47120283, -0.66394263,  1.17509325])"
      ]
     },
     "execution_count": 46,
     "metadata": {},
     "output_type": "execute_result"
    }
   ],
   "source": [
    "from sklearn import svm\n",
    "from sklearn.model_selection import GridSearchCV\n",
    "\n",
    "setEntrenamiento[:][0]"
   ]
  },
  {
   "cell_type": "markdown",
   "metadata": {},
   "source": [
    "## 1.1 Modelo Lineal\n",
    "\n",
    "Definimos los 5 valores del parametro C, estos van del $10^{-3}$ hasta $10^{0}$. Este valor corresponde al parametro de regularizacion, mientras más alto menos se penaliza, y este es más pequeño mientras más se penaliza. Ademas se hará un cross-validacion 5 veces, es decir se seleccionaran distintos datos de partida.\n",
    "\n",
    "Probaremos el modelo con estos 5 valores, y luego entrenaremos el modelo con los datos del Set de Entrenamiento."
   ]
  },
  {
   "cell_type": "code",
   "execution_count": 186,
   "metadata": {},
   "outputs": [],
   "source": [
    "from sklearn.metrics import *"
   ]
  },
  {
   "cell_type": "code",
   "execution_count": 187,
   "metadata": {},
   "outputs": [],
   "source": [
    "parameters = {'C':[0.0001,0.001,0.01,0.1,1]}"
   ]
  },
  {
   "cell_type": "code",
   "execution_count": 188,
   "metadata": {},
   "outputs": [],
   "source": [
    "svc = svm.SVC(kernel='linear', probability=False)\n",
    "grid1 = GridSearchCV(svc, param_grid=parameters, cv=5)"
   ]
  },
  {
   "cell_type": "code",
   "execution_count": 189,
   "metadata": {},
   "outputs": [
    {
     "data": {
      "text/plain": [
       "GridSearchCV(cv=5, estimator=SVC(kernel='linear'),\n",
       "             param_grid={'C': [0.0001, 0.001, 0.01, 0.1, 1]})"
      ]
     },
     "execution_count": 189,
     "metadata": {},
     "output_type": "execute_result"
    }
   ],
   "source": [
    "grid1.fit(setEntrenamiento, y_train)"
   ]
  },
  {
   "cell_type": "code",
   "execution_count": 208,
   "metadata": {},
   "outputs": [],
   "source": [
    "predictions = grid1.predict(setValidacion)"
   ]
  },
  {
   "cell_type": "markdown",
   "metadata": {},
   "source": [
    "Ahora generamos una matriz de confusión con los datos de validacion para ver sus resultados. Tanto la version normalizada como la que lo está."
   ]
  },
  {
   "cell_type": "code",
   "execution_count": 209,
   "metadata": {},
   "outputs": [
    {
     "data": {
      "text/plain": [
       "array([[508,  96],\n",
       "       [161, 435]], dtype=int64)"
      ]
     },
     "execution_count": 209,
     "metadata": {},
     "output_type": "execute_result"
    }
   ],
   "source": [
    "confusion_matrix(y_val, predictions)"
   ]
  },
  {
   "cell_type": "code",
   "execution_count": 210,
   "metadata": {},
   "outputs": [
    {
     "data": {
      "text/plain": [
       "array([[0.8410596 , 0.1589404 ],\n",
       "       [0.27013423, 0.72986577]])"
      ]
     },
     "execution_count": 210,
     "metadata": {},
     "output_type": "execute_result"
    }
   ],
   "source": [
    "confusion_matrix(y_val,predictions, normalize='true')"
   ]
  },
  {
   "cell_type": "markdown",
   "metadata": {},
   "source": [
    "Generamos la función de decisión en base a estos datos, y con esta generaremos la curva ROC.\n",
    "\n",
    "### Curva ROC"
   ]
  },
  {
   "cell_type": "code",
   "execution_count": 193,
   "metadata": {},
   "outputs": [],
   "source": [
    "from sklearn import metrics\n",
    "from sklearn.metrics import precision_recall_curve"
   ]
  },
  {
   "cell_type": "code",
   "execution_count": 211,
   "metadata": {},
   "outputs": [
    {
     "data": {
      "text/plain": [
       "array([-0.14216666, -0.85807413,  0.5620724 , ..., -1.37285569,\n",
       "        1.46244251, -0.15152984])"
      ]
     },
     "execution_count": 211,
     "metadata": {},
     "output_type": "execute_result"
    }
   ],
   "source": [
    "scores = grid1.decision_function(setValidacion)\n",
    "scores"
   ]
  },
  {
   "cell_type": "code",
   "execution_count": 212,
   "metadata": {},
   "outputs": [
    {
     "data": {
      "text/plain": [
       "0.8559408195919819"
      ]
     },
     "execution_count": 212,
     "metadata": {},
     "output_type": "execute_result"
    }
   ],
   "source": [
    "fpr, tpr, thresholds = metrics.roc_curve(y_val, scores)\n",
    "metrics.auc(fpr, tpr)"
   ]
  },
  {
   "cell_type": "markdown",
   "metadata": {},
   "source": [
    "Se ve que hay un $AUC=0.856$ para el modelo lineal."
   ]
  },
  {
   "cell_type": "code",
   "execution_count": 213,
   "metadata": {},
   "outputs": [
    {
     "data": {
      "text/plain": [
       "Text(0, 0.5, 'Verdaderos Positivos')"
      ]
     },
     "execution_count": 213,
     "metadata": {},
     "output_type": "execute_result"
    },
    {
     "data": {
      "image/png": "[encoded data removed]",
      "text/plain": [
       "<Figure size 432x288 with 1 Axes>"
      ]
     },
     "metadata": {
      "needs_background": "light"
     },
     "output_type": "display_data"
    }
   ],
   "source": [
    "plt.plot(fpr,tpr)\n",
    "plt.title(\"Curva ROC para modelo lineal SVM\")\n",
    "plt.xlabel('Falsos Positivos')\n",
    "plt.ylabel('Verdaderos Positivos')"
   ]
  },
  {
   "cell_type": "markdown",
   "metadata": {},
   "source": [
    "### Curva Precision-Recall"
   ]
  },
  {
   "cell_type": "code",
   "execution_count": 214,
   "metadata": {},
   "outputs": [],
   "source": [
    "scores = grid1.decision_function(setValidacion)\n",
    "\n",
    "precision, recall, thresholds = precision_recall_curve(y_val, scores)"
   ]
  },
  {
   "cell_type": "code",
   "execution_count": 215,
   "metadata": {},
   "outputs": [
    {
     "data": {
      "text/plain": [
       "Text(0.5, 1.0, 'Curva Precision-Recall para modelo Lineal SVM')"
      ]
     },
     "execution_count": 215,
     "metadata": {},
     "output_type": "execute_result"
    },
    {
     "data": {
      "image/png": "[encoded data removed]",
      "text/plain": [
       "<Figure size 432x288 with 1 Axes>"
      ]
     },
     "metadata": {
      "needs_background": "light"
     },
     "output_type": "display_data"
    }
   ],
   "source": [
    "plt.plot(recall,precision)\n",
    "plt.xlabel('Recall')\n",
    "plt.ylabel('Precision')\n",
    "plt.title('Curva Precision-Recall para modelo Lineal SVM')"
   ]
  },
  {
   "cell_type": "code",
   "execution_count": 216,
   "metadata": {},
   "outputs": [
    {
     "data": {
      "text/plain": [
       "0.8528649627039993"
      ]
     },
     "execution_count": 216,
     "metadata": {},
     "output_type": "execute_result"
    }
   ],
   "source": [
    "metrics.average_precision_score(y_val,scores)"
   ]
  },
  {
   "cell_type": "markdown",
   "metadata": {},
   "source": [
    "Se puede ver su precision promedio es $AVGPrecision=0.852$"
   ]
  },
  {
   "cell_type": "markdown",
   "metadata": {},
   "source": [
    "## 1.2 Modelo Polinomial de grado 3\n",
    "\n",
    "Ahora probamos con el modelo polinomial de grado 3, en este caso se prueban dos parametros $C$, y $\\gamma$, que corresponden al parametro de regularización y el coeficiente del kernel. El primer parametro corresponde al que se vio anteriormente, y el segundo corresponde al peso que tiene los valores del input. Se escogieron los valores de $C$ de $10^{-3}$ hasta $10^{0}$. Para $\\gamma$ se escogieron los valores de $0.1$ hasta $0.9$.\n",
    "\n",
    "Para el parametro C como el parametro $\\gamma$ se usan 4 parametros distintos y de estos se escoge el mejor."
   ]
  },
  {
   "cell_type": "code",
   "execution_count": 309,
   "metadata": {},
   "outputs": [],
   "source": [
    "parameters = {'gamma':[0.1, 0.2, 0.5, 0.9], 'C':[0.001,0.01,0.1,1]}"
   ]
  },
  {
   "cell_type": "code",
   "execution_count": 310,
   "metadata": {},
   "outputs": [],
   "source": [
    "svc = svm.SVC(kernel='poly',degree=3, probability=False)\n",
    "grid2 = GridSearchCV(svc, param_grid=parameters, cv=5)"
   ]
  },
  {
   "cell_type": "code",
   "execution_count": 311,
   "metadata": {},
   "outputs": [
    {
     "data": {
      "text/plain": [
       "GridSearchCV(cv=5, estimator=SVC(kernel='poly'),\n",
       "             param_grid={'C': [0.001, 0.01, 0.1, 1],\n",
       "                         'gamma': [0.1, 0.2, 0.5, 0.9]})"
      ]
     },
     "execution_count": 311,
     "metadata": {},
     "output_type": "execute_result"
    }
   ],
   "source": [
    "grid2.fit(setEntrenamiento, y_train)"
   ]
  },
  {
   "cell_type": "code",
   "execution_count": 312,
   "metadata": {},
   "outputs": [],
   "source": [
    "predictions = grid2.predict(setValidacion)"
   ]
  },
  {
   "cell_type": "code",
   "execution_count": 313,
   "metadata": {},
   "outputs": [
    {
     "data": {
      "text/plain": [
       "array([[524,  80],\n",
       "       [132, 464]], dtype=int64)"
      ]
     },
     "execution_count": 313,
     "metadata": {},
     "output_type": "execute_result"
    }
   ],
   "source": [
    "confusion_matrix(y_val,predictions)"
   ]
  },
  {
   "cell_type": "markdown",
   "metadata": {},
   "source": [
    "Tambien veremos la version normalizada."
   ]
  },
  {
   "cell_type": "code",
   "execution_count": 314,
   "metadata": {},
   "outputs": [
    {
     "data": {
      "text/plain": [
       "array([[0.86754967, 0.13245033],\n",
       "       [0.22147651, 0.77852349]])"
      ]
     },
     "execution_count": 314,
     "metadata": {},
     "output_type": "execute_result"
    }
   ],
   "source": [
    "confusion_matrix(y_val,predictions, normalize='true')"
   ]
  },
  {
   "cell_type": "markdown",
   "metadata": {},
   "source": [
    "### Curva ROC"
   ]
  },
  {
   "cell_type": "code",
   "execution_count": 315,
   "metadata": {},
   "outputs": [
    {
     "data": {
      "text/plain": [
       "array([-1.57451348, -0.37792582, -1.12222496, ...,  0.06553344,\n",
       "       12.68730574,  0.13727215])"
      ]
     },
     "execution_count": 315,
     "metadata": {},
     "output_type": "execute_result"
    }
   ],
   "source": [
    "scores = grid2.decision_function(setValidacion)\n",
    "scores"
   ]
  },
  {
   "cell_type": "code",
   "execution_count": 316,
   "metadata": {},
   "outputs": [
    {
     "data": {
      "text/plain": [
       "0.8884200408907064"
      ]
     },
     "execution_count": 316,
     "metadata": {},
     "output_type": "execute_result"
    }
   ],
   "source": [
    "fpr, tpr, thresholds = metrics.roc_curve(y_val, scores)\n",
    "metrics.auc(fpr, tpr)"
   ]
  },
  {
   "cell_type": "markdown",
   "metadata": {},
   "source": [
    "Podemos ver que el AUC para el modelo polinomial es más alto que para el modelo lineal, dando un $AUC=0.888$."
   ]
  },
  {
   "cell_type": "code",
   "execution_count": 317,
   "metadata": {},
   "outputs": [
    {
     "data": {
      "text/plain": [
       "Text(0, 0.5, 'Verdaderos Positivos')"
      ]
     },
     "execution_count": 317,
     "metadata": {},
     "output_type": "execute_result"
    },
    {
     "data": {
      "image/png": "[encoded data removed]",
      "text/plain": [
       "<Figure size 432x288 with 1 Axes>"
      ]
     },
     "metadata": {
      "needs_background": "light"
     },
     "output_type": "display_data"
    }
   ],
   "source": [
    "plt.plot(fpr,tpr)\n",
    "plt.title(\"Curva ROC para modelo polinomial grado 3 SVM\")\n",
    "plt.xlabel('Falsos Positivos')\n",
    "plt.ylabel('Verdaderos Positivos')"
   ]
  },
  {
   "cell_type": "markdown",
   "metadata": {},
   "source": [
    "Posee una curva muy cercana a los ejes, salvo por la esquina que es donde más se aleja."
   ]
  },
  {
   "cell_type": "markdown",
   "metadata": {},
   "source": [
    "### Curva Precision-Recall"
   ]
  },
  {
   "cell_type": "code",
   "execution_count": 318,
   "metadata": {},
   "outputs": [],
   "source": [
    "scores = grid2.decision_function(setValidacion)\n",
    "\n",
    "precision, recall, thresholds = precision_recall_curve(y_val, scores)"
   ]
  },
  {
   "cell_type": "code",
   "execution_count": 319,
   "metadata": {},
   "outputs": [
    {
     "data": {
      "text/plain": [
       "Text(0.5, 1.0, 'Curva Precision-Recall para modelo polinomial grado 3 SVM')"
      ]
     },
     "execution_count": 319,
     "metadata": {},
     "output_type": "execute_result"
    },
    {
     "data": {
      "image/png": "[encoded data removed]",
      "text/plain": [
       "<Figure size 432x288 with 1 Axes>"
      ]
     },
     "metadata": {
      "needs_background": "light"
     },
     "output_type": "display_data"
    }
   ],
   "source": [
    "plt.plot(recall,precision)\n",
    "plt.xlabel('Recall')\n",
    "plt.ylabel('Precision')\n",
    "plt.title('Curva Precision-Recall para modelo polinomial grado 3 SVM')"
   ]
  },
  {
   "cell_type": "code",
   "execution_count": 320,
   "metadata": {},
   "outputs": [
    {
     "data": {
      "text/plain": [
       "0.9016769196806762"
      ]
     },
     "execution_count": 320,
     "metadata": {},
     "output_type": "execute_result"
    }
   ],
   "source": [
    "metrics.average_precision_score(y_val,scores)"
   ]
  },
  {
   "cell_type": "markdown",
   "metadata": {},
   "source": [
    "Aqui es donde realmente se ve la diferencia con el modelo lineal, obteniendo un $AVGPrecision=0.902$, que es mas alto que el modelo lineal."
   ]
  },
  {
   "cell_type": "markdown",
   "metadata": {},
   "source": [
    "## 1.3 Modelo Polinomial de grado 5\n",
    "\n",
    "Aqui se escogieron los mismos parametros que con el polinomio de grado 3, tanto para $C$ como para $\\gamma$."
   ]
  },
  {
   "cell_type": "code",
   "execution_count": 297,
   "metadata": {},
   "outputs": [],
   "source": [
    "parameters = {'gamma':[0.1, 0.2, 0.4, 0.9], 'C':[0.001,0.01,0.1,1]}"
   ]
  },
  {
   "cell_type": "code",
   "execution_count": 298,
   "metadata": {},
   "outputs": [],
   "source": [
    "svc = svm.SVC(kernel='poly',degree=5, probability=False)\n",
    "grid3 = GridSearchCV(svc, param_grid=parameters, cv=5)"
   ]
  },
  {
   "cell_type": "code",
   "execution_count": 299,
   "metadata": {},
   "outputs": [
    {
     "data": {
      "text/plain": [
       "GridSearchCV(cv=5, estimator=SVC(degree=5, kernel='poly'),\n",
       "             param_grid={'C': [0.001, 0.01, 0.1, 1],\n",
       "                         'gamma': [0.1, 0.2, 0.4, 0.9]})"
      ]
     },
     "execution_count": 299,
     "metadata": {},
     "output_type": "execute_result"
    }
   ],
   "source": [
    "grid3.fit(setEntrenamiento, y_train)"
   ]
  },
  {
   "cell_type": "code",
   "execution_count": 300,
   "metadata": {},
   "outputs": [],
   "source": [
    "predictions = grid3.predict(setValidacion)"
   ]
  },
  {
   "cell_type": "code",
   "execution_count": 301,
   "metadata": {},
   "outputs": [
    {
     "data": {
      "text/plain": [
       "array([[529,  75],\n",
       "       [148, 448]], dtype=int64)"
      ]
     },
     "execution_count": 301,
     "metadata": {},
     "output_type": "execute_result"
    }
   ],
   "source": [
    "confusion_matrix(y_val, predictions)"
   ]
  },
  {
   "cell_type": "markdown",
   "metadata": {},
   "source": [
    "Ahora su version normalizada"
   ]
  },
  {
   "cell_type": "code",
   "execution_count": 302,
   "metadata": {},
   "outputs": [
    {
     "data": {
      "text/plain": [
       "array([[0.87582781, 0.12417219],\n",
       "       [0.24832215, 0.75167785]])"
      ]
     },
     "execution_count": 302,
     "metadata": {},
     "output_type": "execute_result"
    }
   ],
   "source": [
    "confusion_matrix(y_val,predictions, normalize='true')"
   ]
  },
  {
   "cell_type": "markdown",
   "metadata": {},
   "source": [
    "Se ve que este clasificador posee un problema para clasificar los negativos, clasificandolos como positivos gran parte del tiempo."
   ]
  },
  {
   "cell_type": "markdown",
   "metadata": {},
   "source": [
    "### Curva ROC"
   ]
  },
  {
   "cell_type": "code",
   "execution_count": 303,
   "metadata": {},
   "outputs": [
    {
     "data": {
      "text/plain": [
       "array([ -2.85670293,  -0.74161363,  -4.3258417 , ...,  -1.00140425,\n",
       "       291.53529712,  -0.4510646 ])"
      ]
     },
     "execution_count": 303,
     "metadata": {},
     "output_type": "execute_result"
    }
   ],
   "source": [
    "scores = grid3.decision_function(setValidacion)\n",
    "scores"
   ]
  },
  {
   "cell_type": "code",
   "execution_count": 304,
   "metadata": {},
   "outputs": [
    {
     "data": {
      "text/plain": [
       "0.860682697008756"
      ]
     },
     "execution_count": 304,
     "metadata": {},
     "output_type": "execute_result"
    }
   ],
   "source": [
    "fpr, tpr, thresholds = metrics.roc_curve(y_val, scores)\n",
    "metrics.auc(fpr, tpr)"
   ]
  },
  {
   "cell_type": "markdown",
   "metadata": {},
   "source": [
    "Sin embargo vemos que con el modelo de grado 5, los resultados son peores que con el polinomio de grado 3, dando un $AUC=0.860$."
   ]
  },
  {
   "cell_type": "code",
   "execution_count": 308,
   "metadata": {},
   "outputs": [
    {
     "data": {
      "text/plain": [
       "Text(0, 0.5, 'Verdaderos Positivos')"
      ]
     },
     "execution_count": 308,
     "metadata": {},
     "output_type": "execute_result"
    },
    {
     "data": {
      "image/png": "[encoded data removed]",
      "text/plain": [
       "<Figure size 432x288 with 1 Axes>"
      ]
     },
     "metadata": {
      "needs_background": "light"
     },
     "output_type": "display_data"
    }
   ],
   "source": [
    "plt.plot(fpr,tpr)\n",
    "plt.title(\"Curva ROC para modelo polinomial grado 5 SVM\")\n",
    "plt.xlabel('Falsos Positivos')\n",
    "plt.ylabel('Verdaderos Positivos')"
   ]
  },
  {
   "cell_type": "markdown",
   "metadata": {},
   "source": [
    "Sin embargo se ve que su curva está mucho más alejada que la curva del polinomial de grado 3, lo que es coherente dado los resultados del clasificador."
   ]
  },
  {
   "cell_type": "markdown",
   "metadata": {},
   "source": [
    "### Curva Precision-Recall"
   ]
  },
  {
   "cell_type": "code",
   "execution_count": 306,
   "metadata": {},
   "outputs": [
    {
     "data": {
      "text/plain": [
       "Text(0.5, 1.0, 'Curva Precision-Recall para modelo polinomial grado 5 SVM')"
      ]
     },
     "execution_count": 306,
     "metadata": {},
     "output_type": "execute_result"
    },
    {
     "data": {
      "image/png": "[encoded data removed]",
      "text/plain": [
       "<Figure size 432x288 with 1 Axes>"
      ]
     },
     "metadata": {
      "needs_background": "light"
     },
     "output_type": "display_data"
    }
   ],
   "source": [
    "precision, recall, thresholds = precision_recall_curve(y_val, scores)\n",
    "\n",
    "plt.plot(recall,precision)\n",
    "plt.xlabel('Recall')\n",
    "plt.ylabel('Precision')\n",
    "plt.title('Curva Precision-Recall para modelo polinomial grado 5 SVM')"
   ]
  },
  {
   "cell_type": "markdown",
   "metadata": {},
   "source": [
    "Su curva Precision-Recall tambien se aleja de los bordes."
   ]
  },
  {
   "cell_type": "code",
   "execution_count": 307,
   "metadata": {},
   "outputs": [
    {
     "data": {
      "text/plain": [
       "0.8782541543180057"
      ]
     },
     "execution_count": 307,
     "metadata": {},
     "output_type": "execute_result"
    }
   ],
   "source": [
    "metrics.average_precision_score(y_val,scores)"
   ]
  },
  {
   "cell_type": "markdown",
   "metadata": {},
   "source": [
    "Mirando su $AVGPrecision=0.878$ se puede ver que dentro de todo posee buenos resultados, pero no supera el valor del polinomio de grado 3."
   ]
  },
  {
   "cell_type": "markdown",
   "metadata": {},
   "source": [
    "## 1.4 Modelo RBF\n",
    "\n",
    "Aqui poseemos los mismos parametros que con el caso polinomial, con la diferencia que aqui tomamos 5 valores de $C$. Se escogen valores de C de entre $10^{-4}$ hasta $10^{0}$. Para $\\gamma$ se tomaron valores de $10^{-4}$ hasta $10^{-1}$."
   ]
  },
  {
   "cell_type": "code",
   "execution_count": 234,
   "metadata": {},
   "outputs": [],
   "source": [
    "parameters = {'gamma':[0.0001,0.001,0.01,0.1], 'C':[0.0001,0.001,0.01,0.1,1]}"
   ]
  },
  {
   "cell_type": "code",
   "execution_count": 235,
   "metadata": {},
   "outputs": [],
   "source": [
    "svc = svm.SVC(kernel='rbf', probability=False)"
   ]
  },
  {
   "cell_type": "code",
   "execution_count": 236,
   "metadata": {},
   "outputs": [
    {
     "data": {
      "text/plain": [
       "GridSearchCV(cv=5, estimator=SVC(),\n",
       "             param_grid={'C': [0.0001, 0.001, 0.01, 0.1, 1],\n",
       "                         'gamma': [0.0001, 0.001, 0.01, 0.1]})"
      ]
     },
     "execution_count": 236,
     "metadata": {},
     "output_type": "execute_result"
    }
   ],
   "source": [
    "grid4 = GridSearchCV(svc, param_grid=parameters, cv=5)\n",
    "grid4.fit(setEntrenamiento, y_train)"
   ]
  },
  {
   "cell_type": "code",
   "execution_count": 237,
   "metadata": {},
   "outputs": [],
   "source": [
    "predictions = grid.predict(setValidacion)"
   ]
  },
  {
   "cell_type": "code",
   "execution_count": 238,
   "metadata": {},
   "outputs": [
    {
     "data": {
      "text/plain": [
       "array([[532,  72],\n",
       "       [113, 483]], dtype=int64)"
      ]
     },
     "execution_count": 238,
     "metadata": {},
     "output_type": "execute_result"
    }
   ],
   "source": [
    "confusion_matrix(y_val, predictions)"
   ]
  },
  {
   "cell_type": "markdown",
   "metadata": {},
   "source": [
    "Ahora su version normalizada."
   ]
  },
  {
   "cell_type": "code",
   "execution_count": 239,
   "metadata": {},
   "outputs": [
    {
     "data": {
      "text/plain": [
       "array([[0.8807947 , 0.1192053 ],\n",
       "       [0.18959732, 0.81040268]])"
      ]
     },
     "execution_count": 239,
     "metadata": {},
     "output_type": "execute_result"
    }
   ],
   "source": [
    "confusion_matrix(y_val,predictions, normalize='true')"
   ]
  },
  {
   "cell_type": "markdown",
   "metadata": {},
   "source": [
    "### Curva ROC"
   ]
  },
  {
   "cell_type": "code",
   "execution_count": 240,
   "metadata": {},
   "outputs": [
    {
     "data": {
      "text/plain": [
       "array([-1.04281901, -0.48363572, -0.99933606, ..., -0.59869436,\n",
       "        1.38877277,  0.4008783 ])"
      ]
     },
     "execution_count": 240,
     "metadata": {},
     "output_type": "execute_result"
    }
   ],
   "source": [
    "scores = grid4.decision_function(setValidacion)\n",
    "scores"
   ]
  },
  {
   "cell_type": "code",
   "execution_count": 241,
   "metadata": {},
   "outputs": [
    {
     "data": {
      "text/plain": [
       "0.917285212676119"
      ]
     },
     "execution_count": 241,
     "metadata": {},
     "output_type": "execute_result"
    }
   ],
   "source": [
    "fpr, tpr, thresholds = metrics.roc_curve(y_val, scores)\n",
    "metrics.auc(fpr, tpr)"
   ]
  },
  {
   "cell_type": "markdown",
   "metadata": {},
   "source": [
    "Vemos que se obtiene el puntaje más alto de todos con $AUC=0.917$, que es mayor al del mejor modelo anterior, el polinomial de grado 3."
   ]
  },
  {
   "cell_type": "code",
   "execution_count": 242,
   "metadata": {},
   "outputs": [
    {
     "data": {
      "text/plain": [
       "Text(0, 0.5, 'Verdaderos Positivos')"
      ]
     },
     "execution_count": 242,
     "metadata": {},
     "output_type": "execute_result"
    },
    {
     "data": {
      "image/png": "[encoded data removed]",
      "text/plain": [
       "<Figure size 432x288 with 1 Axes>"
      ]
     },
     "metadata": {
      "needs_background": "light"
     },
     "output_type": "display_data"
    }
   ],
   "source": [
    "plt.plot(fpr,tpr)\n",
    "plt.title(\"Curva ROC para modelo RBF SVM\")\n",
    "plt.xlabel('Falsos Positivos')\n",
    "plt.ylabel('Verdaderos Positivos')"
   ]
  },
  {
   "cell_type": "markdown",
   "metadata": {},
   "source": [
    "Se ve tambien que la curva ROC se acerca mucho a los ejes salvo en la parte de la esquina."
   ]
  },
  {
   "cell_type": "markdown",
   "metadata": {},
   "source": [
    "### Curva Precision-Recall"
   ]
  },
  {
   "cell_type": "code",
   "execution_count": 243,
   "metadata": {},
   "outputs": [
    {
     "data": {
      "text/plain": [
       "Text(0.5, 1.0, 'Curva Precision-Recall para modelo RBF SVM')"
      ]
     },
     "execution_count": 243,
     "metadata": {},
     "output_type": "execute_result"
    },
    {
     "data": {
      "image/png": "[encoded data removed]",
      "text/plain": [
       "<Figure size 432x288 with 1 Axes>"
      ]
     },
     "metadata": {
      "needs_background": "light"
     },
     "output_type": "display_data"
    }
   ],
   "source": [
    "precision, recall, thresholds = precision_recall_curve(y_val, scores)\n",
    "\n",
    "plt.plot(recall,precision)\n",
    "plt.xlabel('Recall')\n",
    "plt.ylabel('Precision')\n",
    "plt.title('Curva Precision-Recall para modelo RBF SVM')"
   ]
  },
  {
   "cell_type": "code",
   "execution_count": 244,
   "metadata": {},
   "outputs": [
    {
     "data": {
      "text/plain": [
       "0.925147498713088"
      ]
     },
     "execution_count": 244,
     "metadata": {},
     "output_type": "execute_result"
    }
   ],
   "source": [
    "metrics.average_precision_score(y_val,scores)"
   ]
  },
  {
   "cell_type": "markdown",
   "metadata": {},
   "source": [
    "Su valor es el mas alto de todos con $AVGPrecision=0.925$."
   ]
  },
  {
   "cell_type": "markdown",
   "metadata": {},
   "source": [
    "## 2. Testing con el Set de Testing"
   ]
  },
  {
   "cell_type": "markdown",
   "metadata": {},
   "source": [
    "Se ve que de los 4 modelos, el RBF es el que posee mejores resultados, por lo tanto se escojera a este para clasificar los datos del testing."
   ]
  },
  {
   "cell_type": "code",
   "execution_count": 245,
   "metadata": {},
   "outputs": [],
   "source": [
    "predictions = grid4.predict(setTesting)"
   ]
  },
  {
   "cell_type": "code",
   "execution_count": 246,
   "metadata": {},
   "outputs": [
    {
     "data": {
      "text/plain": [
       "array([[548,  62],\n",
       "       [139, 451]], dtype=int64)"
      ]
     },
     "execution_count": 246,
     "metadata": {},
     "output_type": "execute_result"
    }
   ],
   "source": [
    "confusion_matrix(y_test,predictions)"
   ]
  },
  {
   "cell_type": "code",
   "execution_count": 247,
   "metadata": {},
   "outputs": [
    {
     "data": {
      "text/plain": [
       "array([[0.89836066, 0.10163934],\n",
       "       [0.23559322, 0.76440678]])"
      ]
     },
     "execution_count": 247,
     "metadata": {},
     "output_type": "execute_result"
    }
   ],
   "source": [
    "confusion_matrix(y_test,predictions, normalize='true')"
   ]
  },
  {
   "cell_type": "markdown",
   "metadata": {},
   "source": [
    "Se ve que los valores se asemejan a los usados con el set de Validacion.\n",
    "\n",
    "### Curva ROC"
   ]
  },
  {
   "cell_type": "code",
   "execution_count": 248,
   "metadata": {},
   "outputs": [
    {
     "data": {
      "text/plain": [
       "array([-1.45969665, -0.03628912, -1.78911831, ..., -1.60030342,\n",
       "        1.1908384 ,  2.00686585])"
      ]
     },
     "execution_count": 248,
     "metadata": {},
     "output_type": "execute_result"
    }
   ],
   "source": [
    "scores = grid4.decision_function(setTesting)\n",
    "scores"
   ]
  },
  {
   "cell_type": "code",
   "execution_count": 249,
   "metadata": {},
   "outputs": [
    {
     "data": {
      "text/plain": [
       "0.9027063073075856"
      ]
     },
     "execution_count": 249,
     "metadata": {},
     "output_type": "execute_result"
    }
   ],
   "source": [
    "fpr, tpr, thresholds = metrics.roc_curve(y_test, scores)\n",
    "metrics.auc(fpr, tpr)"
   ]
  },
  {
   "cell_type": "markdown",
   "metadata": {},
   "source": [
    "Se aprecia un $AUC=0.903$ que es menor obtenido con el set de Validacion, pero aun así un valor bastante bueno."
   ]
  },
  {
   "cell_type": "code",
   "execution_count": 250,
   "metadata": {},
   "outputs": [
    {
     "data": {
      "text/plain": [
       "Text(0, 0.5, 'Verdaderos Positivos')"
      ]
     },
     "execution_count": 250,
     "metadata": {},
     "output_type": "execute_result"
    },
    {
     "data": {
      "image/png": "[encoded data removed]",
      "text/plain": [
       "<Figure size 432x288 with 1 Axes>"
      ]
     },
     "metadata": {
      "needs_background": "light"
     },
     "output_type": "display_data"
    }
   ],
   "source": [
    "plt.plot(fpr,tpr)\n",
    "plt.title(\"Curva ROC para modelo RBF SVM\")\n",
    "plt.xlabel('Falsos Positivos')\n",
    "plt.ylabel('Verdaderos Positivos')"
   ]
  },
  {
   "cell_type": "markdown",
   "metadata": {},
   "source": [
    "Su curva tambien es bastante parecida a la curva creada con el set de Validación."
   ]
  },
  {
   "cell_type": "markdown",
   "metadata": {},
   "source": [
    "### Curva Precision-Recall"
   ]
  },
  {
   "cell_type": "code",
   "execution_count": 251,
   "metadata": {},
   "outputs": [
    {
     "data": {
      "text/plain": [
       "Text(0.5, 1.0, 'Curva Precision-Recall para modelo RBF SVM')"
      ]
     },
     "execution_count": 251,
     "metadata": {},
     "output_type": "execute_result"
    },
    {
     "data": {
      "image/png": "[encoded data removed]",
      "text/plain": [
       "<Figure size 432x288 with 1 Axes>"
      ]
     },
     "metadata": {
      "needs_background": "light"
     },
     "output_type": "display_data"
    }
   ],
   "source": [
    "precision, recall, thresholds = precision_recall_curve(y_test, scores)\n",
    "\n",
    "plt.plot(recall,precision)\n",
    "plt.xlabel('Recall')\n",
    "plt.ylabel('Precision')\n",
    "plt.title('Curva Precision-Recall para modelo RBF SVM')"
   ]
  },
  {
   "cell_type": "code",
   "execution_count": 252,
   "metadata": {},
   "outputs": [
    {
     "data": {
      "text/plain": [
       "0.916218495808173"
      ]
     },
     "execution_count": 252,
     "metadata": {},
     "output_type": "execute_result"
    }
   ],
   "source": [
    "metrics.average_precision_score(y_test,scores)"
   ]
  },
  {
   "cell_type": "markdown",
   "metadata": {},
   "source": [
    "El valor de $AVGPrecision$ es nuevamente mas bajo que el valor con el set de Validacion que fue de $0.925$, pero en sí es bastante alto."
   ]
  },
  {
   "cell_type": "markdown",
   "metadata": {},
   "source": [
    "### Comparando con otros modelos"
   ]
  },
  {
   "cell_type": "code",
   "execution_count": 263,
   "metadata": {},
   "outputs": [],
   "source": [
    "predictionsModeloLineal=grid1.predict(setTesting)"
   ]
  },
  {
   "cell_type": "code",
   "execution_count": 264,
   "metadata": {},
   "outputs": [],
   "source": [
    "predictionsModeloPoly3=grid2.predict(setTesting)"
   ]
  },
  {
   "cell_type": "code",
   "execution_count": 265,
   "metadata": {},
   "outputs": [],
   "source": [
    "predictionsModeloPoly5=grid3.predict(setTesting)"
   ]
  },
  {
   "cell_type": "markdown",
   "metadata": {},
   "source": [
    "Ahora comparamos los resultados con la matriz de confusion de cada uno con respecto al modelo 4."
   ]
  },
  {
   "cell_type": "code",
   "execution_count": 266,
   "metadata": {},
   "outputs": [
    {
     "data": {
      "text/plain": [
       "array([[0.89836066, 0.10163934],\n",
       "       [0.23559322, 0.76440678]])"
      ]
     },
     "execution_count": 266,
     "metadata": {},
     "output_type": "execute_result"
    }
   ],
   "source": [
    "confusion_matrix(y_test,predictions, normalize='true')"
   ]
  },
  {
   "cell_type": "code",
   "execution_count": 267,
   "metadata": {},
   "outputs": [
    {
     "data": {
      "text/plain": [
       "array([[0.8557377 , 0.1442623 ],\n",
       "       [0.30169492, 0.69830508]])"
      ]
     },
     "execution_count": 267,
     "metadata": {},
     "output_type": "execute_result"
    }
   ],
   "source": [
    "confusion_matrix(y_test, predictionsModeloLineal,normalize='true')"
   ]
  },
  {
   "cell_type": "code",
   "execution_count": 268,
   "metadata": {},
   "outputs": [
    {
     "data": {
      "text/plain": [
       "array([[0.86393443, 0.13606557],\n",
       "       [0.23389831, 0.76610169]])"
      ]
     },
     "execution_count": 268,
     "metadata": {},
     "output_type": "execute_result"
    }
   ],
   "source": [
    "confusion_matrix(y_test, predictionsModeloPoly3,normalize='true')"
   ]
  },
  {
   "cell_type": "code",
   "execution_count": 270,
   "metadata": {},
   "outputs": [
    {
     "data": {
      "text/plain": [
       "array([[0.87540984, 0.12459016],\n",
       "       [0.27457627, 0.72542373]])"
      ]
     },
     "execution_count": 270,
     "metadata": {},
     "output_type": "execute_result"
    }
   ],
   "source": [
    "confusion_matrix(y_test, predictionsModeloPoly5,normalize='true')"
   ]
  },
  {
   "cell_type": "markdown",
   "metadata": {},
   "source": [
    "Comparando los 4 modelos, el que posee más TP es el modelo RBF, seguido del modelo Polinomial de grado 5. Respecto a los TN, el modelo que más tiene es el modelo Polinomial3 , y lo sigue el RBF."
   ]
  },
  {
   "cell_type": "markdown",
   "metadata": {},
   "source": [
    "Ahora comparando los FP y FN, el modelo con menor cantidad de ellos es el modelo RBF, con $FP=0.102$, y con $FN=0.236$. Mientras que el modelo polinomial de grado 3 posee $FP=0.136$ y $FN=0.233$. Es decir el modelo RBF reduce la cantidad de Falsos Positivos, mientras que el modelo polinomial de grado 3 reduce los Falsos Negativos."
   ]
  },
  {
   "cell_type": "markdown",
   "metadata": {},
   "source": [
    "Ahora comparemos sus curvas ROC y Precision Recall."
   ]
  },
  {
   "cell_type": "code",
   "execution_count": 276,
   "metadata": {},
   "outputs": [],
   "source": [
    "scoresRBF = grid4.decision_function(setTesting)"
   ]
  },
  {
   "cell_type": "code",
   "execution_count": 278,
   "metadata": {},
   "outputs": [],
   "source": [
    "scoresModeloLineal = grid1.decision_function(setTesting)"
   ]
  },
  {
   "cell_type": "code",
   "execution_count": 279,
   "metadata": {},
   "outputs": [],
   "source": [
    "scoresModeloPoly3 = grid2.decision_function(setTesting)"
   ]
  },
  {
   "cell_type": "code",
   "execution_count": 280,
   "metadata": {},
   "outputs": [],
   "source": [
    "scoresModeloPoly5= grid3.decision_function(setTesting)"
   ]
  },
  {
   "cell_type": "markdown",
   "metadata": {},
   "source": [
    "Comparamos primero su AUC con cada modelo."
   ]
  },
  {
   "cell_type": "code",
   "execution_count": 277,
   "metadata": {},
   "outputs": [
    {
     "data": {
      "text/plain": [
       "0.9027063073075856"
      ]
     },
     "execution_count": 277,
     "metadata": {},
     "output_type": "execute_result"
    }
   ],
   "source": [
    "fprRBF, tprRBF, thresholdsRBF = metrics.roc_curve(y_test, scoresRBF)\n",
    "metrics.auc(fprRBF, tprRBF)"
   ]
  },
  {
   "cell_type": "code",
   "execution_count": 281,
   "metadata": {},
   "outputs": [
    {
     "data": {
      "text/plain": [
       "0.8431036398999723"
      ]
     },
     "execution_count": 281,
     "metadata": {},
     "output_type": "execute_result"
    }
   ],
   "source": [
    "fprML, tprML, thresholdsML = metrics.roc_curve(y_test, scoresModeloLineal)\n",
    "metrics.auc(fprML, tprML)"
   ]
  },
  {
   "cell_type": "code",
   "execution_count": 282,
   "metadata": {},
   "outputs": [
    {
     "data": {
      "text/plain": [
       "0.8828063350930814"
      ]
     },
     "execution_count": 282,
     "metadata": {},
     "output_type": "execute_result"
    }
   ],
   "source": [
    "fprMP3, tprMP3, thresholdsMP3 = metrics.roc_curve(y_test, scoresModeloPoly3)\n",
    "metrics.auc(fprMP3, tprMP3)"
   ]
  },
  {
   "cell_type": "code",
   "execution_count": 283,
   "metadata": {},
   "outputs": [
    {
     "data": {
      "text/plain": [
       "0.8524145595998887"
      ]
     },
     "execution_count": 283,
     "metadata": {},
     "output_type": "execute_result"
    }
   ],
   "source": [
    "fprMP5, tprMP5, thresholdsMP5 = metrics.roc_curve(y_test, scoresModeloPoly5)\n",
    "metrics.auc(fprMP5, tprMP5)"
   ]
  },
  {
   "cell_type": "markdown",
   "metadata": {},
   "source": [
    "Se ven que estos resultados coinciden con los resultados dados con el Set de Validación, obteniendo mayor AUC el modelo RBF, seguido por el modelo Polinomial de grado 3."
   ]
  },
  {
   "cell_type": "markdown",
   "metadata": {},
   "source": [
    "Ahora veamos las curvas:"
   ]
  },
  {
   "cell_type": "code",
   "execution_count": 287,
   "metadata": {},
   "outputs": [
    {
     "data": {
      "text/plain": [
       "Text(0, 0.5, 'Verdaderos Positivos')"
      ]
     },
     "execution_count": 287,
     "metadata": {},
     "output_type": "execute_result"
    },
    {
     "data": {
      "image/png": "[encoded data removed]",
      "text/plain": [
       "<Figure size 432x288 with 1 Axes>"
      ]
     },
     "metadata": {
      "needs_background": "light"
     },
     "output_type": "display_data"
    }
   ],
   "source": [
    "plt.plot(fprRBF,tprRBF)\n",
    "plt.plot(fprML,tprML,'navy')\n",
    "plt.plot(fprMP3,tprMP3,'red')\n",
    "plt.plot(fprMP5,tprMP5,'green')\n",
    "plt.title(\"Curva ROC para todos los modelos SVM\")\n",
    "plt.xlabel('Falsos Positivos')\n",
    "plt.ylabel('Verdaderos Positivos')"
   ]
  },
  {
   "cell_type": "markdown",
   "metadata": {},
   "source": [
    "La curva celeste que corresponde a la curva del RBF obtiene los mejores resultados, seguido por la curva roja que corresponde al modelo polinomial de grado 3. Despues continuado por el modelo polinomial de grado 5 y por ultimo el azul oscuro que corresponde al modelo lineal.\n",
    "\n",
    "Todos estos resultados coinciden con los presentados anteriormente."
   ]
  },
  {
   "cell_type": "markdown",
   "metadata": {},
   "source": [
    "Antes veamos el AVGPrecision de cada modelo:"
   ]
  },
  {
   "cell_type": "code",
   "execution_count": 291,
   "metadata": {},
   "outputs": [
    {
     "data": {
      "text/plain": [
       "0.916218495808173"
      ]
     },
     "execution_count": 291,
     "metadata": {},
     "output_type": "execute_result"
    }
   ],
   "source": [
    "metrics.average_precision_score(y_test,scoresRBF)"
   ]
  },
  {
   "cell_type": "code",
   "execution_count": 293,
   "metadata": {},
   "outputs": [
    {
     "data": {
      "text/plain": [
       "0.8459191336995344"
      ]
     },
     "execution_count": 293,
     "metadata": {},
     "output_type": "execute_result"
    }
   ],
   "source": [
    "metrics.average_precision_score(y_test,scoresModeloLineal)"
   ]
  },
  {
   "cell_type": "code",
   "execution_count": 294,
   "metadata": {},
   "outputs": [
    {
     "data": {
      "text/plain": [
       "0.9003085103499744"
      ]
     },
     "execution_count": 294,
     "metadata": {},
     "output_type": "execute_result"
    }
   ],
   "source": [
    "metrics.average_precision_score(y_test,scoresModeloPoly3)"
   ]
  },
  {
   "cell_type": "code",
   "execution_count": 295,
   "metadata": {},
   "outputs": [
    {
     "data": {
      "text/plain": [
       "0.8761461424564264"
      ]
     },
     "execution_count": 295,
     "metadata": {},
     "output_type": "execute_result"
    }
   ],
   "source": [
    "metrics.average_precision_score(y_test,scoresModeloPoly5)"
   ]
  },
  {
   "cell_type": "markdown",
   "metadata": {},
   "source": [
    "De todos los modelos el que posee mejor $AVGPrecision$ es el modelo RBF como mostraban el set de Validacion. Seguido del modelo Poly de grado 3.\n",
    "\n",
    "Ahora para la curva Precision-Recall:"
   ]
  },
  {
   "cell_type": "code",
   "execution_count": 288,
   "metadata": {},
   "outputs": [],
   "source": [
    "precisionRBF, recallRBF, thresholdsRBF = precision_recall_curve(y_test, scoresRBF)\n",
    "precisionML, recallML, thresholdsML = precision_recall_curve(y_test, scoresModeloLineal)\n",
    "precisionMP3, recallMP3, thresholdsMP3 = precision_recall_curve(y_test, scoresModeloPoly3)\n",
    "precisionMP5, recallMP5, thresholdsMP5 = precision_recall_curve(y_test, scoresModeloPoly5)"
   ]
  },
  {
   "cell_type": "code",
   "execution_count": 290,
   "metadata": {},
   "outputs": [
    {
     "data": {
      "text/plain": [
       "Text(0.5, 1.0, 'Curva Precision-Recall para todos los modelos SVM')"
      ]
     },
     "execution_count": 290,
     "metadata": {},
     "output_type": "execute_result"
    },
    {
     "data": {
      "image/png": "[encoded data removed]",
      "text/plain": [
       "<Figure size 432x288 with 1 Axes>"
      ]
     },
     "metadata": {
      "needs_background": "light"
     },
     "output_type": "display_data"
    }
   ],
   "source": [
    "plt.plot(recallRBF,precisionRBF)\n",
    "plt.plot(recallML,precisionML,'navy')\n",
    "plt.plot(recallMP3,precisionMP3,'red')\n",
    "plt.plot(recallMP5,precisionMP5,'green')\n",
    "plt.xlabel('Recall')\n",
    "plt.ylabel('Precision')\n",
    "plt.title('Curva Precision-Recall para todos los modelos SVM')"
   ]
  },
  {
   "cell_type": "markdown",
   "metadata": {},
   "source": [
    "Se puede ver que claramente que la curva Precision-Recall que más se acerca a los ejes, es la curva celeste correspondiendo al modelo RBF, seguido por la curva roja que es el modelo Polinomial de grado 3. Y por ultimo está el modelo lineal."
   ]
  },
  {
   "cell_type": "markdown",
   "metadata": {},
   "source": [
    "# Conclusiones"
   ]
  },
  {
   "cell_type": "markdown",
   "metadata": {},
   "source": [
    "Se concluye que este tipo de problema si puede ser separable con un hiperplano obtenido a partir de un modelo SVM, en particular el kernel RBF es el que posee mejores resultados. Tambien se concluye que los resultados obtenidos con el set de Validacion son un buen indicador de los resultados con el Set de Testing, puesto que con ambos set obtenieron resultados muy similares. Además dado con los resultados se asumió que el RBF sería el mejor clasificador para clasificar el set de Testing, y se demostró que esto sigue siendo cierto, pues fue el mejor en predecir de todos los clasificadores.\n",
    "\n",
    "Además se demostro que este problema aunque se puede clasificar con un clasificador lineal con un 0.85 de AUC, dado el hecho que se puede mejorar los resultados con un clasificador no lineal sin que este se sobreajuste, demuestra que el problema se puede considerar no lineal. Con esto se muestra la fortaleza que tiene el clasificador SVM para resolver problemas no lineales.\n",
    "\n",
    "Por ultimo respecto a la experiencia, se aprendio que un escalador es una herramienta muy util y un paso muy necesario, en particular con los clasificadores polinomiales, puesto que estos sin escalador demoraban horas pero con este demoraban minutos. Además se aprendió que la importancia de los parametros para mejorar los resultados, dado que al variar los parametros de RBF y polinomial los resultados cambiaban aunque sea un poco."
   ]
  }
 ],
 "metadata": {
  "kernelspec": {
   "display_name": "Python 3",
   "language": "python",
   "name": "python3"
  },
  "language_info": {
   "codemirror_mode": {
    "name": "ipython",
    "version": 3
   },
   "file_extension": ".py",
   "mimetype": "text/x-python",
   "name": "python",
   "nbconvert_exporter": "python",
   "pygments_lexer": "ipython3",
   "version": "3.7.1"
  }
 },
 "nbformat": 4,
 "nbformat_minor": 2
}
