{
 "cells": [
  {
   "cell_type": "code",
   "execution_count": 1,
   "metadata": {},
   "outputs": [],
   "source": [
    "import pandas as pd"
   ]
  },
  {
   "cell_type": "markdown",
   "metadata": {},
   "source": [
    "# Cargar los datos\n",
    "\n",
    "Revisamos los archivos que estan en la carpeta, para asegurarnos que el archivo \"Frogs_MFCC.csv\" exista. Una vez comprobamos esto cargamos el archivo como un dataframe de Pandas con la funcion read_csv()."
   ]
  },
  {
   "cell_type": "code",
   "execution_count": 2,
   "metadata": {},
   "outputs": [
    {
     "name": "stdout",
     "output_type": "stream",
     "text": [
      "Anuran Calls (MFCCs)\n",
      "Anuran Calls (MFCCs).zip\n",
      "Frogs_MFCCs.csv\n",
      "Tarea 5.ipynb\n"
     ]
    }
   ],
   "source": [
    "!ls"
   ]
  },
  {
   "cell_type": "code",
   "execution_count": 185,
   "metadata": {},
   "outputs": [],
   "source": [
    "df=pd.read_csv('Frogs_MFCCs.csv')  "
   ]
  },
  {
   "cell_type": "markdown",
   "metadata": {},
   "source": [
    "Ahora revisamos los tipos de columnas que hay disponible, y sus valores."
   ]
  },
  {
   "cell_type": "code",
   "execution_count": 4,
   "metadata": {},
   "outputs": [
    {
     "data": {
      "text/plain": [
       "MFCCs_ 1    float64\n",
       "MFCCs_ 2    float64\n",
       "MFCCs_ 3    float64\n",
       "MFCCs_ 4    float64\n",
       "MFCCs_ 5    float64\n",
       "MFCCs_ 6    float64\n",
       "MFCCs_ 7    float64\n",
       "MFCCs_ 8    float64\n",
       "MFCCs_ 9    float64\n",
       "MFCCs_10    float64\n",
       "MFCCs_11    float64\n",
       "MFCCs_12    float64\n",
       "MFCCs_13    float64\n",
       "MFCCs_14    float64\n",
       "MFCCs_15    float64\n",
       "MFCCs_16    float64\n",
       "MFCCs_17    float64\n",
       "MFCCs_18    float64\n",
       "MFCCs_19    float64\n",
       "MFCCs_20    float64\n",
       "MFCCs_21    float64\n",
       "MFCCs_22    float64\n",
       "Family       object\n",
       "Genus        object\n",
       "Species      object\n",
       "RecordID      int64\n",
       "dtype: object"
      ]
     },
     "execution_count": 4,
     "metadata": {},
     "output_type": "execute_result"
    }
   ],
   "source": [
    "df.dtypes"
   ]
  },
  {
   "cell_type": "markdown",
   "metadata": {},
   "source": [
    "Se ve que principalmente son valores flotantes y un entero como el ID, dado que vamos a utilizar clusters los valores que no son un numero van a ser transformados en un número.\n",
    "\n",
    "### Características de los datos"
   ]
  },
  {
   "cell_type": "code",
   "execution_count": 5,
   "metadata": {},
   "outputs": [
    {
     "data": {
      "text/plain": [
       "0       Leptodactylidae\n",
       "1       Leptodactylidae\n",
       "2       Leptodactylidae\n",
       "3       Leptodactylidae\n",
       "4       Leptodactylidae\n",
       "             ...       \n",
       "7190            Hylidae\n",
       "7191            Hylidae\n",
       "7192            Hylidae\n",
       "7193            Hylidae\n",
       "7194            Hylidae\n",
       "Name: Family, Length: 7195, dtype: object"
      ]
     },
     "execution_count": 5,
     "metadata": {},
     "output_type": "execute_result"
    }
   ],
   "source": [
    "df[\"Family\"]"
   ]
  },
  {
   "cell_type": "code",
   "execution_count": 6,
   "metadata": {},
   "outputs": [
    {
     "data": {
      "text/plain": [
       "array(['Leptodactylidae', 'Dendrobatidae', 'Hylidae', 'Bufonidae'],\n",
       "      dtype=object)"
      ]
     },
     "execution_count": 6,
     "metadata": {},
     "output_type": "execute_result"
    }
   ],
   "source": [
    "pd.unique(df['Family'])"
   ]
  },
  {
   "cell_type": "markdown",
   "metadata": {},
   "source": [
    "Se ve que la columna Family posee 4 valores unicos, así que deberia codificarse como valores de 0 a 3. \n",
    "\n",
    "Ahora si vemos con la columna, Genus obtenemos que:"
   ]
  },
  {
   "cell_type": "code",
   "execution_count": 7,
   "metadata": {},
   "outputs": [
    {
     "data": {
      "text/plain": [
       "array(['Adenomera', 'Ameerega', 'Dendropsophus', 'Hypsiboas',\n",
       "       'Leptodactylus', 'Osteocephalus', 'Rhinella', 'Scinax'],\n",
       "      dtype=object)"
      ]
     },
     "execution_count": 7,
     "metadata": {},
     "output_type": "execute_result"
    }
   ],
   "source": [
    "pd.unique(df['Genus'])"
   ]
  },
  {
   "cell_type": "markdown",
   "metadata": {},
   "source": [
    "Obtenemos 9 valores distintos en este caso, por lo que tendran que ser guardados como valores de 0 a 7.\n",
    "\n",
    "Por ultimo, la columna 'Species' nos da que:"
   ]
  },
  {
   "cell_type": "code",
   "execution_count": 8,
   "metadata": {},
   "outputs": [
    {
     "data": {
      "text/plain": [
       "array(['AdenomeraAndre', 'Ameeregatrivittata', 'AdenomeraHylaedactylus',\n",
       "       'HylaMinuta', 'HypsiboasCinerascens', 'HypsiboasCordobae',\n",
       "       'LeptodactylusFuscus', 'OsteocephalusOophagus',\n",
       "       'Rhinellagranulosa', 'ScinaxRuber'], dtype=object)"
      ]
     },
     "execution_count": 8,
     "metadata": {},
     "output_type": "execute_result"
    }
   ],
   "source": [
    "pd.unique(df['Species'])"
   ]
  },
  {
   "cell_type": "markdown",
   "metadata": {},
   "source": [
    "Hay 10 valores distintos así que será de 0 hasta 9."
   ]
  },
  {
   "cell_type": "markdown",
   "metadata": {},
   "source": [
    "### Codificacion de columnas Species, Genus y Family"
   ]
  },
  {
   "cell_type": "code",
   "execution_count": 186,
   "metadata": {},
   "outputs": [
    {
     "data": {
      "text/html": [
       "<div>\n",
       "<style scoped>\n",
       "    .dataframe tbody tr th:only-of-type {\n",
       "        vertical-align: middle;\n",
       "    }\n",
       "\n",
       "    .dataframe tbody tr th {\n",
       "        vertical-align: top;\n",
       "    }\n",
       "\n",
       "    .dataframe thead th {\n",
       "        text-align: right;\n",
       "    }\n",
       "</style>\n",
       "<table border=\"1\" class=\"dataframe\">\n",
       "  <thead>\n",
       "    <tr style=\"text-align: right;\">\n",
       "      <th></th>\n",
       "      <th>MFCCs_ 1</th>\n",
       "      <th>MFCCs_ 2</th>\n",
       "      <th>MFCCs_ 3</th>\n",
       "      <th>MFCCs_ 4</th>\n",
       "      <th>MFCCs_ 5</th>\n",
       "      <th>MFCCs_ 6</th>\n",
       "      <th>MFCCs_ 7</th>\n",
       "      <th>MFCCs_ 8</th>\n",
       "      <th>MFCCs_ 9</th>\n",
       "      <th>MFCCs_10</th>\n",
       "      <th>...</th>\n",
       "      <th>MFCCs_17</th>\n",
       "      <th>MFCCs_18</th>\n",
       "      <th>MFCCs_19</th>\n",
       "      <th>MFCCs_20</th>\n",
       "      <th>MFCCs_21</th>\n",
       "      <th>MFCCs_22</th>\n",
       "      <th>Family</th>\n",
       "      <th>Genus</th>\n",
       "      <th>Species</th>\n",
       "      <th>RecordID</th>\n",
       "    </tr>\n",
       "  </thead>\n",
       "  <tbody>\n",
       "    <tr>\n",
       "      <td>0</td>\n",
       "      <td>1.0</td>\n",
       "      <td>0.152936</td>\n",
       "      <td>-0.105586</td>\n",
       "      <td>0.200722</td>\n",
       "      <td>0.317201</td>\n",
       "      <td>0.260764</td>\n",
       "      <td>0.100945</td>\n",
       "      <td>-0.150063</td>\n",
       "      <td>-0.171128</td>\n",
       "      <td>0.124676</td>\n",
       "      <td>...</td>\n",
       "      <td>-0.108351</td>\n",
       "      <td>-0.077623</td>\n",
       "      <td>-0.009568</td>\n",
       "      <td>0.057684</td>\n",
       "      <td>0.118680</td>\n",
       "      <td>0.014038</td>\n",
       "      <td>0</td>\n",
       "      <td>Adenomera</td>\n",
       "      <td>AdenomeraAndre</td>\n",
       "      <td>1</td>\n",
       "    </tr>\n",
       "    <tr>\n",
       "      <td>1</td>\n",
       "      <td>1.0</td>\n",
       "      <td>0.171534</td>\n",
       "      <td>-0.098975</td>\n",
       "      <td>0.268425</td>\n",
       "      <td>0.338672</td>\n",
       "      <td>0.268353</td>\n",
       "      <td>0.060835</td>\n",
       "      <td>-0.222475</td>\n",
       "      <td>-0.207693</td>\n",
       "      <td>0.170883</td>\n",
       "      <td>...</td>\n",
       "      <td>-0.090974</td>\n",
       "      <td>-0.056510</td>\n",
       "      <td>-0.035303</td>\n",
       "      <td>0.020140</td>\n",
       "      <td>0.082263</td>\n",
       "      <td>0.029056</td>\n",
       "      <td>0</td>\n",
       "      <td>Adenomera</td>\n",
       "      <td>AdenomeraAndre</td>\n",
       "      <td>1</td>\n",
       "    </tr>\n",
       "    <tr>\n",
       "      <td>2</td>\n",
       "      <td>1.0</td>\n",
       "      <td>0.152317</td>\n",
       "      <td>-0.082973</td>\n",
       "      <td>0.287128</td>\n",
       "      <td>0.276014</td>\n",
       "      <td>0.189867</td>\n",
       "      <td>0.008714</td>\n",
       "      <td>-0.242234</td>\n",
       "      <td>-0.219153</td>\n",
       "      <td>0.232538</td>\n",
       "      <td>...</td>\n",
       "      <td>-0.050691</td>\n",
       "      <td>-0.023590</td>\n",
       "      <td>-0.066722</td>\n",
       "      <td>-0.025083</td>\n",
       "      <td>0.099108</td>\n",
       "      <td>0.077162</td>\n",
       "      <td>0</td>\n",
       "      <td>Adenomera</td>\n",
       "      <td>AdenomeraAndre</td>\n",
       "      <td>1</td>\n",
       "    </tr>\n",
       "    <tr>\n",
       "      <td>3</td>\n",
       "      <td>1.0</td>\n",
       "      <td>0.224392</td>\n",
       "      <td>0.118985</td>\n",
       "      <td>0.329432</td>\n",
       "      <td>0.372088</td>\n",
       "      <td>0.361005</td>\n",
       "      <td>0.015501</td>\n",
       "      <td>-0.194347</td>\n",
       "      <td>-0.098181</td>\n",
       "      <td>0.270375</td>\n",
       "      <td>...</td>\n",
       "      <td>-0.136009</td>\n",
       "      <td>-0.177037</td>\n",
       "      <td>-0.130498</td>\n",
       "      <td>-0.054766</td>\n",
       "      <td>-0.018691</td>\n",
       "      <td>0.023954</td>\n",
       "      <td>0</td>\n",
       "      <td>Adenomera</td>\n",
       "      <td>AdenomeraAndre</td>\n",
       "      <td>1</td>\n",
       "    </tr>\n",
       "    <tr>\n",
       "      <td>4</td>\n",
       "      <td>1.0</td>\n",
       "      <td>0.087817</td>\n",
       "      <td>-0.068345</td>\n",
       "      <td>0.306967</td>\n",
       "      <td>0.330923</td>\n",
       "      <td>0.249144</td>\n",
       "      <td>0.006884</td>\n",
       "      <td>-0.265423</td>\n",
       "      <td>-0.172700</td>\n",
       "      <td>0.266434</td>\n",
       "      <td>...</td>\n",
       "      <td>-0.048885</td>\n",
       "      <td>-0.053074</td>\n",
       "      <td>-0.088550</td>\n",
       "      <td>-0.031346</td>\n",
       "      <td>0.108610</td>\n",
       "      <td>0.079244</td>\n",
       "      <td>0</td>\n",
       "      <td>Adenomera</td>\n",
       "      <td>AdenomeraAndre</td>\n",
       "      <td>1</td>\n",
       "    </tr>\n",
       "  </tbody>\n",
       "</table>\n",
       "<p>5 rows × 26 columns</p>\n",
       "</div>"
      ],
      "text/plain": [
       "   MFCCs_ 1  MFCCs_ 2  MFCCs_ 3  MFCCs_ 4  MFCCs_ 5  MFCCs_ 6  MFCCs_ 7  \\\n",
       "0       1.0  0.152936 -0.105586  0.200722  0.317201  0.260764  0.100945   \n",
       "1       1.0  0.171534 -0.098975  0.268425  0.338672  0.268353  0.060835   \n",
       "2       1.0  0.152317 -0.082973  0.287128  0.276014  0.189867  0.008714   \n",
       "3       1.0  0.224392  0.118985  0.329432  0.372088  0.361005  0.015501   \n",
       "4       1.0  0.087817 -0.068345  0.306967  0.330923  0.249144  0.006884   \n",
       "\n",
       "   MFCCs_ 8  MFCCs_ 9  MFCCs_10  ...  MFCCs_17  MFCCs_18  MFCCs_19  MFCCs_20  \\\n",
       "0 -0.150063 -0.171128  0.124676  ... -0.108351 -0.077623 -0.009568  0.057684   \n",
       "1 -0.222475 -0.207693  0.170883  ... -0.090974 -0.056510 -0.035303  0.020140   \n",
       "2 -0.242234 -0.219153  0.232538  ... -0.050691 -0.023590 -0.066722 -0.025083   \n",
       "3 -0.194347 -0.098181  0.270375  ... -0.136009 -0.177037 -0.130498 -0.054766   \n",
       "4 -0.265423 -0.172700  0.266434  ... -0.048885 -0.053074 -0.088550 -0.031346   \n",
       "\n",
       "   MFCCs_21  MFCCs_22  Family      Genus         Species  RecordID  \n",
       "0  0.118680  0.014038       0  Adenomera  AdenomeraAndre         1  \n",
       "1  0.082263  0.029056       0  Adenomera  AdenomeraAndre         1  \n",
       "2  0.099108  0.077162       0  Adenomera  AdenomeraAndre         1  \n",
       "3 -0.018691  0.023954       0  Adenomera  AdenomeraAndre         1  \n",
       "4  0.108610  0.079244       0  Adenomera  AdenomeraAndre         1  \n",
       "\n",
       "[5 rows x 26 columns]"
      ]
     },
     "execution_count": 186,
     "metadata": {},
     "output_type": "execute_result"
    }
   ],
   "source": [
    "df=df.replace(['Leptodactylidae', 'Dendrobatidae', 'Hylidae', 'Bufonidae'], [0,1,2,3])\n",
    "df.head()"
   ]
  },
  {
   "cell_type": "code",
   "execution_count": 187,
   "metadata": {},
   "outputs": [
    {
     "data": {
      "text/html": [
       "<div>\n",
       "<style scoped>\n",
       "    .dataframe tbody tr th:only-of-type {\n",
       "        vertical-align: middle;\n",
       "    }\n",
       "\n",
       "    .dataframe tbody tr th {\n",
       "        vertical-align: top;\n",
       "    }\n",
       "\n",
       "    .dataframe thead th {\n",
       "        text-align: right;\n",
       "    }\n",
       "</style>\n",
       "<table border=\"1\" class=\"dataframe\">\n",
       "  <thead>\n",
       "    <tr style=\"text-align: right;\">\n",
       "      <th></th>\n",
       "      <th>MFCCs_ 1</th>\n",
       "      <th>MFCCs_ 2</th>\n",
       "      <th>MFCCs_ 3</th>\n",
       "      <th>MFCCs_ 4</th>\n",
       "      <th>MFCCs_ 5</th>\n",
       "      <th>MFCCs_ 6</th>\n",
       "      <th>MFCCs_ 7</th>\n",
       "      <th>MFCCs_ 8</th>\n",
       "      <th>MFCCs_ 9</th>\n",
       "      <th>MFCCs_10</th>\n",
       "      <th>...</th>\n",
       "      <th>MFCCs_17</th>\n",
       "      <th>MFCCs_18</th>\n",
       "      <th>MFCCs_19</th>\n",
       "      <th>MFCCs_20</th>\n",
       "      <th>MFCCs_21</th>\n",
       "      <th>MFCCs_22</th>\n",
       "      <th>Family</th>\n",
       "      <th>Genus</th>\n",
       "      <th>Species</th>\n",
       "      <th>RecordID</th>\n",
       "    </tr>\n",
       "  </thead>\n",
       "  <tbody>\n",
       "    <tr>\n",
       "      <td>0</td>\n",
       "      <td>1.0</td>\n",
       "      <td>0.152936</td>\n",
       "      <td>-0.105586</td>\n",
       "      <td>0.200722</td>\n",
       "      <td>0.317201</td>\n",
       "      <td>0.260764</td>\n",
       "      <td>0.100945</td>\n",
       "      <td>-0.150063</td>\n",
       "      <td>-0.171128</td>\n",
       "      <td>0.124676</td>\n",
       "      <td>...</td>\n",
       "      <td>-0.108351</td>\n",
       "      <td>-0.077623</td>\n",
       "      <td>-0.009568</td>\n",
       "      <td>0.057684</td>\n",
       "      <td>0.118680</td>\n",
       "      <td>0.014038</td>\n",
       "      <td>0</td>\n",
       "      <td>0</td>\n",
       "      <td>AdenomeraAndre</td>\n",
       "      <td>1</td>\n",
       "    </tr>\n",
       "    <tr>\n",
       "      <td>1</td>\n",
       "      <td>1.0</td>\n",
       "      <td>0.171534</td>\n",
       "      <td>-0.098975</td>\n",
       "      <td>0.268425</td>\n",
       "      <td>0.338672</td>\n",
       "      <td>0.268353</td>\n",
       "      <td>0.060835</td>\n",
       "      <td>-0.222475</td>\n",
       "      <td>-0.207693</td>\n",
       "      <td>0.170883</td>\n",
       "      <td>...</td>\n",
       "      <td>-0.090974</td>\n",
       "      <td>-0.056510</td>\n",
       "      <td>-0.035303</td>\n",
       "      <td>0.020140</td>\n",
       "      <td>0.082263</td>\n",
       "      <td>0.029056</td>\n",
       "      <td>0</td>\n",
       "      <td>0</td>\n",
       "      <td>AdenomeraAndre</td>\n",
       "      <td>1</td>\n",
       "    </tr>\n",
       "    <tr>\n",
       "      <td>2</td>\n",
       "      <td>1.0</td>\n",
       "      <td>0.152317</td>\n",
       "      <td>-0.082973</td>\n",
       "      <td>0.287128</td>\n",
       "      <td>0.276014</td>\n",
       "      <td>0.189867</td>\n",
       "      <td>0.008714</td>\n",
       "      <td>-0.242234</td>\n",
       "      <td>-0.219153</td>\n",
       "      <td>0.232538</td>\n",
       "      <td>...</td>\n",
       "      <td>-0.050691</td>\n",
       "      <td>-0.023590</td>\n",
       "      <td>-0.066722</td>\n",
       "      <td>-0.025083</td>\n",
       "      <td>0.099108</td>\n",
       "      <td>0.077162</td>\n",
       "      <td>0</td>\n",
       "      <td>0</td>\n",
       "      <td>AdenomeraAndre</td>\n",
       "      <td>1</td>\n",
       "    </tr>\n",
       "    <tr>\n",
       "      <td>3</td>\n",
       "      <td>1.0</td>\n",
       "      <td>0.224392</td>\n",
       "      <td>0.118985</td>\n",
       "      <td>0.329432</td>\n",
       "      <td>0.372088</td>\n",
       "      <td>0.361005</td>\n",
       "      <td>0.015501</td>\n",
       "      <td>-0.194347</td>\n",
       "      <td>-0.098181</td>\n",
       "      <td>0.270375</td>\n",
       "      <td>...</td>\n",
       "      <td>-0.136009</td>\n",
       "      <td>-0.177037</td>\n",
       "      <td>-0.130498</td>\n",
       "      <td>-0.054766</td>\n",
       "      <td>-0.018691</td>\n",
       "      <td>0.023954</td>\n",
       "      <td>0</td>\n",
       "      <td>0</td>\n",
       "      <td>AdenomeraAndre</td>\n",
       "      <td>1</td>\n",
       "    </tr>\n",
       "    <tr>\n",
       "      <td>4</td>\n",
       "      <td>1.0</td>\n",
       "      <td>0.087817</td>\n",
       "      <td>-0.068345</td>\n",
       "      <td>0.306967</td>\n",
       "      <td>0.330923</td>\n",
       "      <td>0.249144</td>\n",
       "      <td>0.006884</td>\n",
       "      <td>-0.265423</td>\n",
       "      <td>-0.172700</td>\n",
       "      <td>0.266434</td>\n",
       "      <td>...</td>\n",
       "      <td>-0.048885</td>\n",
       "      <td>-0.053074</td>\n",
       "      <td>-0.088550</td>\n",
       "      <td>-0.031346</td>\n",
       "      <td>0.108610</td>\n",
       "      <td>0.079244</td>\n",
       "      <td>0</td>\n",
       "      <td>0</td>\n",
       "      <td>AdenomeraAndre</td>\n",
       "      <td>1</td>\n",
       "    </tr>\n",
       "  </tbody>\n",
       "</table>\n",
       "<p>5 rows × 26 columns</p>\n",
       "</div>"
      ],
      "text/plain": [
       "   MFCCs_ 1  MFCCs_ 2  MFCCs_ 3  MFCCs_ 4  MFCCs_ 5  MFCCs_ 6  MFCCs_ 7  \\\n",
       "0       1.0  0.152936 -0.105586  0.200722  0.317201  0.260764  0.100945   \n",
       "1       1.0  0.171534 -0.098975  0.268425  0.338672  0.268353  0.060835   \n",
       "2       1.0  0.152317 -0.082973  0.287128  0.276014  0.189867  0.008714   \n",
       "3       1.0  0.224392  0.118985  0.329432  0.372088  0.361005  0.015501   \n",
       "4       1.0  0.087817 -0.068345  0.306967  0.330923  0.249144  0.006884   \n",
       "\n",
       "   MFCCs_ 8  MFCCs_ 9  MFCCs_10  ...  MFCCs_17  MFCCs_18  MFCCs_19  MFCCs_20  \\\n",
       "0 -0.150063 -0.171128  0.124676  ... -0.108351 -0.077623 -0.009568  0.057684   \n",
       "1 -0.222475 -0.207693  0.170883  ... -0.090974 -0.056510 -0.035303  0.020140   \n",
       "2 -0.242234 -0.219153  0.232538  ... -0.050691 -0.023590 -0.066722 -0.025083   \n",
       "3 -0.194347 -0.098181  0.270375  ... -0.136009 -0.177037 -0.130498 -0.054766   \n",
       "4 -0.265423 -0.172700  0.266434  ... -0.048885 -0.053074 -0.088550 -0.031346   \n",
       "\n",
       "   MFCCs_21  MFCCs_22  Family  Genus         Species  RecordID  \n",
       "0  0.118680  0.014038       0      0  AdenomeraAndre         1  \n",
       "1  0.082263  0.029056       0      0  AdenomeraAndre         1  \n",
       "2  0.099108  0.077162       0      0  AdenomeraAndre         1  \n",
       "3 -0.018691  0.023954       0      0  AdenomeraAndre         1  \n",
       "4  0.108610  0.079244       0      0  AdenomeraAndre         1  \n",
       "\n",
       "[5 rows x 26 columns]"
      ]
     },
     "execution_count": 187,
     "metadata": {},
     "output_type": "execute_result"
    }
   ],
   "source": [
    "df=df.replace(['Adenomera', 'Ameerega', 'Dendropsophus', 'Hypsiboas',\n",
    "       'Leptodactylus', 'Osteocephalus', 'Rhinella', 'Scinax'],[0,1,2,3,4,5,6,7])\n",
    "df.head()"
   ]
  },
  {
   "cell_type": "code",
   "execution_count": 188,
   "metadata": {},
   "outputs": [],
   "source": [
    "df=df.replace(['AdenomeraAndre', 'Ameeregatrivittata', 'AdenomeraHylaedactylus',\n",
    "       'HylaMinuta', 'HypsiboasCinerascens', 'HypsiboasCordobae',\n",
    "       'LeptodactylusFuscus', 'OsteocephalusOophagus',\n",
    "       'Rhinellagranulosa', 'ScinaxRuber'],[0,1,2,3,4,5,6,7,8,9])"
   ]
  },
  {
   "cell_type": "code",
   "execution_count": 189,
   "metadata": {},
   "outputs": [
    {
     "data": {
      "text/html": [
       "<div>\n",
       "<style scoped>\n",
       "    .dataframe tbody tr th:only-of-type {\n",
       "        vertical-align: middle;\n",
       "    }\n",
       "\n",
       "    .dataframe tbody tr th {\n",
       "        vertical-align: top;\n",
       "    }\n",
       "\n",
       "    .dataframe thead th {\n",
       "        text-align: right;\n",
       "    }\n",
       "</style>\n",
       "<table border=\"1\" class=\"dataframe\">\n",
       "  <thead>\n",
       "    <tr style=\"text-align: right;\">\n",
       "      <th></th>\n",
       "      <th>MFCCs_ 1</th>\n",
       "      <th>MFCCs_ 2</th>\n",
       "      <th>MFCCs_ 3</th>\n",
       "      <th>MFCCs_ 4</th>\n",
       "      <th>MFCCs_ 5</th>\n",
       "      <th>MFCCs_ 6</th>\n",
       "      <th>MFCCs_ 7</th>\n",
       "      <th>MFCCs_ 8</th>\n",
       "      <th>MFCCs_ 9</th>\n",
       "      <th>MFCCs_10</th>\n",
       "      <th>...</th>\n",
       "      <th>MFCCs_17</th>\n",
       "      <th>MFCCs_18</th>\n",
       "      <th>MFCCs_19</th>\n",
       "      <th>MFCCs_20</th>\n",
       "      <th>MFCCs_21</th>\n",
       "      <th>MFCCs_22</th>\n",
       "      <th>Family</th>\n",
       "      <th>Genus</th>\n",
       "      <th>Species</th>\n",
       "      <th>RecordID</th>\n",
       "    </tr>\n",
       "  </thead>\n",
       "  <tbody>\n",
       "    <tr>\n",
       "      <td>0</td>\n",
       "      <td>1.0</td>\n",
       "      <td>0.152936</td>\n",
       "      <td>-0.105586</td>\n",
       "      <td>0.200722</td>\n",
       "      <td>0.317201</td>\n",
       "      <td>0.260764</td>\n",
       "      <td>0.100945</td>\n",
       "      <td>-0.150063</td>\n",
       "      <td>-0.171128</td>\n",
       "      <td>0.124676</td>\n",
       "      <td>...</td>\n",
       "      <td>-0.108351</td>\n",
       "      <td>-0.077623</td>\n",
       "      <td>-0.009568</td>\n",
       "      <td>0.057684</td>\n",
       "      <td>0.118680</td>\n",
       "      <td>0.014038</td>\n",
       "      <td>0</td>\n",
       "      <td>0</td>\n",
       "      <td>0</td>\n",
       "      <td>1</td>\n",
       "    </tr>\n",
       "    <tr>\n",
       "      <td>1</td>\n",
       "      <td>1.0</td>\n",
       "      <td>0.171534</td>\n",
       "      <td>-0.098975</td>\n",
       "      <td>0.268425</td>\n",
       "      <td>0.338672</td>\n",
       "      <td>0.268353</td>\n",
       "      <td>0.060835</td>\n",
       "      <td>-0.222475</td>\n",
       "      <td>-0.207693</td>\n",
       "      <td>0.170883</td>\n",
       "      <td>...</td>\n",
       "      <td>-0.090974</td>\n",
       "      <td>-0.056510</td>\n",
       "      <td>-0.035303</td>\n",
       "      <td>0.020140</td>\n",
       "      <td>0.082263</td>\n",
       "      <td>0.029056</td>\n",
       "      <td>0</td>\n",
       "      <td>0</td>\n",
       "      <td>0</td>\n",
       "      <td>1</td>\n",
       "    </tr>\n",
       "    <tr>\n",
       "      <td>2</td>\n",
       "      <td>1.0</td>\n",
       "      <td>0.152317</td>\n",
       "      <td>-0.082973</td>\n",
       "      <td>0.287128</td>\n",
       "      <td>0.276014</td>\n",
       "      <td>0.189867</td>\n",
       "      <td>0.008714</td>\n",
       "      <td>-0.242234</td>\n",
       "      <td>-0.219153</td>\n",
       "      <td>0.232538</td>\n",
       "      <td>...</td>\n",
       "      <td>-0.050691</td>\n",
       "      <td>-0.023590</td>\n",
       "      <td>-0.066722</td>\n",
       "      <td>-0.025083</td>\n",
       "      <td>0.099108</td>\n",
       "      <td>0.077162</td>\n",
       "      <td>0</td>\n",
       "      <td>0</td>\n",
       "      <td>0</td>\n",
       "      <td>1</td>\n",
       "    </tr>\n",
       "    <tr>\n",
       "      <td>3</td>\n",
       "      <td>1.0</td>\n",
       "      <td>0.224392</td>\n",
       "      <td>0.118985</td>\n",
       "      <td>0.329432</td>\n",
       "      <td>0.372088</td>\n",
       "      <td>0.361005</td>\n",
       "      <td>0.015501</td>\n",
       "      <td>-0.194347</td>\n",
       "      <td>-0.098181</td>\n",
       "      <td>0.270375</td>\n",
       "      <td>...</td>\n",
       "      <td>-0.136009</td>\n",
       "      <td>-0.177037</td>\n",
       "      <td>-0.130498</td>\n",
       "      <td>-0.054766</td>\n",
       "      <td>-0.018691</td>\n",
       "      <td>0.023954</td>\n",
       "      <td>0</td>\n",
       "      <td>0</td>\n",
       "      <td>0</td>\n",
       "      <td>1</td>\n",
       "    </tr>\n",
       "    <tr>\n",
       "      <td>4</td>\n",
       "      <td>1.0</td>\n",
       "      <td>0.087817</td>\n",
       "      <td>-0.068345</td>\n",
       "      <td>0.306967</td>\n",
       "      <td>0.330923</td>\n",
       "      <td>0.249144</td>\n",
       "      <td>0.006884</td>\n",
       "      <td>-0.265423</td>\n",
       "      <td>-0.172700</td>\n",
       "      <td>0.266434</td>\n",
       "      <td>...</td>\n",
       "      <td>-0.048885</td>\n",
       "      <td>-0.053074</td>\n",
       "      <td>-0.088550</td>\n",
       "      <td>-0.031346</td>\n",
       "      <td>0.108610</td>\n",
       "      <td>0.079244</td>\n",
       "      <td>0</td>\n",
       "      <td>0</td>\n",
       "      <td>0</td>\n",
       "      <td>1</td>\n",
       "    </tr>\n",
       "  </tbody>\n",
       "</table>\n",
       "<p>5 rows × 26 columns</p>\n",
       "</div>"
      ],
      "text/plain": [
       "   MFCCs_ 1  MFCCs_ 2  MFCCs_ 3  MFCCs_ 4  MFCCs_ 5  MFCCs_ 6  MFCCs_ 7  \\\n",
       "0       1.0  0.152936 -0.105586  0.200722  0.317201  0.260764  0.100945   \n",
       "1       1.0  0.171534 -0.098975  0.268425  0.338672  0.268353  0.060835   \n",
       "2       1.0  0.152317 -0.082973  0.287128  0.276014  0.189867  0.008714   \n",
       "3       1.0  0.224392  0.118985  0.329432  0.372088  0.361005  0.015501   \n",
       "4       1.0  0.087817 -0.068345  0.306967  0.330923  0.249144  0.006884   \n",
       "\n",
       "   MFCCs_ 8  MFCCs_ 9  MFCCs_10  ...  MFCCs_17  MFCCs_18  MFCCs_19  MFCCs_20  \\\n",
       "0 -0.150063 -0.171128  0.124676  ... -0.108351 -0.077623 -0.009568  0.057684   \n",
       "1 -0.222475 -0.207693  0.170883  ... -0.090974 -0.056510 -0.035303  0.020140   \n",
       "2 -0.242234 -0.219153  0.232538  ... -0.050691 -0.023590 -0.066722 -0.025083   \n",
       "3 -0.194347 -0.098181  0.270375  ... -0.136009 -0.177037 -0.130498 -0.054766   \n",
       "4 -0.265423 -0.172700  0.266434  ... -0.048885 -0.053074 -0.088550 -0.031346   \n",
       "\n",
       "   MFCCs_21  MFCCs_22  Family  Genus  Species  RecordID  \n",
       "0  0.118680  0.014038       0      0        0         1  \n",
       "1  0.082263  0.029056       0      0        0         1  \n",
       "2  0.099108  0.077162       0      0        0         1  \n",
       "3 -0.018691  0.023954       0      0        0         1  \n",
       "4  0.108610  0.079244       0      0        0         1  \n",
       "\n",
       "[5 rows x 26 columns]"
      ]
     },
     "execution_count": 189,
     "metadata": {},
     "output_type": "execute_result"
    }
   ],
   "source": [
    "df.head()"
   ]
  },
  {
   "cell_type": "markdown",
   "metadata": {},
   "source": [
    "### Benchmark de K-means\n",
    "\n",
    "Se cargan las bibliotecas necesarias y se utiliza la implementacion dada en el enunciado, que se utiliza para medir los puntos iniciales del kmeans. Ademas, se agrega la columna numClusters que corresponde a la cantidad de clusters de kmeans."
   ]
  },
  {
   "cell_type": "code",
   "execution_count": 4,
   "metadata": {},
   "outputs": [],
   "source": [
    "from time import time\n",
    "from sklearn import metrics\n",
    "from sklearn.pipeline import make_pipeline\n",
    "from sklearn.preprocessing import StandardScaler"
   ]
  },
  {
   "cell_type": "code",
   "execution_count": 5,
   "metadata": {},
   "outputs": [],
   "source": [
    "def bench_k_means(kmeans, name, data, labels, numClusters):\n",
    "    \"\"\"Benchmark to evaluate the KMeans initialization methods.\n",
    "\n",
    "    Parameters\n",
    "    ----------\n",
    "        \n",
    "    kmeans : KMeans instance\n",
    "        A :class:`~sklearn.cluster.KMeans` instance with the initialization\n",
    "        already set.\n",
    "    name : str\n",
    "        Name given to the strategy. It will be used to show the results in a\n",
    "        table.\n",
    "    data : ndarray of shape (n_samples, n_features)\n",
    "        The data to cluster.\n",
    "    labels : ndarray of shape (n_samples,)\n",
    "        The labels used to compute the clustering metrics which requires some\n",
    "        supervision.\n",
    "    numClusters: int\n",
    "        The numbers of the Clusters used in kmeans.\n",
    "    \"\"\"\n",
    "    t0 = time()\n",
    "    estimator = make_pipeline(StandardScaler(), kmeans).fit(data)\n",
    "    fit_time = time() - t0\n",
    "    results = [name, fit_time, estimator[-1].inertia_,numClusters]\n",
    "\n",
    "    # Define the metrics which require only the true labels and estimator\n",
    "    # labels\n",
    "    clustering_metrics = [\n",
    "        metrics.homogeneity_score,\n",
    "        metrics.completeness_score,\n",
    "        metrics.v_measure_score,\n",
    "        metrics.adjusted_rand_score,\n",
    "        metrics.adjusted_mutual_info_score,\n",
    "    ]\n",
    "    results += [m(labels, estimator[-1].labels_) for m in clustering_metrics]\n",
    "\n",
    "    # The silhouette score requires the full dataset\n",
    "    results += [\n",
    "        metrics.silhouette_score(data, estimator[-1].labels_,\n",
    "                                 metric=\"euclidean\", sample_size=600,)\n",
    "    ]\n",
    "\n",
    "    # Show the results\n",
    "    formatter_result = (\"{:9s}\\t{:.3f}s\\t{:.0f}\\t{:.0f}\\t{:.3f}\\t{:.3f}\"\n",
    "                        \"\\t{:.3f}\\t{:.3f}\\t{:.3f}\\t{:.3f}\")\n",
    "    print(formatter_result.format(*results))"
   ]
  },
  {
   "cell_type": "markdown",
   "metadata": {},
   "source": [
    "### Benchmark de DBSCAN y aglomerativo.\n",
    "\n",
    "Dado que ya se definió bench_kmeans para poder evaluar el puntaje de los puntos escogidos aleatoriamente, ahora se define la función bench_clustering2 que se utiliza para obtener el benchmark del metodo DBSCAN y el clustering aglomerativo."
   ]
  },
  {
   "cell_type": "code",
   "execution_count": 190,
   "metadata": {},
   "outputs": [],
   "source": [
    "def bench_clustering2(algorithm, name, data, labels, numClusters, useAll):\n",
    "    \n",
    "    t0 = time()\n",
    "    estimator = make_pipeline(StandardScaler(), algorithm).fit(data)\n",
    "    fit_time = time() - t0\n",
    "    results = [name, fit_time]\n",
    "    \n",
    "    clustering_metrics = [\n",
    "        metrics.homogeneity_score,\n",
    "        metrics.completeness_score,\n",
    "        metrics.v_measure_score,\n",
    "        metrics.adjusted_rand_score,\n",
    "        metrics.adjusted_mutual_info_score,\n",
    "    ]\n",
    "    newValues=estimator[-1].labels_\n",
    "    newLabels=labels\n",
    "    if (useAll and name.__contains__(\"DBSCAN\")):\n",
    "        newValues[newValues == -1 ] = 10\n",
    "    \n",
    "    elif (useAll==False and name.__contains__(\"DBSCAN\")):\n",
    "        index=np.where(newValues != -1)\n",
    "        newLabels=np.take(labels,index[0])\n",
    "        newValues=newValues[newValues!=-1]\n",
    "        \n",
    "    diffClusters=np.unique(newValues)\n",
    "    results +=[len(diffClusters)]\n",
    "        \n",
    "    results += [m(newLabels, newValues) for m in clustering_metrics]\n",
    "    \n",
    "    if (len(diffClusters)>=3):\n",
    "        # The silhouette score requires the full dataset\n",
    "        results += [\n",
    "            metrics.silhouette_score(data, estimator[-1].labels_,\n",
    "                                 metric=\"euclidean\", sample_size=1000,)\n",
    "        ]\n",
    "        # Show the results\n",
    "        formatter_result = (\"{:9s}\\t{:.3f}s\\t{:.0f}\\t{:.3f}\\t{:.3f}\"\n",
    "                        \"\\t{:.3f}\\t{:.3f}\\t{:.3f}\\t{:.3f}\")\n",
    "        print(formatter_result.format(*results))\n",
    "\n",
    "    "
   ]
  },
  {
   "cell_type": "markdown",
   "metadata": {},
   "source": [
    "# Experimentos"
   ]
  },
  {
   "cell_type": "markdown",
   "metadata": {},
   "source": [
    "## 1. Kmeans (con inicializacion al azar)\n",
    "\n",
    "Asumiendo 10 clusters como nos piden, esto da:"
   ]
  },
  {
   "cell_type": "code",
   "execution_count": 11,
   "metadata": {},
   "outputs": [],
   "source": [
    "from sklearn.cluster import KMeans\n",
    "import numpy as np\n",
    "import matplotlib.pyplot as plt"
   ]
  },
  {
   "cell_type": "code",
   "execution_count": 191,
   "metadata": {},
   "outputs": [
    {
     "data": {
      "text/plain": [
       "0       0\n",
       "1       0\n",
       "2       0\n",
       "3       0\n",
       "4       0\n",
       "       ..\n",
       "7190    9\n",
       "7191    9\n",
       "7192    9\n",
       "7193    9\n",
       "7194    9\n",
       "Name: Species, Length: 7195, dtype: int64"
      ]
     },
     "execution_count": 191,
     "metadata": {},
     "output_type": "execute_result"
    }
   ],
   "source": [
    "X=df.iloc[:,0:22]\n",
    "y=df.iloc[:,24]\n",
    "y"
   ]
  },
  {
   "cell_type": "code",
   "execution_count": 16,
   "metadata": {},
   "outputs": [],
   "source": [
    "kmeans = KMeans(n_clusters=10)\n",
    "name=\"Kmeans\"\n",
    "numClusters=10"
   ]
  },
  {
   "cell_type": "markdown",
   "metadata": {},
   "source": [
    "Ahora obtenemos los resultados del Cluster utilizando kmeans con el benchmark, tambien imprimimos el valor \"clust\" que corresponde a la cantidad de Clusters elegidos, en este caso 10."
   ]
  },
  {
   "cell_type": "code",
   "execution_count": 17,
   "metadata": {},
   "outputs": [
    {
     "name": "stdout",
     "output_type": "stream",
     "text": [
      "init\t\ttime\tinertia\tclust\thomo\tcompl\tv-means\tARI\tAMI\tsilhouette\n",
      "Kmeans   \t1.109s\t51638\t10\t0.695\t0.583\t0.634\t0.551\t0.633\t0.251\n"
     ]
    }
   ],
   "source": [
    "print('init\\t\\ttime\\tinertia\\tclust\\thomo\\tcompl\\tv-means\\tARI\\tAMI\\tsilhouette')\n",
    "bench_k_means(kmeans, name, X, y, numClusters)"
   ]
  },
  {
   "cell_type": "markdown",
   "metadata": {},
   "source": [
    "## 2. Kmeans++\n",
    "\n",
    "Utilizando la implementacion dada por scikit-learn, se utiliza el benchmark ya definido para kmeans."
   ]
  },
  {
   "cell_type": "code",
   "execution_count": 21,
   "metadata": {},
   "outputs": [],
   "source": [
    "name2=\"Kmeans++\""
   ]
  },
  {
   "cell_type": "code",
   "execution_count": 22,
   "metadata": {},
   "outputs": [],
   "source": [
    "kmeansplus = KMeans(init=\"k-means++\", n_clusters=10)"
   ]
  },
  {
   "cell_type": "code",
   "execution_count": 23,
   "metadata": {},
   "outputs": [
    {
     "name": "stdout",
     "output_type": "stream",
     "text": [
      "init\t\ttime\tinertia\tclust\thomo\tcompl\tv-means\tARI\tAMI\tsilhouette\n",
      "Kmeans++ \t0.951s\t51302\t10\t0.746\t0.639\t0.689\t0.590\t0.688\t0.288\n"
     ]
    }
   ],
   "source": [
    "print('init\\t\\ttime\\tinertia\\tclust\\thomo\\tcompl\\tv-means\\tARI\\tAMI\\tsilhouette')\n",
    "bench_k_means(kmeansplus,name2,X,y,numClusters)"
   ]
  },
  {
   "cell_type": "markdown",
   "metadata": {},
   "source": [
    "Los resultados son muy similares al caso anterior, con inertia teniendo una diferencia de 300 valores. Por otro lado la metrica \"homo\" subio respecto al experimento 1. Lo mismo con \"compl\". En general todas las metricas subieron de valor."
   ]
  },
  {
   "cell_type": "markdown",
   "metadata": {},
   "source": [
    "En general, se puede ver que hay una mejora respecto al experimento 1."
   ]
  },
  {
   "cell_type": "markdown",
   "metadata": {},
   "source": [
    "## 3. DBSCAN con epsilon de defecto"
   ]
  },
  {
   "cell_type": "code",
   "execution_count": 92,
   "metadata": {},
   "outputs": [],
   "source": [
    "from sklearn.cluster import DBSCAN"
   ]
  },
  {
   "cell_type": "code",
   "execution_count": 97,
   "metadata": {},
   "outputs": [],
   "source": [
    "name3=\"DBSCAN defecto\"\n",
    "useAll=False"
   ]
  },
  {
   "cell_type": "code",
   "execution_count": 98,
   "metadata": {},
   "outputs": [],
   "source": [
    "dbscan=DBSCAN()"
   ]
  },
  {
   "cell_type": "markdown",
   "metadata": {},
   "source": [
    "Ahora veamos sus resultados utilizando el benchmark definido anteriormente."
   ]
  },
  {
   "cell_type": "code",
   "execution_count": 99,
   "metadata": {},
   "outputs": [
    {
     "name": "stdout",
     "output_type": "stream",
     "text": [
      "init\t\ttime\tclust\thomo\tcompl\tv-means\tARI\tAMI\tsilhouette\n",
      "DBSCAN defecto\t2.309s\t8\t1.000\t0.327\t0.493\t0.256\t0.483\t-0.207\n"
     ]
    }
   ],
   "source": [
    "print('init\\t\\ttime\\tclust\\thomo\\tcompl\\tv-means\\tARI\\tAMI\\tsilhouette')\n",
    "bench_clustering2(dbscan,name3,X,y,numClusters,useAll)"
   ]
  },
  {
   "cell_type": "markdown",
   "metadata": {},
   "source": [
    "Comparando estos valores con los obtenidos con el Kmeans, se puede ver que hubo más homogeneidad, dado que aqui es 1 comparado con los otros valores que son menores que 1. \n",
    "\n",
    "Por otro lado si vemos cuantos clusters forma, se puede ver que obtiene 8 clusters versus los 10 clusters que hay definidos en el enunciado.\n",
    "\n",
    "Respecto a las otras metricas, se ve que obtiene peores resultados que los valores anteriores. En general, se ve que no son tan buenos resultados comparado a Kmeans. Algo notable es que la metrica \"silhouette\"  cambia de signo."
   ]
  },
  {
   "cell_type": "markdown",
   "metadata": {},
   "source": [
    "## 4. DBSCAN con epsilon=0.7"
   ]
  },
  {
   "cell_type": "code",
   "execution_count": 100,
   "metadata": {},
   "outputs": [],
   "source": [
    "name4=\"DBSCAN 0.7\""
   ]
  },
  {
   "cell_type": "code",
   "execution_count": 101,
   "metadata": {},
   "outputs": [],
   "source": [
    "dbscan_07=DBSCAN(eps=0.7)"
   ]
  },
  {
   "cell_type": "code",
   "execution_count": 102,
   "metadata": {},
   "outputs": [
    {
     "name": "stdout",
     "output_type": "stream",
     "text": [
      "init\t\ttime\tclust\thomo\tcompl\tv-means\tARI\tAMI\tsilhouette\n",
      "DBSCAN 0.7\t3.037s\t13\t1.000\t0.585\t0.738\t0.450\t0.730\t-0.157\n"
     ]
    }
   ],
   "source": [
    "print('init\\t\\ttime\\tclust\\thomo\\tcompl\\tv-means\\tARI\\tAMI\\tsilhouette')\n",
    "bench_clustering2(dbscan_07,name4,X,y,numClusters,False)"
   ]
  },
  {
   "cell_type": "markdown",
   "metadata": {},
   "source": [
    "Se ve que aqui se obtiene el mismo valor de \"homo\" que el otro DBSCAN, pero con distinta cantidad de clusters, incluso mayor a los que hay, puesto que aqui hay 13 clusters definido.\n",
    "\n",
    "Con respecto a los otros valores, se ven mucho mejores valores que con epsilon estandar, es decir 0.5. Puesto que obtiene mejor \"v-means\" que incluso Kmeans. Lo mismo con el valor \"AMI\". \n",
    "\n",
    "Para las otras metricas, se obtienen resultados peores que con Kmeans. Y por ultimo, ocurre algo extraño con \"silhouette\" al tener nuevamente el signo cambiado."
   ]
  },
  {
   "cell_type": "markdown",
   "metadata": {},
   "source": [
    "## 5. DBSCAN con epsilon=0.2"
   ]
  },
  {
   "cell_type": "code",
   "execution_count": 103,
   "metadata": {},
   "outputs": [],
   "source": [
    "name5=\"DBSCAN 0.2\""
   ]
  },
  {
   "cell_type": "code",
   "execution_count": 104,
   "metadata": {},
   "outputs": [],
   "source": [
    "dbscan_02=DBSCAN(eps=0.2)"
   ]
  },
  {
   "cell_type": "code",
   "execution_count": 105,
   "metadata": {},
   "outputs": [
    {
     "name": "stdout",
     "output_type": "stream",
     "text": [
      "init\t\ttime\tclust\thomo\tcompl\tv-means\tARI\tAMI\tsilhouette\n",
      "DBSCAN 0.2\t1.529s\t2\t1.000\t0.000\t0.000\t0.000\t0.000\t-0.072\n"
     ]
    }
   ],
   "source": [
    "print('init\\t\\ttime\\tclust\\thomo\\tcompl\\tv-means\\tARI\\tAMI\\tsilhouette')\n",
    "bench_clustering2(dbscan_02,name5,X,y,numClusters,False)"
   ]
  },
  {
   "cell_type": "markdown",
   "metadata": {},
   "source": [
    "Con epsilon=0.2 se obtiene 1.00 en \"homo\" al igual que con los otros DBSCAN, pero con 2 clusters. Pero no obtiene ningun resultado notable, puesto que obtiene 0.0 en casi todas las metricas."
   ]
  },
  {
   "cell_type": "markdown",
   "metadata": {},
   "source": [
    "## 6. DBSCAN con épsilon por defecto, agregando outliers a cluster extra "
   ]
  },
  {
   "cell_type": "code",
   "execution_count": 106,
   "metadata": {},
   "outputs": [],
   "source": [
    "name6=\"DBSCAN exClus\"\n",
    "useAll=True"
   ]
  },
  {
   "cell_type": "code",
   "execution_count": 192,
   "metadata": {},
   "outputs": [],
   "source": [
    "dbscanExtraCluster=DBSCAN()"
   ]
  },
  {
   "cell_type": "code",
   "execution_count": 193,
   "metadata": {},
   "outputs": [
    {
     "name": "stdout",
     "output_type": "stream",
     "text": [
      "init\t\ttime\tclust\thomo\tcompl\tv-means\tARI\tAMI\tsilhouette\n",
      "DBSCAN exClus\t2.271s\t9\t0.074\t0.451\t0.127\t0.049\t0.123\t-0.205\n"
     ]
    }
   ],
   "source": [
    "print('init\\t\\ttime\\tclust\\thomo\\tcompl\\tv-means\\tARI\\tAMI\\tsilhouette')\n",
    "bench_clustering2(dbscanExtraCluster,name6,X,y,numClusters,True)"
   ]
  },
  {
   "cell_type": "markdown",
   "metadata": {},
   "source": [
    "Se obtiene 9 clusters, pero con \"homo\" mas baja que sin el cluster de outliers. Dado que este obtuvo 8, se puede ver que formo los mismos clusters mas el outlier.\n",
    "\n",
    "Sus resultados son bastantes mas bajos que sin el cluster outlier. "
   ]
  },
  {
   "cell_type": "markdown",
   "metadata": {},
   "source": [
    "## 7. DBSCAN con épsilon 0.7, agregando outliers a cluster extra"
   ]
  },
  {
   "cell_type": "code",
   "execution_count": 109,
   "metadata": {},
   "outputs": [],
   "source": [
    "name7=\"DBSCAN 0.7 EC\""
   ]
  },
  {
   "cell_type": "code",
   "execution_count": 194,
   "metadata": {},
   "outputs": [],
   "source": [
    "dbscanExtraCluster_07=DBSCAN(eps=0.7)"
   ]
  },
  {
   "cell_type": "code",
   "execution_count": 195,
   "metadata": {},
   "outputs": [
    {
     "name": "stdout",
     "output_type": "stream",
     "text": [
      "init\t\ttime\tclust\thomo\tcompl\tv-means\tARI\tAMI\tsilhouette\n",
      "DBSCAN 0.7 EC\t3.056s\t13\t0.157\t0.516\t0.240\t0.120\t0.235\t-0.263\n"
     ]
    }
   ],
   "source": [
    "print('init\\t\\ttime\\tclust\\thomo\\tcompl\\tv-means\\tARI\\tAMI\\tsilhouette')\n",
    "bench_clustering2(dbscanExtraCluster_07,name7,X,y,numClusters,True)"
   ]
  },
  {
   "cell_type": "markdown",
   "metadata": {},
   "source": [
    "Al igual que con DBSCAN 0.7 sin cluster outlier, obtiene 13 clusters. Pero obtiene peores resultados."
   ]
  },
  {
   "cell_type": "markdown",
   "metadata": {},
   "source": [
    "## 8. DBSCAN con épsilon 0.2, agregando outliers a cluster extra"
   ]
  },
  {
   "cell_type": "code",
   "execution_count": 112,
   "metadata": {},
   "outputs": [],
   "source": [
    "name8=\"DBSCAN 0.2 EC\""
   ]
  },
  {
   "cell_type": "code",
   "execution_count": 196,
   "metadata": {},
   "outputs": [],
   "source": [
    "dbscanExtraCluster_02=DBSCAN(eps=0.2)"
   ]
  },
  {
   "cell_type": "code",
   "execution_count": 197,
   "metadata": {},
   "outputs": [
    {
     "name": "stdout",
     "output_type": "stream",
     "text": [
      "init\t\ttime\tclust\thomo\tcompl\tv-means\tARI\tAMI\tsilhouette\n",
      "DBSCAN 0.2 EC\t1.342s\t3\t0.011\t0.677\t0.022\t0.006\t0.021\t-0.092\n"
     ]
    }
   ],
   "source": [
    "print('init\\t\\ttime\\tclust\\thomo\\tcompl\\tv-means\\tARI\\tAMI\\tsilhouette')\n",
    "bench_clustering2(dbscanExtraCluster_02,name8,X,y,numClusters,True)"
   ]
  },
  {
   "cell_type": "markdown",
   "metadata": {},
   "source": [
    "Obtiene mejores resultados que DBSCAN con epsilo 0.2, teniendo aqui 3 clusters. Sin embargo obtiene un valor decente de \"compl\"."
   ]
  },
  {
   "cell_type": "markdown",
   "metadata": {},
   "source": [
    "## 9 Clustering aglomerativo"
   ]
  },
  {
   "cell_type": "code",
   "execution_count": 46,
   "metadata": {},
   "outputs": [],
   "source": [
    "from sklearn.cluster import AgglomerativeClustering"
   ]
  },
  {
   "cell_type": "code",
   "execution_count": 198,
   "metadata": {},
   "outputs": [],
   "source": [
    "name9=\"Clustering\""
   ]
  },
  {
   "cell_type": "code",
   "execution_count": 199,
   "metadata": {},
   "outputs": [],
   "source": [
    "clustering = AgglomerativeClustering(n_clusters=numClusters)"
   ]
  },
  {
   "cell_type": "code",
   "execution_count": 218,
   "metadata": {},
   "outputs": [
    {
     "name": "stdout",
     "output_type": "stream",
     "text": [
      "init\t\ttime\tclust\thomo\tcompl\tv-meas\tARI\tAMI\tsilhouette\n",
      "Clustering\t2.571s\t10\t0.789\t0.661\t0.719\t0.590\t0.718\t0.249\n"
     ]
    }
   ],
   "source": [
    "print('init\\t\\ttime\\tclust\\thomo\\tcompl\\tv-meas\\tARI\\tAMI\\tsilhouette')\n",
    "bench_clustering2(clustering,name9,X,y,numClusters,useAll)"
   ]
  },
  {
   "cell_type": "markdown",
   "metadata": {},
   "source": [
    "De todos los experimentos, este es el que posee mejores valores en general. Obteniendo muy buen \"v-means\" y \"AMI\"."
   ]
  },
  {
   "cell_type": "markdown",
   "metadata": {},
   "source": [
    "## 10. Con PCA"
   ]
  },
  {
   "cell_type": "code",
   "execution_count": 50,
   "metadata": {},
   "outputs": [],
   "source": [
    "from sklearn.decomposition import PCA"
   ]
  },
  {
   "cell_type": "code",
   "execution_count": 201,
   "metadata": {},
   "outputs": [],
   "source": [
    "Xreducido=PCA(n_components=2).fit_transform(X)"
   ]
  },
  {
   "cell_type": "code",
   "execution_count": 202,
   "metadata": {},
   "outputs": [],
   "source": [
    "DfPCAKmeans = pd.DataFrame(data = Xreducido\n",
    "             , columns = ['Característica 1', 'Característica 2'])"
   ]
  },
  {
   "cell_type": "code",
   "execution_count": 203,
   "metadata": {},
   "outputs": [
    {
     "data": {
      "text/html": [
       "<div>\n",
       "<style scoped>\n",
       "    .dataframe tbody tr th:only-of-type {\n",
       "        vertical-align: middle;\n",
       "    }\n",
       "\n",
       "    .dataframe tbody tr th {\n",
       "        vertical-align: top;\n",
       "    }\n",
       "\n",
       "    .dataframe thead th {\n",
       "        text-align: right;\n",
       "    }\n",
       "</style>\n",
       "<table border=\"1\" class=\"dataframe\">\n",
       "  <thead>\n",
       "    <tr style=\"text-align: right;\">\n",
       "      <th></th>\n",
       "      <th>Característica 1</th>\n",
       "      <th>Característica 2</th>\n",
       "      <th>Species</th>\n",
       "    </tr>\n",
       "  </thead>\n",
       "  <tbody>\n",
       "    <tr>\n",
       "      <td>0</td>\n",
       "      <td>-0.469179</td>\n",
       "      <td>-0.695615</td>\n",
       "      <td>0</td>\n",
       "    </tr>\n",
       "    <tr>\n",
       "      <td>1</td>\n",
       "      <td>-0.514870</td>\n",
       "      <td>-0.721527</td>\n",
       "      <td>0</td>\n",
       "    </tr>\n",
       "    <tr>\n",
       "      <td>2</td>\n",
       "      <td>-0.476569</td>\n",
       "      <td>-0.704513</td>\n",
       "      <td>0</td>\n",
       "    </tr>\n",
       "    <tr>\n",
       "      <td>3</td>\n",
       "      <td>-0.537135</td>\n",
       "      <td>-0.590022</td>\n",
       "      <td>0</td>\n",
       "    </tr>\n",
       "    <tr>\n",
       "      <td>4</td>\n",
       "      <td>-0.501557</td>\n",
       "      <td>-0.768868</td>\n",
       "      <td>0</td>\n",
       "    </tr>\n",
       "    <tr>\n",
       "      <td>...</td>\n",
       "      <td>...</td>\n",
       "      <td>...</td>\n",
       "      <td>...</td>\n",
       "    </tr>\n",
       "    <tr>\n",
       "      <td>7190</td>\n",
       "      <td>-0.177634</td>\n",
       "      <td>-0.979838</td>\n",
       "      <td>9</td>\n",
       "    </tr>\n",
       "    <tr>\n",
       "      <td>7191</td>\n",
       "      <td>-0.154381</td>\n",
       "      <td>-0.981423</td>\n",
       "      <td>9</td>\n",
       "    </tr>\n",
       "    <tr>\n",
       "      <td>7192</td>\n",
       "      <td>-0.139819</td>\n",
       "      <td>-0.988282</td>\n",
       "      <td>9</td>\n",
       "    </tr>\n",
       "    <tr>\n",
       "      <td>7193</td>\n",
       "      <td>-0.178104</td>\n",
       "      <td>-0.957182</td>\n",
       "      <td>9</td>\n",
       "    </tr>\n",
       "    <tr>\n",
       "      <td>7194</td>\n",
       "      <td>-0.169372</td>\n",
       "      <td>-0.954656</td>\n",
       "      <td>9</td>\n",
       "    </tr>\n",
       "  </tbody>\n",
       "</table>\n",
       "<p>7195 rows × 3 columns</p>\n",
       "</div>"
      ],
      "text/plain": [
       "      Característica 1  Característica 2  Species\n",
       "0            -0.469179         -0.695615        0\n",
       "1            -0.514870         -0.721527        0\n",
       "2            -0.476569         -0.704513        0\n",
       "3            -0.537135         -0.590022        0\n",
       "4            -0.501557         -0.768868        0\n",
       "...                ...               ...      ...\n",
       "7190         -0.177634         -0.979838        9\n",
       "7191         -0.154381         -0.981423        9\n",
       "7192         -0.139819         -0.988282        9\n",
       "7193         -0.178104         -0.957182        9\n",
       "7194         -0.169372         -0.954656        9\n",
       "\n",
       "[7195 rows x 3 columns]"
      ]
     },
     "execution_count": 203,
     "metadata": {},
     "output_type": "execute_result"
    }
   ],
   "source": [
    "finalDf = pd.concat([DfPCAKmeans, y], axis = 1)\n",
    "finalDf"
   ]
  },
  {
   "cell_type": "code",
   "execution_count": 204,
   "metadata": {},
   "outputs": [
    {
     "data": {
      "image/png": "[encoded data removed]",
      "text/plain": [
       "<Figure size 576x576 with 1 Axes>"
      ]
     },
     "metadata": {
      "needs_background": "light"
     },
     "output_type": "display_data"
    }
   ],
   "source": [
    "fig = plt.figure(figsize = (8,8))\n",
    "ax = fig.add_subplot(1,1,1) \n",
    "ax.set_xlabel('Caracteristica 1', fontsize = 15)\n",
    "ax.set_ylabel('Caracteristica 2', fontsize = 15)\n",
    "ax.set_title('X reducido con PCA', fontsize = 20)\n",
    "\n",
    "colors=['r','g','b','m','k','c','maroon','navy','violet']\n",
    "targets=[0,1,2,3,4,5,6,7,8,9]\n",
    "\n",
    "for target, color in zip(targets,colors):\n",
    "    indicesToKeep = finalDf['Species'] == target\n",
    "    ax.scatter(finalDf.loc[indicesToKeep, 'Característica 1']\n",
    "               , finalDf.loc[indicesToKeep, 'Característica 2']\n",
    "               , c = color\n",
    "               , s = 50)\n",
    "ax.legend(targets)\n",
    "ax.grid()"
   ]
  },
  {
   "cell_type": "markdown",
   "metadata": {},
   "source": [
    "### Kmeans\n",
    "\n",
    "Ahora que reducimos los valores, veamos los resultados de esto."
   ]
  },
  {
   "cell_type": "code",
   "execution_count": 221,
   "metadata": {},
   "outputs": [
    {
     "name": "stdout",
     "output_type": "stream",
     "text": [
      "init\t\ttime\tinertia\tclust\thomo\tcompl\tv-meas\tARI\tAMI\tsilhouette\n",
      "Kmeans   \t0.263s\t943\t10\t0.671\t0.518\t0.585\t0.403\t0.583\t0.424\n"
     ]
    }
   ],
   "source": [
    "print('init\\t\\ttime\\tinertia\\tclust\\thomo\\tcompl\\tv-meas\\tARI\\tAMI\\tsilhouette')\n",
    "bench_k_means(kmeans, name, Xreducido, y, numClusters)"
   ]
  },
  {
   "cell_type": "markdown",
   "metadata": {},
   "source": [
    "Viendo los valores, se que hay un valor de \"inertia\" mucho menor que con el Kmeans sin el X reducido. Por otro lado no obtiene mejores valores que el experimento 1."
   ]
  },
  {
   "cell_type": "markdown",
   "metadata": {},
   "source": [
    "### Kmeans ++"
   ]
  },
  {
   "cell_type": "code",
   "execution_count": 222,
   "metadata": {},
   "outputs": [
    {
     "name": "stdout",
     "output_type": "stream",
     "text": [
      "init\t\ttime\tinertia\tclust\thomo\tcompl\tv-meas\tARI\tAMI\tsilhouette\n",
      "Kmeans++ \t0.274s\t942\t10\t0.671\t0.519\t0.585\t0.405\t0.584\t0.415\n"
     ]
    }
   ],
   "source": [
    "print('init\\t\\ttime\\tinertia\\tclust\\thomo\\tcompl\\tv-meas\\tARI\\tAMI\\tsilhouette')\n",
    "bench_k_means(kmeansplus,name2,Xreducido,y,numClusters)"
   ]
  },
  {
   "cell_type": "markdown",
   "metadata": {},
   "source": [
    "Lo mismo que con Kmeans, no posee mejoras respecto al otro valor."
   ]
  },
  {
   "cell_type": "markdown",
   "metadata": {},
   "source": [
    "### DBSCAN sin outliers"
   ]
  },
  {
   "cell_type": "code",
   "execution_count": 215,
   "metadata": {},
   "outputs": [
    {
     "name": "stdout",
     "output_type": "stream",
     "text": [
      "init\t\ttime\tclust\thomo\tcompl\tv-meas\tARI\tAMI\tsilhouette\n"
     ]
    }
   ],
   "source": [
    "print('init\\t\\ttime\\tclust\\thomo\\tcompl\\tv-meas\\tARI\\tAMI\\tsilhouette')\n",
    "bench_clustering2(dbscan,name3,Xreducido,y,numClusters,False)"
   ]
  },
  {
   "cell_type": "code",
   "execution_count": 214,
   "metadata": {},
   "outputs": [
    {
     "name": "stdout",
     "output_type": "stream",
     "text": [
      "init\t\ttime\tclust\thomo\tcompl\tv-meas\tARI\tAMI\tsilhouette\n"
     ]
    }
   ],
   "source": [
    "print('init\\t\\ttime\\tclust\\thomo\\tcompl\\tv-meas\\tARI\\tAMI\\tsilhouette')\n",
    "bench_clustering2(dbscan_07,name4,Xreducido,y,numClusters,False)"
   ]
  },
  {
   "cell_type": "code",
   "execution_count": 213,
   "metadata": {},
   "outputs": [
    {
     "name": "stdout",
     "output_type": "stream",
     "text": [
      "init\t\ttime\tclust\thomo\tcompl\tv-meas\tARI\tAMI\tsilhouette\n",
      "DBSCAN 0.2\t0.136s\t3\t0.002\t0.198\t0.004\t-0.001\t0.003\t0.011\n"
     ]
    }
   ],
   "source": [
    "print('init\\t\\ttime\\tclust\\thomo\\tcompl\\tv-meas\\tARI\\tAMI\\tsilhouette')\n",
    "bench_clustering2(dbscan_02,name5,Xreducido,y,numClusters,False)"
   ]
  },
  {
   "cell_type": "markdown",
   "metadata": {},
   "source": [
    "Los DBSCAN tienen tan pocos clusters que no pueden calcular resultados, salvo el caso que tiene 3 clusters con epsilon=0.2. En lo que respecta alos resultados no son distintos al estandar."
   ]
  },
  {
   "cell_type": "markdown",
   "metadata": {},
   "source": [
    "### DBSCAN con outliers como Cluster"
   ]
  },
  {
   "cell_type": "code",
   "execution_count": 210,
   "metadata": {},
   "outputs": [
    {
     "name": "stdout",
     "output_type": "stream",
     "text": [
      "init\t\ttime\tclust\thomo\tcompl\tv-meas\tARI\tAMI\tsilhouette\n"
     ]
    }
   ],
   "source": [
    "print('init\\t\\ttime\\tclust\\thomo\\tcompl\\tv-meas\\tARI\\tAMI\\tsilhouette')\n",
    "bench_clustering2(dbscanExtraCluster,name6,Xreducido,y,numClusters,True)"
   ]
  },
  {
   "cell_type": "code",
   "execution_count": 211,
   "metadata": {},
   "outputs": [
    {
     "name": "stdout",
     "output_type": "stream",
     "text": [
      "init\t\ttime\tclust\thomo\tcompl\tv-meas\tARI\tAMI\tsilhouette\n"
     ]
    }
   ],
   "source": [
    "print('init\\t\\ttime\\tclust\\thomo\\tcompl\\tv-meas\\tARI\\tAMI\\tsilhouette')\n",
    "bench_clustering2(dbscanExtraCluster_07,name7,Xreducido,y,numClusters,True)"
   ]
  },
  {
   "cell_type": "code",
   "execution_count": 212,
   "metadata": {},
   "outputs": [
    {
     "name": "stdout",
     "output_type": "stream",
     "text": [
      "init\t\ttime\tclust\thomo\tcompl\tv-meas\tARI\tAMI\tsilhouette\n",
      "DBSCAN 0.2 EC\t0.170s\t4\t0.004\t0.103\t0.007\t0.001\t0.005\t0.105\n"
     ]
    }
   ],
   "source": [
    "print('init\\t\\ttime\\tclust\\thomo\\tcompl\\tv-meas\\tARI\\tAMI\\tsilhouette')\n",
    "bench_clustering2(dbscanExtraCluster_02,name8,Xreducido,y,numClusters,True)"
   ]
  },
  {
   "cell_type": "markdown",
   "metadata": {},
   "source": [
    "Lo mismo ocurre aqui con los outliers como cluster, no se pueden calcular los resultados para epsilon=0.5 y epsilon=0.7. Para epsilon=0.2 se ve resultados."
   ]
  },
  {
   "cell_type": "markdown",
   "metadata": {},
   "source": [
    "### Clustering Aglomerativo"
   ]
  },
  {
   "cell_type": "code",
   "execution_count": 209,
   "metadata": {},
   "outputs": [
    {
     "name": "stdout",
     "output_type": "stream",
     "text": [
      "init\t\ttime\tclust\thomo\tcompl\tv-meas\tARI\tAMI\tsilhouette\n",
      "Clustering\t4.120s\t10\t0.649\t0.490\t0.558\t0.350\t0.557\t0.343\n"
     ]
    }
   ],
   "source": [
    "print('init\\t\\ttime\\tclust\\thomo\\tcompl\\tv-meas\\tARI\\tAMI\\tsilhouette')\n",
    "bench_clustering2(clustering,name9,Xreducido,y,numClusters,False)"
   ]
  },
  {
   "cell_type": "markdown",
   "metadata": {},
   "source": [
    "Posee resultados muy similares a Kmeans, igual a como ocurre con el X normal."
   ]
  },
  {
   "cell_type": "markdown",
   "metadata": {},
   "source": [
    "# Análisis"
   ]
  },
  {
   "cell_type": "markdown",
   "metadata": {},
   "source": [
    "### a) \n",
    "\n",
    "Para \"compl\" se puede ver que quien obtuvo mejores resultados fue: DBSCAN con epsilon 0.2 con outliers como cluster extra y el que obtuvo peores fue DBSCAN con epsilon 0.2 sin outliers. Su mejor valor fue 0.677 y su peor es 0.000.\n",
    "\n",
    "Para \"homo\" los DBSCAN obtuvieron los mejores valores en todas las pruebas con X reducido y completo sin outliers Y por otro quien obtuvo el peor resultado fue DBSCAN con outlier como cluster extra en epsilon =0.2. Este valor va de 1.000 a 0.011.\n",
    "\n",
    "Para \"v-meas\" el que obtuvo mejor resultado tambien fue DBSCAN sin outliers y con epsilon=0.7. Y el que peor resultado obtuvo fue DBSCAN con epsilon=0.2 sin outliers. Este valor va de 0.738 a 0.000\n",
    "\n",
    "Para \"silhouette\" el que obtuvo mejor resultado fue KMeans con PCA dando 0.424  y el peor DBSCAN con 0.7 con cluster de outliers extra con -0.263."
   ]
  },
  {
   "cell_type": "markdown",
   "metadata": {},
   "source": [
    "### b)\n",
    "\n",
    "Los valores que no pudieron ser calculados fueron con reduccion de PCA, para epsilon estandar y epsilon=0.7, tanto para sin outliers y con outliers como cluster extra.\n",
    "\n",
    "Para epsilon=0.5 se obtuvieron 8 clusters sin outlier, y 9 con outliers.\n",
    "\n",
    "Para epsilon=0.7 se obtuvieron 13 clusters para ambos casos.\n",
    "\n",
    "Y con epsilon=0.2 se obtuvieron 2 cluster sin outlier y 3 con outlier como cluster extra. \n",
    "Con PCA se obtuvo 4 clusters con epsilon=0.2 con cluster extra y 3 sin outliers.\n",
    "\n",
    "Con esto se puede concluir varias cosas: primero, el considerar los outliers o quitarlos del conjunto de datos tiene efecto en la cantidad de clusters formado, como seria evidente. Puesto que para la mayoria de casos aumento en 1 la cantidad de clusters formados. Segundo, al cambiar el epsilon, aumenta la cantidad de clusters, puesto que mientras mas altos es el epsilon mas cantidad de clusters se forman, como con 0.5 se formaron 8 y con 0.7 se formaron 13. Para un epsilon menor, se generan menos clusters. Entonces, se puede concluir que la cantidad de clusters es proporcional al epsilon escogido.\n",
    "\n",
    "En general se puede ver que al tener mas clusters genera mejores resultados, puesto que con 13 se obtienen mejores resultados que con 8 clusters. Y lo mismo con 8 respecto a 2. Esto es en general dentro de los experimentos de la misma categoria.\n",
    "\n",
    "Ahora si consideramos el efecto en considerar los outliers, se puede ver que al considerar al outlier como cluster extra, se obtienen peores resultados. El valor de homogeneidad baja entre experimentos y las metricas como v-meas cambian muchisimo respecto a que si los sacamos. Por lo que se puede considerar que los outliers tienen bastante peso en generar los clusters y calcular metricas."
   ]
  },
  {
   "cell_type": "markdown",
   "metadata": {},
   "source": [
    "### c) \n",
    "En general al ver los valores, se puede ver que obtuvieron peores resultados para todos los metodos de Clustering. En particular DBSCAN salio bastante perjudicado bajando de tener un buen rendimiento sin outliers a ser incapaz de poder medir los resultados debido a la falta de etiquetas. Tanto los valores de Kmeans y Clustering Aglomerativo que obtuvieron valores en general buenos bajaron de estar con 0.6 en casi todas las metricas a tener 0.5, y los valores que tenia 0.7 sin PCA ahora son 0.55. Por lo que se puede ver que al reducir la dimensionalidad, el problema es mas dificil de agrupar correctamente. Y al ver el grafico con los Clusters se puede ver por que, porque al menos con 2 dimensiones estan se superponen entre si, algo que a lo mejor no ocurria con mas dimensiones, y que eran mas separables.\n",
    "\n",
    "Como conclusion se puede decir, que por lo menos para este problema, reducir la dimensionalidad con PCA no ayuda al problema, sino que lo hace mas dificil de agrupar."
   ]
  }
 ],
 "metadata": {
  "kernelspec": {
   "display_name": "Python 3",
   "language": "python",
   "name": "python3"
  },
  "language_info": {
   "codemirror_mode": {
    "name": "ipython",
    "version": 3
   },
   "file_extension": ".py",
   "mimetype": "text/x-python",
   "name": "python",
   "nbconvert_exporter": "python",
   "pygments_lexer": "ipython3",
   "version": "3.7.1"
  }
 },
 "nbformat": 4,
 "nbformat_minor": 2
}
