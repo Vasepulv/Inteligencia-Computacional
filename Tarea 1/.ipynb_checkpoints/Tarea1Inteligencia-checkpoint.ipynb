{
 "cells": [
  {
   "cell_type": "markdown",
   "metadata": {},
   "source": [
    "# Introduccion\n",
    "\n",
    "La Inteligencia Computacional, es una rama antigua, y es lo que se refiere a la parte computacional de los inteligencia artificial. La inteligencia artificial se define como la capacidad de un sistema para adaptar su conducta frente a estímulos nuevos.\n",
    "\n",
    "Como tal, la inteligencia artificial tiene una rama que se enfoca en el aprendizaje, y esto es lo que conocemos como Machine Learning. Y de este tiene tres tipos de aprendizaje: supervisado, no supervisado y reforzado. En este caso se enfocará en el aprendizaje supervisado.\n",
    "\n",
    "El aprendizaje supervisado, consiste en \"entrenar\" un clasificador para que pueda determinar a que clase es el objeto que se da. En resumir poder clasificar patrones. Para esto recibe un \"entrenamiento\". Este consiste en que recibe una señal y luego se compara con el valor real, y en base a esto, se calcula el error. Mientras más pequeño el error, mejor se considera el clasificador. Con cada iteración se va modificando este valor.\n",
    "\n",
    "Al terminar de entrenarlo, se \"prueba\" el clasificador con valores nuevos, y en base a sus resultados se concluye la calidad del modelo. Para esto hay varios tipos de clasificadores: En particular el que se usará es el Naive Bayes.\n",
    "\n",
    "Este toma el teorema de Bayes para escoger cual de las dos clases es la más acertada. Esto se hace calculando la probabilidad de que sea clase $a$ versus sea clase $b$, y se escoge la mas alta. Para esto se necesita calcular la verosimilitud de las probabilidades.\n",
    "\n",
    "Hay dos maneras de hacerlo: con Histograma, que es el modelo utilizado en la Pregunta 2, y con aproximaciones mediante Gaussianas, que es el modelo utilizado en la Pregunta 3.\n",
    "\n",
    "Para hacer este experimento, se utilizan los datos de un conjunto de simulaciones, la idea es definir si el rayo descrito es un hadrón, o un no-hadron, para esto se describe en base a 10 características. Estos datos se exploran en mayor detalle en la sección de la Pregunta 1, donde se ve su histograma de distribución.\n",
    "\n",
    "El primer modelo, se calcula un histograma para cada característica de los datos de entrenamientos. Así se generará 10 histogramas. Luego para calcular las probabilidades, se consultará su valor en un tabla, que será el histograma que se consiguió en el entrenamiento. Este proceso se hace para cada clase. Al final para obtener los resultados se calcula la Tasa de Verdaderos Positivos y la Tasa de Falsos Positivos, y se comparan mediante la curva ROC.\n",
    "\n",
    "Para el segundo método, se obtiene la matriz de varianza y la media, en base a los datos de entrenamiento. Luego cuando se usan los datos de pruebas, se calcula el valor de la Gaussiana Multivariada usando la matriz de covarianza y la media. Al obtener el resultado se compara con el valor \"real\", y se obtiene la Tasa de Verdaderos Positivos y la Tasa de Falsos Positivos, las cuales son comparadas mediante la curva ROC. Además de esta, también se calcula la curva Precision-Recall, en base a como su nombre lo indica la Precision y el Recall de los datos.\n",
    "\n",
    "Por ultimo, en la Pregunta 4, se comparan los dos modelos con las curvas ROC, y Precision-Recall, mediante variando el valor de $\\theta$, que sería como la tolerancia del modelo. Si la tasa de la probabilidad de la clase $a$ versus el $b$ es mayor a este $\\theta$, entonces se escoge la clase 1, sino la clase 0.\n",
    "\n",
    "Para esto se usaran las librerías de numpy, scikit-learn, pandas y matplotlib."
   ]
  },
  {
   "cell_type": "markdown",
   "metadata": {},
   "source": [
    "# Desarrollo"
   ]
  },
  {
   "cell_type": "code",
   "execution_count": 2,
   "metadata": {
    "id": "tOkoFvkeJlN0"
   },
   "outputs": [],
   "source": [
    "import pandas as pd\n",
    "import matplotlib.pyplot as plt\n",
    "import numpy as np\n",
    "import seaborn as sb"
   ]
  },
  {
   "cell_type": "markdown",
   "metadata": {
    "id": "bLqrv2RhJ8bf"
   },
   "source": [
    "## Pregunta 1\n",
    "\n",
    "Primero cargamos los datos del *magic04.data*, con la libreria pandas."
   ]
  },
  {
   "cell_type": "code",
   "execution_count": 1,
   "metadata": {},
   "outputs": [],
   "source": [
    "from sklearn.utils import resample"
   ]
  },
  {
   "cell_type": "code",
   "execution_count": 3,
   "metadata": {
    "id": "tXCm9VvxJnn6"
   },
   "outputs": [],
   "source": [
    "datos=pd.read_csv(\"magic04.data\",  names=['fLength', 'fWidth', 'fSize', 'fConc', 'fConc1',\n",
    "'fAsym', 'fM3Long', 'fM3Trans', 'fAlpha', 'fDist', 'class']\n",
    ")"
   ]
  },
  {
   "cell_type": "markdown",
   "metadata": {
    "id": "qT7oFPpeP7Fa"
   },
   "source": [
    "Luego separamos los datos en dos clases: Hadrones y no Hadrones. Identificando a $g$ como la clase de los no hadrones, y a $h$ como la clase de los hadrones."
   ]
  },
  {
   "cell_type": "code",
   "execution_count": 4,
   "metadata": {
    "colab": {
     "base_uri": "https://localhost:8080/"
    },
    "id": "YfP2orEJQAo-",
    "outputId": "4abd9290-0a23-4909-c4c6-72e3afc9d862"
   },
   "outputs": [
    {
     "name": "stdout",
     "output_type": "stream",
     "text": [
      "        fLength   fWidth   fSize   fConc  fConc1     fAsym   fM3Long  \\\n",
      "12332   93.7035  37.9432  3.1454  0.1680  0.1011   53.2566   89.0566   \n",
      "12333  102.0005  22.0017  3.3161  0.1064  0.0724  -54.0862   43.0553   \n",
      "12334  100.2775  21.8784  3.1100  0.3120  0.1446  -48.1834   57.6547   \n",
      "12335   91.6558  18.8293  2.7097  0.4386  0.3420  -52.6841  -97.8373   \n",
      "12336   38.0195  12.6736  2.8747  0.4084  0.1928  -51.4840    8.3471   \n",
      "...         ...      ...     ...     ...     ...       ...       ...   \n",
      "19015   21.3846  10.9170  2.6161  0.5857  0.3934   15.2618   11.5245   \n",
      "19016   28.9452   6.7020  2.2672  0.5351  0.2784   37.0816   13.1853   \n",
      "19017   75.4455  47.5305  3.4483  0.1417  0.0549   -9.3561   41.0562   \n",
      "19018  120.5135  76.9018  3.9939  0.0944  0.0683    5.8043  -93.5224   \n",
      "19019  187.1814  53.0014  3.2093  0.2876  0.1539 -167.3125 -168.4558   \n",
      "\n",
      "       fM3Trans   fAlpha     fDist class  \n",
      "12332   11.8175  14.1224  231.9028     h  \n",
      "12333  -15.0647  88.4636  274.9392     h  \n",
      "12334   -9.6341  20.7848  346.4330     h  \n",
      "12335  -17.0955  63.8834  130.7998     h  \n",
      "12336    7.9620  24.5402  163.8674     h  \n",
      "...         ...      ...       ...   ...  \n",
      "19015    2.8766   2.4229  106.8258     h  \n",
      "19016   -2.9632  86.7975  247.4560     h  \n",
      "19017   -9.4662  30.2987  256.5166     h  \n",
      "19018  -63.8389  84.6874  408.3166     h  \n",
      "19019   31.4755  52.7310  272.3174     h  \n",
      "\n",
      "[6688 rows x 11 columns]\n"
     ]
    }
   ],
   "source": [
    "noHadrones=datos[datos['class']=='g']\n",
    "hadrones=datos[datos['class']=='h']\n",
    "\n",
    "print(hadrones)"
   ]
  },
  {
   "cell_type": "markdown",
   "metadata": {
    "id": "9-lKMd84QCx0"
   },
   "source": [
    "Hacemos un histograma para cada caractaristica, y para cada clase.\n",
    "Primero, empezamos con la caracteristica 'fLength'."
   ]
  },
  {
   "cell_type": "code",
   "execution_count": 631,
   "metadata": {
    "colab": {
     "base_uri": "https://localhost:8080/",
     "height": 384
    },
    "id": "gbAoSUf2QNgq",
    "outputId": "f9e1539f-057a-436c-e3fc-cc06bdc6906e"
   },
   "outputs": [
    {
     "data": {
      "text/plain": [
       "Text(0.5, 1.0, 'Histograma de Frecuencia para la caracteristica fLength')"
      ]
     },
     "execution_count": 631,
     "metadata": {},
     "output_type": "execute_result"
    },
    {
     "data": {
      "image/png": "[encoded data removed]",
      "text/plain": [
       "<Figure size 432x288 with 1 Axes>"
      ]
     },
     "metadata": {
      "needs_background": "light"
     },
     "output_type": "display_data"
    }
   ],
   "source": [
    "fLengthClass0=noHadrones['fLength']\n",
    "fLengthClass1=hadrones['fLength']\n",
    "\n",
    "plt.hist(fLengthClass0,15, alpha=0.8, color='r')\n",
    "\n",
    "plt.hist(fLengthClass1,15, alpha=0.8)\n",
    "plt.xlabel('Valores de fLength')\n",
    "plt.ylabel('Frecuencia')\n",
    "plt.title('Histograma de Frecuencia para la caracteristica fLength')\n",
    "#plt.hist(datos['fLength'],15,alpha=0.8,color='b')"
   ]
  },
  {
   "cell_type": "markdown",
   "metadata": {
    "id": "MjtxZay8RYZr"
   },
   "source": [
    "Podemos ver que la clase 0, la clase no hadron, y la clase 1, la clase hadron, tienen distribuciones de datos muy similares, al punto que con solo los datos que tenemos de está caracteristicas, no son linealmente separables. Se puede concluir en base al histograma que los no hadrones poseen largo más grande que el de los hadrones.\n",
    "\n",
    "Veremos ahora con su segunda característica."
   ]
  },
  {
   "cell_type": "code",
   "execution_count": 6,
   "metadata": {
    "id": "bkWS6SNmRrZa"
   },
   "outputs": [],
   "source": [
    "fWidthClass0=noHadrones['fWidth']\n",
    "fWidthClass1=hadrones['fWidth']"
   ]
  },
  {
   "cell_type": "code",
   "execution_count": 7,
   "metadata": {
    "colab": {
     "base_uri": "https://localhost:8080/",
     "height": 452
    },
    "id": "GV19g_P8TNIG",
    "outputId": "e00c4c83-eea1-40c9-a3c7-88282c602517"
   },
   "outputs": [
    {
     "data": {
      "text/plain": [
       "(array([1.210e+03, 2.598e+03, 9.050e+02, 4.880e+02, 3.620e+02, 2.900e+02,\n",
       "        2.540e+02, 1.730e+02, 1.500e+02, 8.400e+01, 7.000e+01, 3.600e+01,\n",
       "        1.400e+01, 1.600e+01, 1.200e+01, 1.000e+01, 6.000e+00, 2.000e+00,\n",
       "        4.000e+00, 1.000e+00, 0.000e+00, 1.000e+00, 1.000e+00, 0.000e+00,\n",
       "        1.000e+00]),\n",
       " array([  0.     ,  10.25528,  20.51056,  30.76584,  41.02112,  51.2764 ,\n",
       "         61.53168,  71.78696,  82.04224,  92.29752, 102.5528 , 112.80808,\n",
       "        123.06336, 133.31864, 143.57392, 153.8292 , 164.08448, 174.33976,\n",
       "        184.59504, 194.85032, 205.1056 , 215.36088, 225.61616, 235.87144,\n",
       "        246.12672, 256.382  ]),\n",
       " <a list of 25 Patch objects>)"
      ]
     },
     "execution_count": 7,
     "metadata": {},
     "output_type": "execute_result"
    },
    {
     "data": {
      "image/png": "[encoded data removed]",
      "text/plain": [
       "<Figure size 432x288 with 1 Axes>"
      ]
     },
     "metadata": {
      "needs_background": "light"
     },
     "output_type": "display_data"
    }
   ],
   "source": [
    "plt.hist(fWidthClass0,25, alpha=0.8, color='r')\n",
    "plt.hist(fWidthClass1,25, alpha=0.8)"
   ]
  },
  {
   "cell_type": "markdown",
   "metadata": {
    "id": "ij-3KR3STI3a"
   },
   "source": [
    "Viendo el histograma, nos da resultados muy similares al histograma de la caracteristica anterior, y se puede sacar la misma conclusion, los no hadrones son generalmente mas grande que los hadrones, y que ademas no son linealmente separables con esta caracteristica.\n",
    "\n",
    "Veamos con la tercera caracteristica 'fSize'"
   ]
  },
  {
   "cell_type": "code",
   "execution_count": 8,
   "metadata": {
    "id": "pesRB58kR5LM"
   },
   "outputs": [],
   "source": [
    "fSizeClass0=noHadrones['fSize']\n",
    "fSizeClass1=hadrones['fSize']"
   ]
  },
  {
   "cell_type": "code",
   "execution_count": 9,
   "metadata": {
    "colab": {
     "base_uri": "https://localhost:8080/",
     "height": 452
    },
    "id": "M0OqmA4OTSyQ",
    "outputId": "9884e2c2-ed1d-415c-b500-076675349173"
   },
   "outputs": [
    {
     "data": {
      "text/plain": [
       "(array([ 15.,  99., 211., 400., 612., 780., 797., 692., 570., 437., 410.,\n",
       "        378., 301., 268., 183., 133.,  94.,  75.,  57.,  59.,  34.,  31.,\n",
       "         22.,  16.,   5.,   2.,   3.,   1.,   2.,   1.]),\n",
       " array([1.9413    , 2.05403333, 2.16676667, 2.2795    , 2.39223333,\n",
       "        2.50496667, 2.6177    , 2.73043333, 2.84316667, 2.9559    ,\n",
       "        3.06863333, 3.18136667, 3.2941    , 3.40683333, 3.51956667,\n",
       "        3.6323    , 3.74503333, 3.85776667, 3.9705    , 4.08323333,\n",
       "        4.19596667, 4.3087    , 4.42143333, 4.53416667, 4.6469    ,\n",
       "        4.75963333, 4.87236667, 4.9851    , 5.09783333, 5.21056667,\n",
       "        5.3233    ]),\n",
       " <a list of 30 Patch objects>)"
      ]
     },
     "execution_count": 9,
     "metadata": {},
     "output_type": "execute_result"
    },
    {
     "data": {
      "image/png": "[encoded data removed]",
      "text/plain": [
       "<Figure size 432x288 with 1 Axes>"
      ]
     },
     "metadata": {
      "needs_background": "light"
     },
     "output_type": "display_data"
    }
   ],
   "source": [
    "plt.hist(fSizeClass0,30,alpha=0.8,color='r', label='class0')\n",
    "plt.hist(fSizeClass1,30,alpha=0.8, label='class1')"
   ]
  },
  {
   "cell_type": "markdown",
   "metadata": {
    "id": "q9Ck_IrkTWk9"
   },
   "source": [
    "Se puede notar, que las dos curvas son muy similares entre sí, como una Gaussiana corrida hacia un lado, sin embargo tienen picos de distinto tamaños, se ve que los no hadrones tienden a ser de mayor tamaño que los hadrones.\n",
    "\n",
    "Veamos la cuarta caracteristica 'fConc' y la quinta 'fConc1'"
   ]
  },
  {
   "cell_type": "code",
   "execution_count": 10,
   "metadata": {
    "id": "_oaAmeLrSF1f"
   },
   "outputs": [],
   "source": [
    "fConcClass0=noHadrones['fConc']\n",
    "fConcClass1=hadrones['fConc']"
   ]
  },
  {
   "cell_type": "code",
   "execution_count": 11,
   "metadata": {
    "colab": {
     "base_uri": "https://localhost:8080/",
     "height": 418
    },
    "id": "dO017zWUTb1g",
    "outputId": "eaa43da7-0ff3-44da-a439-930ab35479c5"
   },
   "outputs": [
    {
     "data": {
      "text/plain": [
       "(array([ 61., 164., 287., 373., 423., 417., 435., 430., 414., 419., 435.,\n",
       "        410., 371., 330., 300., 315., 266., 196., 149., 123., 127., 109.,\n",
       "         77.,  41.,  16.]),\n",
       " array([0.0131  , 0.048296, 0.083492, 0.118688, 0.153884, 0.18908 ,\n",
       "        0.224276, 0.259472, 0.294668, 0.329864, 0.36506 , 0.400256,\n",
       "        0.435452, 0.470648, 0.505844, 0.54104 , 0.576236, 0.611432,\n",
       "        0.646628, 0.681824, 0.71702 , 0.752216, 0.787412, 0.822608,\n",
       "        0.857804, 0.893   ]),\n",
       " <a list of 25 Patch objects>)"
      ]
     },
     "execution_count": 11,
     "metadata": {},
     "output_type": "execute_result"
    },
    {
     "data": {
      "image/png": "[encoded data removed]",
      "text/plain": [
       "<Figure size 432x288 with 1 Axes>"
      ]
     },
     "metadata": {
      "needs_background": "light"
     },
     "output_type": "display_data"
    }
   ],
   "source": [
    "plt.hist(fConcClass0,25, alpha=0.8, color='r')\n",
    "plt.hist(fConcClass1,25,alpha=0.8)"
   ]
  },
  {
   "cell_type": "code",
   "execution_count": 12,
   "metadata": {
    "id": "yL53adTRSU_T"
   },
   "outputs": [],
   "source": [
    "fConc1Class0=noHadrones['fConc1']\n",
    "fConc1Class1=hadrones['fConc1']"
   ]
  },
  {
   "cell_type": "code",
   "execution_count": 13,
   "metadata": {
    "colab": {
     "base_uri": "https://localhost:8080/",
     "height": 435
    },
    "id": "X2tiUHaUTfBX",
    "outputId": "0edc27bb-35d9-47bc-b5e0-f4fd588cb240"
   },
   "outputs": [
    {
     "data": {
      "text/plain": [
       "(array([ 73., 264., 432., 533., 559., 552., 544., 523., 523., 474., 400.,\n",
       "        371., 361., 269., 199., 157., 143., 104.,  77.,  52.,  22.,  27.,\n",
       "         11.,  10.,   8.]),\n",
       " array([3.00000e-04, 2.60080e-02, 5.17160e-02, 7.74240e-02, 1.03132e-01,\n",
       "        1.28840e-01, 1.54548e-01, 1.80256e-01, 2.05964e-01, 2.31672e-01,\n",
       "        2.57380e-01, 2.83088e-01, 3.08796e-01, 3.34504e-01, 3.60212e-01,\n",
       "        3.85920e-01, 4.11628e-01, 4.37336e-01, 4.63044e-01, 4.88752e-01,\n",
       "        5.14460e-01, 5.40168e-01, 5.65876e-01, 5.91584e-01, 6.17292e-01,\n",
       "        6.43000e-01]),\n",
       " <a list of 25 Patch objects>)"
      ]
     },
     "execution_count": 13,
     "metadata": {},
     "output_type": "execute_result"
    },
    {
     "data": {
      "image/png": "[encoded data removed]",
      "text/plain": [
       "<Figure size 432x288 with 1 Axes>"
      ]
     },
     "metadata": {
      "needs_background": "light"
     },
     "output_type": "display_data"
    }
   ],
   "source": [
    "plt.hist(fConc1Class0,25,alpha=0.8, color='r')\n",
    "plt.hist(fConc1Class1,25,alpha=0.8)"
   ]
  },
  {
   "cell_type": "markdown",
   "metadata": {
    "id": "GttNWLsUTihI"
   },
   "source": [
    "Podemos ver que estas dos caracteristicas tienen distribuciones muy similares entre sí, con la curva de los no hadrones teniendo forma de gaussiana pero corrida al lado, y los hadrones teniendo una distribucion totalmente distinta. Se ve que la curva de los hadrones es más pequeña en general, pero no posee tanta desviacion como la de los no hadrones. Aqui se puede ver que los hadrones y no hadrones pueden tener características muy distintas entre si.\n",
    "\n",
    "Veamos la sexta caracteristica, 'fAsym'"
   ]
  },
  {
   "cell_type": "code",
   "execution_count": 14,
   "metadata": {
    "id": "GXAXzxkPSZ_Z"
   },
   "outputs": [],
   "source": [
    "fAsymClass0=noHadrones['fAsym']\n",
    "fAsymClass1=hadrones['fAsym']"
   ]
  },
  {
   "cell_type": "code",
   "execution_count": 15,
   "metadata": {
    "colab": {
     "base_uri": "https://localhost:8080/",
     "height": 469
    },
    "id": "KC6-dBoMTm98",
    "outputId": "317ccc72-dd71-40cc-8466-cea456cfab1c"
   },
   "outputs": [
    {
     "data": {
      "text/plain": [
       "(array([2.000e+00, 3.000e+00, 8.000e+00, 3.400e+01, 6.700e+01, 1.090e+02,\n",
       "        1.780e+02, 2.470e+02, 3.950e+02, 6.180e+02, 1.541e+03, 2.569e+03,\n",
       "        5.750e+02, 1.870e+02, 7.300e+01, 2.800e+01, 1.700e+01, 9.000e+00,\n",
       "        7.000e+00, 7.000e+00, 9.000e+00, 2.000e+00, 2.000e+00, 0.000e+00,\n",
       "        1.000e+00]),\n",
       " array([-457.9161  , -416.589828, -375.263556, -333.937284, -292.611012,\n",
       "        -251.28474 , -209.958468, -168.632196, -127.305924,  -85.979652,\n",
       "         -44.65338 ,   -3.327108,   37.999164,   79.325436,  120.651708,\n",
       "         161.97798 ,  203.304252,  244.630524,  285.956796,  327.283068,\n",
       "         368.60934 ,  409.935612,  451.261884,  492.588156,  533.914428,\n",
       "         575.2407  ]),\n",
       " <a list of 25 Patch objects>)"
      ]
     },
     "execution_count": 15,
     "metadata": {},
     "output_type": "execute_result"
    },
    {
     "data": {
      "image/png": "[encoded data removed]",
      "text/plain": [
       "<Figure size 432x288 with 1 Axes>"
      ]
     },
     "metadata": {
      "needs_background": "light"
     },
     "output_type": "display_data"
    }
   ],
   "source": [
    "plt.hist(fAsymClass0,25,alpha=0.8,color='r')\n",
    "plt.hist(fAsymClass1,25,alpha=0.8)"
   ]
  },
  {
   "cell_type": "markdown",
   "metadata": {
    "id": "v75sHG61Tqgh"
   },
   "source": [
    "Aqui es donde tenemos la distribucion mas distintiva de entre todas, aqui tenemos un tipo de gaussiana muy picuda, con una media con un valor muy grande comparado a sus vecinos. Ademas, se puede añadir que la curva de los hadrones está desviada más para la izquierda, que la curva de los no hadrones, y posee un tope más pequeño. Salvo estas observaciones, las dos distribuciones son muy similares entre si.\n",
    "\n",
    "Veamos la septima y octava, 'FM3Long' y 'FM3Trans'"
   ]
  },
  {
   "cell_type": "code",
   "execution_count": 16,
   "metadata": {
    "id": "WVj7zxvASfoT"
   },
   "outputs": [],
   "source": [
    "fM3LongClass0=noHadrones['fM3Long']\n",
    "fM3LongClass1=hadrones['fM3Long']"
   ]
  },
  {
   "cell_type": "code",
   "execution_count": 17,
   "metadata": {
    "colab": {
     "base_uri": "https://localhost:8080/",
     "height": 503
    },
    "id": "u7SeTGxSTwm4",
    "outputId": "2410de69-34e5-4e81-827d-7f2d60feec47"
   },
   "outputs": [
    {
     "data": {
      "text/plain": [
       "(array([2.000e+00, 1.000e+00, 1.200e+01, 1.500e+01, 1.700e+01, 2.000e+01,\n",
       "        2.400e+01, 5.700e+01, 8.100e+01, 1.220e+02, 1.300e+02, 1.650e+02,\n",
       "        2.080e+02, 2.130e+02, 2.440e+02, 3.440e+02, 8.450e+02, 7.680e+02,\n",
       "        1.626e+03, 6.740e+02, 3.730e+02, 2.530e+02, 1.870e+02, 1.250e+02,\n",
       "        8.500e+01, 5.500e+01, 1.800e+01, 1.500e+01, 4.000e+00, 5.000e+00]),\n",
       " array([-331.78      , -312.77663333, -293.77326667, -274.7699    ,\n",
       "        -255.76653333, -236.76316667, -217.7598    , -198.75643333,\n",
       "        -179.75306667, -160.7497    , -141.74633333, -122.74296667,\n",
       "        -103.7396    ,  -84.73623333,  -65.73286667,  -46.7295    ,\n",
       "         -27.72613333,   -8.72276667,   10.2806    ,   29.28396667,\n",
       "          48.28733333,   67.2907    ,   86.29406667,  105.29743333,\n",
       "         124.3008    ,  143.30416667,  162.30753333,  181.3109    ,\n",
       "         200.31426667,  219.31763333,  238.321     ]),\n",
       " <a list of 30 Patch objects>)"
      ]
     },
     "execution_count": 17,
     "metadata": {},
     "output_type": "execute_result"
    },
    {
     "data": {
      "image/png": "[encoded data removed]",
      "text/plain": [
       "<Figure size 432x288 with 1 Axes>"
      ]
     },
     "metadata": {
      "needs_background": "light"
     },
     "output_type": "display_data"
    }
   ],
   "source": [
    "plt.hist(fM3LongClass0,30, alpha=0.8, color='r')\n",
    "plt.hist(fM3LongClass1,30,alpha=0.8)"
   ]
  },
  {
   "cell_type": "code",
   "execution_count": 18,
   "metadata": {
    "id": "eqHXe0YXSo9L"
   },
   "outputs": [],
   "source": [
    "fM3TransClass0=noHadrones['fM3Trans']\n",
    "fM3TransClass1=hadrones['fM3Trans']"
   ]
  },
  {
   "cell_type": "code",
   "execution_count": 19,
   "metadata": {
    "colab": {
     "base_uri": "https://localhost:8080/",
     "height": 503
    },
    "id": "8b1-oLFuT0Ia",
    "outputId": "baabc859-9226-4f4b-c81b-62309512875b"
   },
   "outputs": [
    {
     "data": {
      "text/plain": [
       "(array([1.000e+00, 0.000e+00, 0.000e+00, 1.000e+00, 3.000e+00, 5.000e+00,\n",
       "        7.000e+00, 1.600e+01, 2.800e+01, 5.400e+01, 5.600e+01, 1.220e+02,\n",
       "        1.710e+02, 3.040e+02, 7.520e+02, 1.789e+03, 1.790e+03, 7.810e+02,\n",
       "        3.020e+02, 1.890e+02, 1.210e+02, 7.500e+01, 4.300e+01, 2.800e+01,\n",
       "        1.900e+01, 2.000e+01, 6.000e+00, 1.000e+00, 2.000e+00, 2.000e+00]),\n",
       " array([-2.0589470e+02, -1.9303651e+02, -1.8017832e+02, -1.6732013e+02,\n",
       "        -1.5446194e+02, -1.4160375e+02, -1.2874556e+02, -1.1588737e+02,\n",
       "        -1.0302918e+02, -9.0170990e+01, -7.7312800e+01, -6.4454610e+01,\n",
       "        -5.1596420e+01, -3.8738230e+01, -2.5880040e+01, -1.3021850e+01,\n",
       "        -1.6366000e-01,  1.2694530e+01,  2.5552720e+01,  3.8410910e+01,\n",
       "         5.1269100e+01,  6.4127290e+01,  7.6985480e+01,  8.9843670e+01,\n",
       "         1.0270186e+02,  1.1556005e+02,  1.2841824e+02,  1.4127643e+02,\n",
       "         1.5413462e+02,  1.6699281e+02,  1.7985100e+02]),\n",
       " <a list of 30 Patch objects>)"
      ]
     },
     "execution_count": 19,
     "metadata": {},
     "output_type": "execute_result"
    },
    {
     "data": {
      "image/png": "[encoded data removed]",
      "text/plain": [
       "<Figure size 432x288 with 1 Axes>"
      ]
     },
     "metadata": {
      "needs_background": "light"
     },
     "output_type": "display_data"
    }
   ],
   "source": [
    "plt.hist(fM3TransClass0,30,alpha=0.8, color='r')\n",
    "plt.hist(fM3TransClass1,30,alpha=0.8)"
   ]
  },
  {
   "cell_type": "markdown",
   "metadata": {
    "id": "8EokjpypT53K"
   },
   "source": [
    "Estas distribuciones se parecen a la distribucion de 'fAsym', salvo por un cosa, la curva de los no hadrones posee dos picos en estas dos distribuciones. En la de 'fTrans' se puede ver hay dos puntos muy altos, y que en medio no hay valores en comun, sin embargo con la curva de los hadrones hay un curva gaussiana centrada. Con la curva 'fLong' ocurre algo similar, pero no tan drastico.\n",
    "\n",
    "Y por ultimo vemos la novena y decima caracteristica, el 'fAlpha' y el 'fDist'"
   ]
  },
  {
   "cell_type": "code",
   "execution_count": 20,
   "metadata": {
    "id": "680Jf7sLS3C8"
   },
   "outputs": [],
   "source": [
    "fAlphaClass0=noHadrones['fAlpha']\n",
    "fAlphaClass1=hadrones['fAlpha']"
   ]
  },
  {
   "cell_type": "code",
   "execution_count": 21,
   "metadata": {
    "colab": {
     "base_uri": "https://localhost:8080/",
     "height": 418
    },
    "id": "l2L3mH9KT_Fn",
    "outputId": "b62860c7-5600-4d3a-d7ed-23b6f0f45496"
   },
   "outputs": [
    {
     "data": {
      "text/plain": [
       "(array([351., 337., 362., 379., 342., 336., 331., 349., 341., 339., 347.,\n",
       "        335., 329., 325., 301., 325., 289., 314., 302., 354.]),\n",
       " array([9.7000000e-03, 4.5092150e+00, 9.0087300e+00, 1.3508245e+01,\n",
       "        1.8007760e+01, 2.2507275e+01, 2.7006790e+01, 3.1506305e+01,\n",
       "        3.6005820e+01, 4.0505335e+01, 4.5004850e+01, 4.9504365e+01,\n",
       "        5.4003880e+01, 5.8503395e+01, 6.3002910e+01, 6.7502425e+01,\n",
       "        7.2001940e+01, 7.6501455e+01, 8.1000970e+01, 8.5500485e+01,\n",
       "        9.0000000e+01]),\n",
       " <a list of 20 Patch objects>)"
      ]
     },
     "execution_count": 21,
     "metadata": {},
     "output_type": "execute_result"
    },
    {
     "data": {
      "image/png": "[encoded data removed]",
      "text/plain": [
       "<Figure size 432x288 with 1 Axes>"
      ]
     },
     "metadata": {
      "needs_background": "light"
     },
     "output_type": "display_data"
    }
   ],
   "source": [
    "plt.hist(fAlphaClass0,20, alpha =0.8, color='r')\n",
    "plt.hist(fAlphaClass1,20, alpha=0.8)"
   ]
  },
  {
   "cell_type": "markdown",
   "metadata": {
    "id": "pOWX2VgYZym1"
   },
   "source": [
    "Esta de todas las distribuciones, es la más dispar de todas. La distribucion de los no hadrones es totalmente distinta a la de los hadrones, teniendo una curva descendente en el priemr caso y un curva plana en el segundo.\n",
    "\n",
    "Para analizar más fondo la curva de los hadrones, se volvio a ver el histograma de este, pero está vez separado de la curva de los nos hadrones."
   ]
  },
  {
   "cell_type": "code",
   "execution_count": 22,
   "metadata": {
    "colab": {
     "base_uri": "https://localhost:8080/",
     "height": 860
    },
    "id": "LUq2x5AIZ68k",
    "outputId": "ee426512-9177-4729-f5f6-36d3a13fdb7c"
   },
   "outputs": [
    {
     "data": {
      "text/plain": [
       "(array([56., 65., 77., 65., 88., 69., 53., 67., 85., 63., 68., 78., 65.,\n",
       "        81., 70., 71., 72., 92., 69., 75., 76., 62., 64., 74., 66., 69.,\n",
       "        64., 66., 61., 76., 63., 63., 73., 68., 64., 80., 76., 78., 60.,\n",
       "        55., 65., 72., 58., 62., 84., 54., 70., 74., 65., 76., 64., 66.,\n",
       "        78., 68., 71., 68., 60., 78., 65., 64., 71., 75., 67., 53., 63.,\n",
       "        59., 60., 73., 63., 70., 53., 58., 60., 45., 85., 81., 68., 53.,\n",
       "        67., 56., 55., 59., 59., 63., 53., 64., 64., 66., 48., 72., 73.,\n",
       "        52., 61., 42., 74., 72., 64., 74., 62., 82.]),\n",
       " array([9.7000000e-03, 9.0960300e-01, 1.8095060e+00, 2.7094090e+00,\n",
       "        3.6093120e+00, 4.5092150e+00, 5.4091180e+00, 6.3090210e+00,\n",
       "        7.2089240e+00, 8.1088270e+00, 9.0087300e+00, 9.9086330e+00,\n",
       "        1.0808536e+01, 1.1708439e+01, 1.2608342e+01, 1.3508245e+01,\n",
       "        1.4408148e+01, 1.5308051e+01, 1.6207954e+01, 1.7107857e+01,\n",
       "        1.8007760e+01, 1.8907663e+01, 1.9807566e+01, 2.0707469e+01,\n",
       "        2.1607372e+01, 2.2507275e+01, 2.3407178e+01, 2.4307081e+01,\n",
       "        2.5206984e+01, 2.6106887e+01, 2.7006790e+01, 2.7906693e+01,\n",
       "        2.8806596e+01, 2.9706499e+01, 3.0606402e+01, 3.1506305e+01,\n",
       "        3.2406208e+01, 3.3306111e+01, 3.4206014e+01, 3.5105917e+01,\n",
       "        3.6005820e+01, 3.6905723e+01, 3.7805626e+01, 3.8705529e+01,\n",
       "        3.9605432e+01, 4.0505335e+01, 4.1405238e+01, 4.2305141e+01,\n",
       "        4.3205044e+01, 4.4104947e+01, 4.5004850e+01, 4.5904753e+01,\n",
       "        4.6804656e+01, 4.7704559e+01, 4.8604462e+01, 4.9504365e+01,\n",
       "        5.0404268e+01, 5.1304171e+01, 5.2204074e+01, 5.3103977e+01,\n",
       "        5.4003880e+01, 5.4903783e+01, 5.5803686e+01, 5.6703589e+01,\n",
       "        5.7603492e+01, 5.8503395e+01, 5.9403298e+01, 6.0303201e+01,\n",
       "        6.1203104e+01, 6.2103007e+01, 6.3002910e+01, 6.3902813e+01,\n",
       "        6.4802716e+01, 6.5702619e+01, 6.6602522e+01, 6.7502425e+01,\n",
       "        6.8402328e+01, 6.9302231e+01, 7.0202134e+01, 7.1102037e+01,\n",
       "        7.2001940e+01, 7.2901843e+01, 7.3801746e+01, 7.4701649e+01,\n",
       "        7.5601552e+01, 7.6501455e+01, 7.7401358e+01, 7.8301261e+01,\n",
       "        7.9201164e+01, 8.0101067e+01, 8.1000970e+01, 8.1900873e+01,\n",
       "        8.2800776e+01, 8.3700679e+01, 8.4600582e+01, 8.5500485e+01,\n",
       "        8.6400388e+01, 8.7300291e+01, 8.8200194e+01, 8.9100097e+01,\n",
       "        9.0000000e+01]),\n",
       " <a list of 100 Patch objects>)"
      ]
     },
     "execution_count": 22,
     "metadata": {},
     "output_type": "execute_result"
    },
    {
     "data": {
      "image/png": "[encoded data removed]",
      "text/plain": [
       "<Figure size 432x288 with 1 Axes>"
      ]
     },
     "metadata": {
      "needs_background": "light"
     },
     "output_type": "display_data"
    }
   ],
   "source": [
    "plt.hist(fAlphaClass1,100, alpha=0.8)"
   ]
  },
  {
   "cell_type": "markdown",
   "metadata": {
    "id": "mPL3QMsIafG4"
   },
   "source": [
    "Se puede ver que no se parece en nada a la otra curva, siguiendo una distribución mas bien uniforme pero a la vez posee una subida y bajadas de valores del histograma sin ningun patron claro. Se considerará esta caracteristica como clave dado que son claramente disimilares."
   ]
  },
  {
   "cell_type": "code",
   "execution_count": 23,
   "metadata": {
    "id": "DbOYtn9YS_Kv"
   },
   "outputs": [],
   "source": [
    "fDistClass0=noHadrones['fDist']\n",
    "fDistClass1=hadrones['fDist']"
   ]
  },
  {
   "cell_type": "code",
   "execution_count": 24,
   "metadata": {
    "colab": {
     "base_uri": "https://localhost:8080/",
     "height": 384
    },
    "id": "gLGAom0cUChz",
    "outputId": "9be71b4d-4580-4cd3-a93d-c85921641935"
   },
   "outputs": [
    {
     "data": {
      "text/plain": [
       "(array([ 26., 148., 241., 382., 484., 596., 651., 785., 831., 811., 539.,\n",
       "        348., 284., 240., 159.,  97.,  47.,  13.,   5.,   1.]),\n",
       " array([  1.2826 ,  25.99652,  50.71044,  75.42436, 100.13828, 124.8522 ,\n",
       "        149.56612, 174.28004, 198.99396, 223.70788, 248.4218 , 273.13572,\n",
       "        297.84964, 322.56356, 347.27748, 371.9914 , 396.70532, 421.41924,\n",
       "        446.13316, 470.84708, 495.561  ]),\n",
       " <a list of 20 Patch objects>)"
      ]
     },
     "execution_count": 24,
     "metadata": {},
     "output_type": "execute_result"
    },
    {
     "data": {
      "image/png": "[encoded data removed]",
      "text/plain": [
       "<Figure size 432x288 with 1 Axes>"
      ]
     },
     "metadata": {
      "needs_background": "light"
     },
     "output_type": "display_data"
    }
   ],
   "source": [
    "plt.hist(fDistClass0,20,alpha=0.8,color='r')\n",
    "plt.hist(fDistClass1,20,alpha=0.8)"
   ]
  },
  {
   "cell_type": "markdown",
   "metadata": {
    "id": "oydNHB2xUH1t"
   },
   "source": [
    "Aqui se ven dos gaussianas, con la curva de los no hadrones más alta y centrada que la curva de los hadrones. La curva de los hadrones parece más bien sesgada a cierta direccion. Tambien se aprecia que poseen una desviacion bastante similar.\n",
    "\n",
    "Veamos la matriz de correlacion entre las caracteristicas: Primero veamos con la matriz de correlacion entre las dos clases."
   ]
  },
  {
   "cell_type": "code",
   "execution_count": 5,
   "metadata": {
    "colab": {
     "base_uri": "https://localhost:8080/",
     "height": 359
    },
    "id": "DH_M-Rv2c157",
    "outputId": "aaed851c-08cb-4ec4-e353-0feed29dfe84"
   },
   "outputs": [
    {
     "data": {
      "text/html": [
       "<div>\n",
       "<style scoped>\n",
       "    .dataframe tbody tr th:only-of-type {\n",
       "        vertical-align: middle;\n",
       "    }\n",
       "\n",
       "    .dataframe tbody tr th {\n",
       "        vertical-align: top;\n",
       "    }\n",
       "\n",
       "    .dataframe thead th {\n",
       "        text-align: right;\n",
       "    }\n",
       "</style>\n",
       "<table border=\"1\" class=\"dataframe\">\n",
       "  <thead>\n",
       "    <tr style=\"text-align: right;\">\n",
       "      <th></th>\n",
       "      <th>fLength</th>\n",
       "      <th>fWidth</th>\n",
       "      <th>fSize</th>\n",
       "      <th>fConc</th>\n",
       "      <th>fConc1</th>\n",
       "      <th>fAsym</th>\n",
       "      <th>fM3Long</th>\n",
       "      <th>fM3Trans</th>\n",
       "      <th>fAlpha</th>\n",
       "      <th>fDist</th>\n",
       "      <th>class</th>\n",
       "    </tr>\n",
       "  </thead>\n",
       "  <tbody>\n",
       "    <tr>\n",
       "      <td>fLength</td>\n",
       "      <td>1.000000</td>\n",
       "      <td>0.770512</td>\n",
       "      <td>0.702454</td>\n",
       "      <td>-0.630999</td>\n",
       "      <td>-0.598145</td>\n",
       "      <td>-0.368556</td>\n",
       "      <td>-0.119747</td>\n",
       "      <td>0.013389</td>\n",
       "      <td>-0.008777</td>\n",
       "      <td>0.418466</td>\n",
       "      <td>0.307572</td>\n",
       "    </tr>\n",
       "    <tr>\n",
       "      <td>fWidth</td>\n",
       "      <td>0.770512</td>\n",
       "      <td>1.000000</td>\n",
       "      <td>0.717517</td>\n",
       "      <td>-0.609779</td>\n",
       "      <td>-0.581141</td>\n",
       "      <td>-0.266961</td>\n",
       "      <td>-0.176234</td>\n",
       "      <td>0.039744</td>\n",
       "      <td>0.066061</td>\n",
       "      <td>0.336816</td>\n",
       "      <td>0.265596</td>\n",
       "    </tr>\n",
       "    <tr>\n",
       "      <td>fSize</td>\n",
       "      <td>0.702454</td>\n",
       "      <td>0.717517</td>\n",
       "      <td>1.000000</td>\n",
       "      <td>-0.850850</td>\n",
       "      <td>-0.808835</td>\n",
       "      <td>-0.159863</td>\n",
       "      <td>0.095157</td>\n",
       "      <td>0.015455</td>\n",
       "      <td>-0.186675</td>\n",
       "      <td>0.437041</td>\n",
       "      <td>0.117795</td>\n",
       "    </tr>\n",
       "    <tr>\n",
       "      <td>fConc</td>\n",
       "      <td>-0.630999</td>\n",
       "      <td>-0.609779</td>\n",
       "      <td>-0.850850</td>\n",
       "      <td>1.000000</td>\n",
       "      <td>0.976412</td>\n",
       "      <td>0.112272</td>\n",
       "      <td>-0.121899</td>\n",
       "      <td>-0.011294</td>\n",
       "      <td>0.235272</td>\n",
       "      <td>-0.328332</td>\n",
       "      <td>-0.024615</td>\n",
       "    </tr>\n",
       "    <tr>\n",
       "      <td>fConc1</td>\n",
       "      <td>-0.598145</td>\n",
       "      <td>-0.581141</td>\n",
       "      <td>-0.808835</td>\n",
       "      <td>0.976412</td>\n",
       "      <td>1.000000</td>\n",
       "      <td>0.100159</td>\n",
       "      <td>-0.118769</td>\n",
       "      <td>-0.010966</td>\n",
       "      <td>0.229799</td>\n",
       "      <td>-0.304625</td>\n",
       "      <td>-0.004797</td>\n",
       "    </tr>\n",
       "    <tr>\n",
       "      <td>fAsym</td>\n",
       "      <td>-0.368556</td>\n",
       "      <td>-0.266961</td>\n",
       "      <td>-0.159863</td>\n",
       "      <td>0.112272</td>\n",
       "      <td>0.100159</td>\n",
       "      <td>1.000000</td>\n",
       "      <td>0.274045</td>\n",
       "      <td>0.002553</td>\n",
       "      <td>-0.055689</td>\n",
       "      <td>-0.206730</td>\n",
       "      <td>-0.173587</td>\n",
       "    </tr>\n",
       "    <tr>\n",
       "      <td>fM3Long</td>\n",
       "      <td>-0.119747</td>\n",
       "      <td>-0.176234</td>\n",
       "      <td>0.095157</td>\n",
       "      <td>-0.121899</td>\n",
       "      <td>-0.118769</td>\n",
       "      <td>0.274045</td>\n",
       "      <td>1.000000</td>\n",
       "      <td>-0.017197</td>\n",
       "      <td>-0.186275</td>\n",
       "      <td>0.037025</td>\n",
       "      <td>-0.193409</td>\n",
       "    </tr>\n",
       "    <tr>\n",
       "      <td>fM3Trans</td>\n",
       "      <td>0.013389</td>\n",
       "      <td>0.039744</td>\n",
       "      <td>0.015455</td>\n",
       "      <td>-0.011294</td>\n",
       "      <td>-0.010966</td>\n",
       "      <td>0.002553</td>\n",
       "      <td>-0.017197</td>\n",
       "      <td>1.000000</td>\n",
       "      <td>0.004659</td>\n",
       "      <td>0.011427</td>\n",
       "      <td>0.003837</td>\n",
       "    </tr>\n",
       "    <tr>\n",
       "      <td>fAlpha</td>\n",
       "      <td>-0.008777</td>\n",
       "      <td>0.066061</td>\n",
       "      <td>-0.186675</td>\n",
       "      <td>0.235272</td>\n",
       "      <td>0.229799</td>\n",
       "      <td>-0.055689</td>\n",
       "      <td>-0.186275</td>\n",
       "      <td>0.004659</td>\n",
       "      <td>1.000000</td>\n",
       "      <td>-0.220556</td>\n",
       "      <td>0.460979</td>\n",
       "    </tr>\n",
       "    <tr>\n",
       "      <td>fDist</td>\n",
       "      <td>0.418466</td>\n",
       "      <td>0.336816</td>\n",
       "      <td>0.437041</td>\n",
       "      <td>-0.328332</td>\n",
       "      <td>-0.304625</td>\n",
       "      <td>-0.206730</td>\n",
       "      <td>0.037025</td>\n",
       "      <td>0.011427</td>\n",
       "      <td>-0.220556</td>\n",
       "      <td>1.000000</td>\n",
       "      <td>0.065203</td>\n",
       "    </tr>\n",
       "    <tr>\n",
       "      <td>class</td>\n",
       "      <td>0.307572</td>\n",
       "      <td>0.265596</td>\n",
       "      <td>0.117795</td>\n",
       "      <td>-0.024615</td>\n",
       "      <td>-0.004797</td>\n",
       "      <td>-0.173587</td>\n",
       "      <td>-0.193409</td>\n",
       "      <td>0.003837</td>\n",
       "      <td>0.460979</td>\n",
       "      <td>0.065203</td>\n",
       "      <td>1.000000</td>\n",
       "    </tr>\n",
       "  </tbody>\n",
       "</table>\n",
       "</div>"
      ],
      "text/plain": [
       "           fLength    fWidth     fSize     fConc    fConc1     fAsym  \\\n",
       "fLength   1.000000  0.770512  0.702454 -0.630999 -0.598145 -0.368556   \n",
       "fWidth    0.770512  1.000000  0.717517 -0.609779 -0.581141 -0.266961   \n",
       "fSize     0.702454  0.717517  1.000000 -0.850850 -0.808835 -0.159863   \n",
       "fConc    -0.630999 -0.609779 -0.850850  1.000000  0.976412  0.112272   \n",
       "fConc1   -0.598145 -0.581141 -0.808835  0.976412  1.000000  0.100159   \n",
       "fAsym    -0.368556 -0.266961 -0.159863  0.112272  0.100159  1.000000   \n",
       "fM3Long  -0.119747 -0.176234  0.095157 -0.121899 -0.118769  0.274045   \n",
       "fM3Trans  0.013389  0.039744  0.015455 -0.011294 -0.010966  0.002553   \n",
       "fAlpha   -0.008777  0.066061 -0.186675  0.235272  0.229799 -0.055689   \n",
       "fDist     0.418466  0.336816  0.437041 -0.328332 -0.304625 -0.206730   \n",
       "class     0.307572  0.265596  0.117795 -0.024615 -0.004797 -0.173587   \n",
       "\n",
       "           fM3Long  fM3Trans    fAlpha     fDist     class  \n",
       "fLength  -0.119747  0.013389 -0.008777  0.418466  0.307572  \n",
       "fWidth   -0.176234  0.039744  0.066061  0.336816  0.265596  \n",
       "fSize     0.095157  0.015455 -0.186675  0.437041  0.117795  \n",
       "fConc    -0.121899 -0.011294  0.235272 -0.328332 -0.024615  \n",
       "fConc1   -0.118769 -0.010966  0.229799 -0.304625 -0.004797  \n",
       "fAsym     0.274045  0.002553 -0.055689 -0.206730 -0.173587  \n",
       "fM3Long   1.000000 -0.017197 -0.186275  0.037025 -0.193409  \n",
       "fM3Trans -0.017197  1.000000  0.004659  0.011427  0.003837  \n",
       "fAlpha   -0.186275  0.004659  1.000000 -0.220556  0.460979  \n",
       "fDist     0.037025  0.011427 -0.220556  1.000000  0.065203  \n",
       "class    -0.193409  0.003837  0.460979  0.065203  1.000000  "
      ]
     },
     "execution_count": 5,
     "metadata": {},
     "output_type": "execute_result"
    }
   ],
   "source": [
    "datos=datos.replace(to_replace='g',value=0)\n",
    "datos=datos.replace(to_replace='h',value=1)\n",
    "datos.corr()"
   ]
  },
  {
   "cell_type": "markdown",
   "metadata": {},
   "source": [
    "Al relacionar 1 con \"hadrones\" y 0 con \"no hadrones\", obtenemos que la caracteristica más correlacionada con la clase \"hadrones\" es fAlpha, que es lo que se sospechaba al ver su histograma.\n",
    "\n",
    "Si separamos esto por clase, se puede ver que:"
   ]
  },
  {
   "cell_type": "code",
   "execution_count": 16,
   "metadata": {},
   "outputs": [
    {
     "data": {
      "text/html": [
       "<div>\n",
       "<style scoped>\n",
       "    .dataframe tbody tr th:only-of-type {\n",
       "        vertical-align: middle;\n",
       "    }\n",
       "\n",
       "    .dataframe tbody tr th {\n",
       "        vertical-align: top;\n",
       "    }\n",
       "\n",
       "    .dataframe thead th {\n",
       "        text-align: right;\n",
       "    }\n",
       "</style>\n",
       "<table border=\"1\" class=\"dataframe\">\n",
       "  <thead>\n",
       "    <tr style=\"text-align: right;\">\n",
       "      <th></th>\n",
       "      <th>fLength</th>\n",
       "      <th>fWidth</th>\n",
       "      <th>fSize</th>\n",
       "      <th>fConc</th>\n",
       "      <th>fConc1</th>\n",
       "      <th>fAsym</th>\n",
       "      <th>fM3Long</th>\n",
       "      <th>fM3Trans</th>\n",
       "      <th>fAlpha</th>\n",
       "      <th>fDist</th>\n",
       "    </tr>\n",
       "  </thead>\n",
       "  <tbody>\n",
       "    <tr>\n",
       "      <td>fLength</td>\n",
       "      <td>1.000000</td>\n",
       "      <td>0.695646</td>\n",
       "      <td>0.766119</td>\n",
       "      <td>0.710201</td>\n",
       "      <td>0.679977</td>\n",
       "      <td>0.120237</td>\n",
       "      <td>0.542494</td>\n",
       "      <td>0.012365</td>\n",
       "      <td>0.443254</td>\n",
       "      <td>0.602484</td>\n",
       "    </tr>\n",
       "    <tr>\n",
       "      <td>fWidth</td>\n",
       "      <td>0.695646</td>\n",
       "      <td>1.000000</td>\n",
       "      <td>0.855156</td>\n",
       "      <td>0.761339</td>\n",
       "      <td>0.731427</td>\n",
       "      <td>0.002603</td>\n",
       "      <td>0.422040</td>\n",
       "      <td>0.044029</td>\n",
       "      <td>0.296896</td>\n",
       "      <td>0.389203</td>\n",
       "    </tr>\n",
       "    <tr>\n",
       "      <td>fSize</td>\n",
       "      <td>0.766119</td>\n",
       "      <td>0.855156</td>\n",
       "      <td>1.000000</td>\n",
       "      <td>0.863438</td>\n",
       "      <td>0.825388</td>\n",
       "      <td>0.029023</td>\n",
       "      <td>0.540958</td>\n",
       "      <td>0.022637</td>\n",
       "      <td>0.458027</td>\n",
       "      <td>0.459633</td>\n",
       "    </tr>\n",
       "    <tr>\n",
       "      <td>fConc</td>\n",
       "      <td>0.710201</td>\n",
       "      <td>0.761339</td>\n",
       "      <td>0.863438</td>\n",
       "      <td>1.000000</td>\n",
       "      <td>0.979331</td>\n",
       "      <td>0.033395</td>\n",
       "      <td>0.452183</td>\n",
       "      <td>0.017358</td>\n",
       "      <td>0.482306</td>\n",
       "      <td>0.368563</td>\n",
       "    </tr>\n",
       "    <tr>\n",
       "      <td>fConc1</td>\n",
       "      <td>0.679977</td>\n",
       "      <td>0.731427</td>\n",
       "      <td>0.825388</td>\n",
       "      <td>0.979331</td>\n",
       "      <td>1.000000</td>\n",
       "      <td>0.037631</td>\n",
       "      <td>0.433914</td>\n",
       "      <td>0.016044</td>\n",
       "      <td>0.463505</td>\n",
       "      <td>0.347069</td>\n",
       "    </tr>\n",
       "    <tr>\n",
       "      <td>fAsym</td>\n",
       "      <td>0.120237</td>\n",
       "      <td>0.002603</td>\n",
       "      <td>0.029023</td>\n",
       "      <td>0.033395</td>\n",
       "      <td>0.037631</td>\n",
       "      <td>1.000000</td>\n",
       "      <td>0.162438</td>\n",
       "      <td>0.005629</td>\n",
       "      <td>0.004521</td>\n",
       "      <td>0.178247</td>\n",
       "    </tr>\n",
       "    <tr>\n",
       "      <td>fM3Long</td>\n",
       "      <td>0.542494</td>\n",
       "      <td>0.422040</td>\n",
       "      <td>0.540958</td>\n",
       "      <td>0.452183</td>\n",
       "      <td>0.433914</td>\n",
       "      <td>0.162438</td>\n",
       "      <td>1.000000</td>\n",
       "      <td>0.008227</td>\n",
       "      <td>0.271444</td>\n",
       "      <td>0.294721</td>\n",
       "    </tr>\n",
       "    <tr>\n",
       "      <td>fM3Trans</td>\n",
       "      <td>0.012365</td>\n",
       "      <td>0.044029</td>\n",
       "      <td>0.022637</td>\n",
       "      <td>0.017358</td>\n",
       "      <td>0.016044</td>\n",
       "      <td>0.005629</td>\n",
       "      <td>0.008227</td>\n",
       "      <td>1.000000</td>\n",
       "      <td>0.007360</td>\n",
       "      <td>0.009829</td>\n",
       "    </tr>\n",
       "    <tr>\n",
       "      <td>fAlpha</td>\n",
       "      <td>0.443254</td>\n",
       "      <td>0.296896</td>\n",
       "      <td>0.458027</td>\n",
       "      <td>0.482306</td>\n",
       "      <td>0.463505</td>\n",
       "      <td>0.004521</td>\n",
       "      <td>0.271444</td>\n",
       "      <td>0.007360</td>\n",
       "      <td>1.000000</td>\n",
       "      <td>0.425098</td>\n",
       "    </tr>\n",
       "    <tr>\n",
       "      <td>fDist</td>\n",
       "      <td>0.602484</td>\n",
       "      <td>0.389203</td>\n",
       "      <td>0.459633</td>\n",
       "      <td>0.368563</td>\n",
       "      <td>0.347069</td>\n",
       "      <td>0.178247</td>\n",
       "      <td>0.294721</td>\n",
       "      <td>0.009829</td>\n",
       "      <td>0.425098</td>\n",
       "      <td>1.000000</td>\n",
       "    </tr>\n",
       "  </tbody>\n",
       "</table>\n",
       "</div>"
      ],
      "text/plain": [
       "           fLength    fWidth     fSize     fConc    fConc1     fAsym  \\\n",
       "fLength   1.000000  0.695646  0.766119  0.710201  0.679977  0.120237   \n",
       "fWidth    0.695646  1.000000  0.855156  0.761339  0.731427  0.002603   \n",
       "fSize     0.766119  0.855156  1.000000  0.863438  0.825388  0.029023   \n",
       "fConc     0.710201  0.761339  0.863438  1.000000  0.979331  0.033395   \n",
       "fConc1    0.679977  0.731427  0.825388  0.979331  1.000000  0.037631   \n",
       "fAsym     0.120237  0.002603  0.029023  0.033395  0.037631  1.000000   \n",
       "fM3Long   0.542494  0.422040  0.540958  0.452183  0.433914  0.162438   \n",
       "fM3Trans  0.012365  0.044029  0.022637  0.017358  0.016044  0.005629   \n",
       "fAlpha    0.443254  0.296896  0.458027  0.482306  0.463505  0.004521   \n",
       "fDist     0.602484  0.389203  0.459633  0.368563  0.347069  0.178247   \n",
       "\n",
       "           fM3Long  fM3Trans    fAlpha     fDist  \n",
       "fLength   0.542494  0.012365  0.443254  0.602484  \n",
       "fWidth    0.422040  0.044029  0.296896  0.389203  \n",
       "fSize     0.540958  0.022637  0.458027  0.459633  \n",
       "fConc     0.452183  0.017358  0.482306  0.368563  \n",
       "fConc1    0.433914  0.016044  0.463505  0.347069  \n",
       "fAsym     0.162438  0.005629  0.004521  0.178247  \n",
       "fM3Long   1.000000  0.008227  0.271444  0.294721  \n",
       "fM3Trans  0.008227  1.000000  0.007360  0.009829  \n",
       "fAlpha    0.271444  0.007360  1.000000  0.425098  \n",
       "fDist     0.294721  0.009829  0.425098  1.000000  "
      ]
     },
     "execution_count": 16,
     "metadata": {},
     "output_type": "execute_result"
    }
   ],
   "source": [
    "matrizNoHadrones=abs(noHadrones.corr())\n",
    "matrizNoHadrones"
   ]
  },
  {
   "cell_type": "markdown",
   "metadata": {
    "id": "qbJX-BpIdFPZ"
   },
   "source": [
    "Se puede ver que para clase noHadrones, las clases mas correlacionadas son:\n",
    "\n",
    "\n",
    "*   fConc-fConc1 = 0.979331\n",
    "*   fSize- fConc = 0.863438\n",
    "*   fSize- fWidth = 0.855156\n",
    "*   fSize- fConc1 = 0.825388\n",
    "*   fLength - fSize = 0.766119\n",
    " \n",
    "Y las 5 menos son:\n",
    "\n",
    "\n",
    "\n",
    "*   fAsym - fWidth = 0.002603\n",
    "*   fAsym - fAlpha = 0.004521\n",
    "*   fAsym - fM3Long = \t0.005629\n",
    "*   fM3Trans -fAlpha = 0.007360\t\n",
    "*   fM3Trans - fDist = 0.009829\n",
    "\n",
    "\n"
   ]
  },
  {
   "cell_type": "code",
   "execution_count": 15,
   "metadata": {
    "colab": {
     "base_uri": "https://localhost:8080/",
     "height": 359
    },
    "id": "MWtgkpMqcBNI",
    "outputId": "8a46493f-291b-44fc-cd62-83ec442f50ad"
   },
   "outputs": [
    {
     "data": {
      "text/html": [
       "<div>\n",
       "<style scoped>\n",
       "    .dataframe tbody tr th:only-of-type {\n",
       "        vertical-align: middle;\n",
       "    }\n",
       "\n",
       "    .dataframe tbody tr th {\n",
       "        vertical-align: top;\n",
       "    }\n",
       "\n",
       "    .dataframe thead th {\n",
       "        text-align: right;\n",
       "    }\n",
       "</style>\n",
       "<table border=\"1\" class=\"dataframe\">\n",
       "  <thead>\n",
       "    <tr style=\"text-align: right;\">\n",
       "      <th></th>\n",
       "      <th>fLength</th>\n",
       "      <th>fWidth</th>\n",
       "      <th>fSize</th>\n",
       "      <th>fConc</th>\n",
       "      <th>fConc1</th>\n",
       "      <th>fAsym</th>\n",
       "      <th>fM3Long</th>\n",
       "      <th>fM3Trans</th>\n",
       "      <th>fAlpha</th>\n",
       "      <th>fDist</th>\n",
       "    </tr>\n",
       "  </thead>\n",
       "  <tbody>\n",
       "    <tr>\n",
       "      <td>fLength</td>\n",
       "      <td>1.000000</td>\n",
       "      <td>0.773884</td>\n",
       "      <td>0.747319</td>\n",
       "      <td>0.688524</td>\n",
       "      <td>0.651879</td>\n",
       "      <td>0.423194</td>\n",
       "      <td>0.307349</td>\n",
       "      <td>0.013007</td>\n",
       "      <td>0.009282</td>\n",
       "      <td>0.325267</td>\n",
       "    </tr>\n",
       "    <tr>\n",
       "      <td>fWidth</td>\n",
       "      <td>0.773884</td>\n",
       "      <td>1.000000</td>\n",
       "      <td>0.790355</td>\n",
       "      <td>0.672618</td>\n",
       "      <td>0.638750</td>\n",
       "      <td>0.304118</td>\n",
       "      <td>0.296956</td>\n",
       "      <td>0.039519</td>\n",
       "      <td>0.041617</td>\n",
       "      <td>0.354997</td>\n",
       "    </tr>\n",
       "    <tr>\n",
       "      <td>fSize</td>\n",
       "      <td>0.747319</td>\n",
       "      <td>0.790355</td>\n",
       "      <td>1.000000</td>\n",
       "      <td>0.839128</td>\n",
       "      <td>0.796837</td>\n",
       "      <td>0.305340</td>\n",
       "      <td>0.223553</td>\n",
       "      <td>0.010992</td>\n",
       "      <td>0.004228</td>\n",
       "      <td>0.394842</td>\n",
       "    </tr>\n",
       "    <tr>\n",
       "      <td>fConc</td>\n",
       "      <td>0.688524</td>\n",
       "      <td>0.672618</td>\n",
       "      <td>0.839128</td>\n",
       "      <td>1.000000</td>\n",
       "      <td>0.972725</td>\n",
       "      <td>0.238806</td>\n",
       "      <td>0.124154</td>\n",
       "      <td>0.007704</td>\n",
       "      <td>0.010714</td>\n",
       "      <td>0.267684</td>\n",
       "    </tr>\n",
       "    <tr>\n",
       "      <td>fConc1</td>\n",
       "      <td>0.651879</td>\n",
       "      <td>0.638750</td>\n",
       "      <td>0.796837</td>\n",
       "      <td>0.972725</td>\n",
       "      <td>1.000000</td>\n",
       "      <td>0.220317</td>\n",
       "      <td>0.115716</td>\n",
       "      <td>0.008235</td>\n",
       "      <td>0.015137</td>\n",
       "      <td>0.245179</td>\n",
       "    </tr>\n",
       "    <tr>\n",
       "      <td>fAsym</td>\n",
       "      <td>0.423194</td>\n",
       "      <td>0.304118</td>\n",
       "      <td>0.305340</td>\n",
       "      <td>0.238806</td>\n",
       "      <td>0.220317</td>\n",
       "      <td>1.000000</td>\n",
       "      <td>0.285738</td>\n",
       "      <td>0.006849</td>\n",
       "      <td>0.053334</td>\n",
       "      <td>0.229049</td>\n",
       "    </tr>\n",
       "    <tr>\n",
       "      <td>fM3Long</td>\n",
       "      <td>0.307349</td>\n",
       "      <td>0.296956</td>\n",
       "      <td>0.223553</td>\n",
       "      <td>0.124154</td>\n",
       "      <td>0.115716</td>\n",
       "      <td>0.285738</td>\n",
       "      <td>1.000000</td>\n",
       "      <td>0.026806</td>\n",
       "      <td>0.001489</td>\n",
       "      <td>0.131121</td>\n",
       "    </tr>\n",
       "    <tr>\n",
       "      <td>fM3Trans</td>\n",
       "      <td>0.013007</td>\n",
       "      <td>0.039519</td>\n",
       "      <td>0.010992</td>\n",
       "      <td>0.007704</td>\n",
       "      <td>0.008235</td>\n",
       "      <td>0.006849</td>\n",
       "      <td>0.026806</td>\n",
       "      <td>1.000000</td>\n",
       "      <td>0.010832</td>\n",
       "      <td>0.013150</td>\n",
       "    </tr>\n",
       "    <tr>\n",
       "      <td>fAlpha</td>\n",
       "      <td>0.009282</td>\n",
       "      <td>0.041617</td>\n",
       "      <td>0.004228</td>\n",
       "      <td>0.010714</td>\n",
       "      <td>0.015137</td>\n",
       "      <td>0.053334</td>\n",
       "      <td>0.001489</td>\n",
       "      <td>0.010832</td>\n",
       "      <td>1.000000</td>\n",
       "      <td>0.097112</td>\n",
       "    </tr>\n",
       "    <tr>\n",
       "      <td>fDist</td>\n",
       "      <td>0.325267</td>\n",
       "      <td>0.354997</td>\n",
       "      <td>0.394842</td>\n",
       "      <td>0.267684</td>\n",
       "      <td>0.245179</td>\n",
       "      <td>0.229049</td>\n",
       "      <td>0.131121</td>\n",
       "      <td>0.013150</td>\n",
       "      <td>0.097112</td>\n",
       "      <td>1.000000</td>\n",
       "    </tr>\n",
       "  </tbody>\n",
       "</table>\n",
       "</div>"
      ],
      "text/plain": [
       "           fLength    fWidth     fSize     fConc    fConc1     fAsym  \\\n",
       "fLength   1.000000  0.773884  0.747319  0.688524  0.651879  0.423194   \n",
       "fWidth    0.773884  1.000000  0.790355  0.672618  0.638750  0.304118   \n",
       "fSize     0.747319  0.790355  1.000000  0.839128  0.796837  0.305340   \n",
       "fConc     0.688524  0.672618  0.839128  1.000000  0.972725  0.238806   \n",
       "fConc1    0.651879  0.638750  0.796837  0.972725  1.000000  0.220317   \n",
       "fAsym     0.423194  0.304118  0.305340  0.238806  0.220317  1.000000   \n",
       "fM3Long   0.307349  0.296956  0.223553  0.124154  0.115716  0.285738   \n",
       "fM3Trans  0.013007  0.039519  0.010992  0.007704  0.008235  0.006849   \n",
       "fAlpha    0.009282  0.041617  0.004228  0.010714  0.015137  0.053334   \n",
       "fDist     0.325267  0.354997  0.394842  0.267684  0.245179  0.229049   \n",
       "\n",
       "           fM3Long  fM3Trans    fAlpha     fDist  \n",
       "fLength   0.307349  0.013007  0.009282  0.325267  \n",
       "fWidth    0.296956  0.039519  0.041617  0.354997  \n",
       "fSize     0.223553  0.010992  0.004228  0.394842  \n",
       "fConc     0.124154  0.007704  0.010714  0.267684  \n",
       "fConc1    0.115716  0.008235  0.015137  0.245179  \n",
       "fAsym     0.285738  0.006849  0.053334  0.229049  \n",
       "fM3Long   1.000000  0.026806  0.001489  0.131121  \n",
       "fM3Trans  0.026806  1.000000  0.010832  0.013150  \n",
       "fAlpha    0.001489  0.010832  1.000000  0.097112  \n",
       "fDist     0.131121  0.013150  0.097112  1.000000  "
      ]
     },
     "execution_count": 15,
     "metadata": {},
     "output_type": "execute_result"
    }
   ],
   "source": [
    "matrizHadrones=abs(hadrones.corr())\n",
    "matrizHadrones"
   ]
  },
  {
   "cell_type": "markdown",
   "metadata": {
    "id": "HSDJ8tGnevzk"
   },
   "source": [
    "Se puede ver que las 5 caracteristicas mas correlacionadas son:\n",
    "\n",
    "\n",
    "*   fConc- fConc1 = 0.972725\n",
    "*   fSize- fConc = 0.839128\n",
    "*   fConc1-fSize = 0.796837\n",
    "*   fSize- fWidth = 0.790355\n",
    "*   fWidth - fLength = 0.773884\n",
    "\n",
    "Y las 5 menos correlacionadas son:\n",
    "\n",
    "\n",
    "\n",
    "*   fM3Long - fAlpha = 0.001489\n",
    "*   fSize- fAlpha = 0.004228\n",
    "*   fM3Trans - fAsym = 0.006849\n",
    "*   fConc - fM3Trans = 0.007704\n",
    "*   fConc1 - fM3Trans = 0.008235\n",
    "\n",
    "\n",
    "\n",
    "\n"
   ]
  },
  {
   "cell_type": "markdown",
   "metadata": {
    "id": "DBGoONIhf10K"
   },
   "source": [
    "Ahora graficamos los dos pares de caracteristicas más correlacionadas entre sí.\n",
    "Para los dos casos es fConc y fCon1, y fSize- fConc."
   ]
  },
  {
   "cell_type": "code",
   "execution_count": 27,
   "metadata": {
    "colab": {
     "base_uri": "https://localhost:8080/",
     "height": 284
    },
    "id": "EA1APsBLgDg8",
    "outputId": "1348abca-34d7-4317-ca88-c63fa8a518bf"
   },
   "outputs": [
    {
     "data": {
      "text/plain": [
       "<matplotlib.collections.PathCollection at 0x24577b1fe10>"
      ]
     },
     "execution_count": 27,
     "metadata": {},
     "output_type": "execute_result"
    },
    {
     "data": {
      "image/png": "[encoded data removed]",
      "text/plain": [
       "<Figure size 432x288 with 1 Axes>"
      ]
     },
     "metadata": {
      "needs_background": "light"
     },
     "output_type": "display_data"
    }
   ],
   "source": [
    "plt.scatter(fConcClass0,fConc1Class0)"
   ]
  },
  {
   "cell_type": "code",
   "execution_count": 28,
   "metadata": {
    "colab": {
     "base_uri": "https://localhost:8080/",
     "height": 282
    },
    "id": "95gI-6wQgKFv",
    "outputId": "a59ed15c-2c16-416d-8ad8-18e4285fe06b"
   },
   "outputs": [
    {
     "data": {
      "text/plain": [
       "<matplotlib.collections.PathCollection at 0x24577b93390>"
      ]
     },
     "execution_count": 28,
     "metadata": {},
     "output_type": "execute_result"
    },
    {
     "data": {
      "image/png": "[encoded data removed]",
      "text/plain": [
       "<Figure size 432x288 with 1 Axes>"
      ]
     },
     "metadata": {
      "needs_background": "light"
     },
     "output_type": "display_data"
    }
   ],
   "source": [
    "plt.scatter(fConcClass1,fConc1Class1)"
   ]
  },
  {
   "cell_type": "markdown",
   "metadata": {
    "id": "Zl0NLbXFkyUx"
   },
   "source": [
    "Ahora con fSize- fConc:"
   ]
  },
  {
   "cell_type": "code",
   "execution_count": 29,
   "metadata": {
    "colab": {
     "base_uri": "https://localhost:8080/",
     "height": 282
    },
    "id": "jaKDJGnAk0no",
    "outputId": "54cfb2f3-1f14-4039-c5e9-dc68574eeb81"
   },
   "outputs": [
    {
     "data": {
      "text/plain": [
       "<matplotlib.collections.PathCollection at 0x24577bea710>"
      ]
     },
     "execution_count": 29,
     "metadata": {},
     "output_type": "execute_result"
    },
    {
     "data": {
      "image/png": "[encoded data removed]",
      "text/plain": [
       "<Figure size 432x288 with 1 Axes>"
      ]
     },
     "metadata": {
      "needs_background": "light"
     },
     "output_type": "display_data"
    }
   ],
   "source": [
    "plt.scatter(fSizeClass0, fConcClass0)"
   ]
  },
  {
   "cell_type": "code",
   "execution_count": 30,
   "metadata": {
    "colab": {
     "base_uri": "https://localhost:8080/",
     "height": 282
    },
    "id": "Vs3rGH0tk6jE",
    "outputId": "94fe24e0-8420-4ae2-8901-a8759d71122e"
   },
   "outputs": [
    {
     "data": {
      "text/plain": [
       "<matplotlib.collections.PathCollection at 0x24577c45898>"
      ]
     },
     "execution_count": 30,
     "metadata": {},
     "output_type": "execute_result"
    },
    {
     "data": {
      "image/png": "[encoded data removed]",
      "text/plain": [
       "<Figure size 432x288 with 1 Axes>"
      ]
     },
     "metadata": {
      "needs_background": "light"
     },
     "output_type": "display_data"
    }
   ],
   "source": [
    "plt.scatter(fSizeClass1, fConcClass1)"
   ]
  },
  {
   "cell_type": "markdown",
   "metadata": {
    "id": "uMje6GaQhSvI"
   },
   "source": [
    "Para el primer par de caracteristicas se ve que hay una relacion lineal entre las dos caracteristicas por lo que ambas caracteristicas están muy correlacionadas como mostraba la matriz de correlacion.\n",
    "\n",
    "Respecto al segundo par, igual se puede ver una curva, pero es más gruesa que con el par anterior, y en vez de ser directamente proporcional, parece ser inversamente proporcional. Al igual que con el par anterior, dada la muy definida curva para las dos clases, se puede concluir que estas categorias están muy relacionadas entre sí.\n",
    "\n",
    "\n",
    "Ahora hacemos lo mismo pero con las caracteristicas menos correlacionadas entre sí:\n",
    "\n",
    "Para no hadrones es fAsym - fWidth:"
   ]
  },
  {
   "cell_type": "code",
   "execution_count": 31,
   "metadata": {
    "colab": {
     "base_uri": "https://localhost:8080/",
     "height": 282
    },
    "id": "XnR7kIc3jxi6",
    "outputId": "93e5e318-a69c-4f07-80cb-c1fbe0681022"
   },
   "outputs": [
    {
     "data": {
      "text/plain": [
       "<matplotlib.collections.PathCollection at 0x24577cb0048>"
      ]
     },
     "execution_count": 31,
     "metadata": {},
     "output_type": "execute_result"
    },
    {
     "data": {
      "image/png": "[encoded data removed]",
      "text/plain": [
       "<Figure size 432x288 with 1 Axes>"
      ]
     },
     "metadata": {
      "needs_background": "light"
     },
     "output_type": "display_data"
    }
   ],
   "source": [
    "plt.scatter(fAsymClass0,fWidthClass0)"
   ]
  },
  {
   "cell_type": "markdown",
   "metadata": {
    "id": "1JQCKUCDkb3-"
   },
   "source": [
    "Se ve que los puntos están acumulados dentro de una zona, pero no forma un curva o linea que indique que haya una relacion lineal o de otro tipo. Ahora si probamos con el segundo par de caracteristicas menos correlacionadas, es fAsym - fAlpha:"
   ]
  },
  {
   "cell_type": "code",
   "execution_count": 32,
   "metadata": {
    "colab": {
     "base_uri": "https://localhost:8080/",
     "height": 282
    },
    "id": "PAM5DavWlm5v",
    "outputId": "9883f65a-b936-4d66-d3c8-d6bff5de6bde"
   },
   "outputs": [
    {
     "data": {
      "text/plain": [
       "<matplotlib.collections.PathCollection at 0x24577d0ab70>"
      ]
     },
     "execution_count": 32,
     "metadata": {},
     "output_type": "execute_result"
    },
    {
     "data": {
      "image/png": "[encoded data removed]",
      "text/plain": [
       "<Figure size 432x288 with 1 Axes>"
      ]
     },
     "metadata": {
      "needs_background": "light"
     },
     "output_type": "display_data"
    }
   ],
   "source": [
    "plt.scatter(fAsymClass0,fAlphaClass0)"
   ]
  },
  {
   "cell_type": "markdown",
   "metadata": {
    "id": "Y3cfVuWVmUih"
   },
   "source": [
    "Se puede ver una linea en el grafico, sin embargo no representa ninguna curva que sea una funcion, por lo que no se puede definir una relacion."
   ]
  },
  {
   "cell_type": "markdown",
   "metadata": {
    "id": "K1baVLV8jx53"
   },
   "source": [
    "Para los hadrones es fM3Long - fAlpha:"
   ]
  },
  {
   "cell_type": "code",
   "execution_count": 33,
   "metadata": {
    "colab": {
     "base_uri": "https://localhost:8080/",
     "height": 282
    },
    "id": "BuZtWzigj--K",
    "outputId": "c73943db-9d24-46de-9fab-2f90b42290e1"
   },
   "outputs": [
    {
     "data": {
      "text/plain": [
       "<matplotlib.collections.PathCollection at 0x24577d6a710>"
      ]
     },
     "execution_count": 33,
     "metadata": {},
     "output_type": "execute_result"
    },
    {
     "data": {
      "image/png": "[encoded data removed]",
      "text/plain": [
       "<Figure size 432x288 with 1 Axes>"
      ]
     },
     "metadata": {
      "needs_background": "light"
     },
     "output_type": "display_data"
    }
   ],
   "source": [
    "plt.scatter(fM3LongClass1,fAlphaClass1)"
   ]
  },
  {
   "cell_type": "markdown",
   "metadata": {
    "id": "GxXhowdfkS4C"
   },
   "source": [
    "Se ve bastante más desordenado que con los NoHadrones, y no se puede establecer ningun tipo de patrón. Ahora probamos con el segundo par, con fSize- fAlpha."
   ]
  },
  {
   "cell_type": "code",
   "execution_count": 34,
   "metadata": {
    "colab": {
     "base_uri": "https://localhost:8080/",
     "height": 282
    },
    "id": "WDPwuIrIl82C",
    "outputId": "5d6ab62c-40c3-460b-8705-fed8faebae17"
   },
   "outputs": [
    {
     "data": {
      "text/plain": [
       "<matplotlib.collections.PathCollection at 0x24577dcb4a8>"
      ]
     },
     "execution_count": 34,
     "metadata": {},
     "output_type": "execute_result"
    },
    {
     "data": {
      "image/png": "[encoded data removed]",
      "text/plain": [
       "<Figure size 432x288 with 1 Axes>"
      ]
     },
     "metadata": {
      "needs_background": "light"
     },
     "output_type": "display_data"
    }
   ],
   "source": [
    "plt.scatter(fSizeClass1,fAlphaClass1)"
   ]
  },
  {
   "cell_type": "markdown",
   "metadata": {
    "id": "4ZNNKnuOkG6I"
   },
   "source": [
    "Se puede notar la diferencia entre las caracteristicas menos correlacionadas con las mas, pues en las más, se ve una linea, mientras que en las otras no se forma ningun tipo de curva. En el caso de los hadrones, solo se ven un grupo de puntos acumulados en una zona, pero que no es capaz de forma una curva.\n",
    "\n",
    "Ahora conseguimos graficar el Heatmap de tanto la clase no Hadrón como la clase Hadrón. Primero empezamos con la clase no Hadrón."
   ]
  },
  {
   "cell_type": "code",
   "execution_count": 17,
   "metadata": {},
   "outputs": [
    {
     "data": {
      "text/plain": [
       "<matplotlib.axes._subplots.AxesSubplot at 0x27892e07748>"
      ]
     },
     "execution_count": 17,
     "metadata": {},
     "output_type": "execute_result"
    },
    {
     "data": {
      "image/png": "[encoded data removed]",
      "text/plain": [
       "<Figure size 432x288 with 2 Axes>"
      ]
     },
     "metadata": {
      "needs_background": "light"
     },
     "output_type": "display_data"
    }
   ],
   "source": [
    "sb.heatmap(matrizNoHadrones)"
   ]
  },
  {
   "cell_type": "markdown",
   "metadata": {},
   "source": [
    "Se puede ver lo que se mencionaba antes, mientras más blanco es el punto más correlacionadas están entre sí y esto se puede notar con la caracteristica fSize con fWidth y fConc. Como tambien fConc con fConc2.\n",
    "\n",
    "Respecto a las caracteristicas menos relacionadas, se puede ver que fAsym posee poca correlacion con todas, y lo mismo con fM3Trans, que es lo que se evidenciaba con la matriz de correlacion que vimos antes.\n",
    "\n",
    "Ahora, hacemos lo mismo pero con la clase Hadrón"
   ]
  },
  {
   "cell_type": "code",
   "execution_count": 18,
   "metadata": {
    "colab": {
     "base_uri": "https://localhost:8080/",
     "height": 323
    },
    "id": "AW9sK1dcmqVz",
    "outputId": "a860cc22-a1f3-42a1-e90b-7b5e04bad2be"
   },
   "outputs": [
    {
     "data": {
      "text/plain": [
       "<matplotlib.axes._subplots.AxesSubplot at 0x278911c3ba8>"
      ]
     },
     "execution_count": 18,
     "metadata": {},
     "output_type": "execute_result"
    },
    {
     "data": {
      "image/png": "[encoded data removed]",
      "text/plain": [
       "<Figure size 432x288 with 2 Axes>"
      ]
     },
     "metadata": {
      "needs_background": "light"
     },
     "output_type": "display_data"
    }
   ],
   "source": [
    "sb.heatmap(matrizHadrones)"
   ]
  },
  {
   "cell_type": "markdown",
   "metadata": {},
   "source": [
    "Se aprecia lo que se corrobara con la matriz de correlacion, que fSize está correlacionado con fConc, y que fConc con fConc1. Tambien se aprecia que las caracteristicas menos correlacionadas son distintas a la de los no hadrones, puesto que aquí fAlpha es la caracteristica menos correlacionada con las otras, a diferencia de fAsym que es la menos correlacionada con los no Hadrones. FM3Trans sigue al igual que con los no hadrones, sin poseer mucha correlacion con las otras caracteristicas."
   ]
  },
  {
   "cell_type": "markdown",
   "metadata": {
    "id": "9nBCpaXxKDkQ"
   },
   "source": [
    "# Pregunta 2\n",
    "\n",
    "Vamos a usar el clasificador de Bayes, necesitamos dividir el conjunto en dos subconjuntos: el de entrenamiento y el de prueba. Este se dividirá en en 80% entrenamiento y 20% prueba.\n",
    "\n",
    "### Particionando el Set"
   ]
  },
  {
   "cell_type": "code",
   "execution_count": 6,
   "metadata": {},
   "outputs": [],
   "source": [
    "import sklearn.utils\n",
    "import math"
   ]
  },
  {
   "cell_type": "code",
   "execution_count": 7,
   "metadata": {
    "id": "Mq2u6SO8KJxz"
   },
   "outputs": [
    {
     "data": {
      "text/html": [
       "<div>\n",
       "<style scoped>\n",
       "    .dataframe tbody tr th:only-of-type {\n",
       "        vertical-align: middle;\n",
       "    }\n",
       "\n",
       "    .dataframe tbody tr th {\n",
       "        vertical-align: top;\n",
       "    }\n",
       "\n",
       "    .dataframe thead th {\n",
       "        text-align: right;\n",
       "    }\n",
       "</style>\n",
       "<table border=\"1\" class=\"dataframe\">\n",
       "  <thead>\n",
       "    <tr style=\"text-align: right;\">\n",
       "      <th></th>\n",
       "      <th>fLength</th>\n",
       "      <th>fWidth</th>\n",
       "      <th>fSize</th>\n",
       "      <th>fConc</th>\n",
       "      <th>fConc1</th>\n",
       "      <th>fAsym</th>\n",
       "      <th>fM3Long</th>\n",
       "      <th>fM3Trans</th>\n",
       "      <th>fAlpha</th>\n",
       "      <th>fDist</th>\n",
       "      <th>class</th>\n",
       "      <th>index</th>\n",
       "    </tr>\n",
       "  </thead>\n",
       "  <tbody>\n",
       "    <tr>\n",
       "      <td>3805</td>\n",
       "      <td>26.4601</td>\n",
       "      <td>15.9796</td>\n",
       "      <td>2.3747</td>\n",
       "      <td>0.3797</td>\n",
       "      <td>0.2089</td>\n",
       "      <td>1.2693</td>\n",
       "      <td>5.2042</td>\n",
       "      <td>4.5312</td>\n",
       "      <td>38.5430</td>\n",
       "      <td>39.9789</td>\n",
       "      <td>0</td>\n",
       "      <td>3806</td>\n",
       "    </tr>\n",
       "    <tr>\n",
       "      <td>3806</td>\n",
       "      <td>37.1132</td>\n",
       "      <td>12.3937</td>\n",
       "      <td>2.8949</td>\n",
       "      <td>0.3401</td>\n",
       "      <td>0.1790</td>\n",
       "      <td>13.4391</td>\n",
       "      <td>21.4918</td>\n",
       "      <td>-5.7741</td>\n",
       "      <td>46.9290</td>\n",
       "      <td>135.5520</td>\n",
       "      <td>1</td>\n",
       "      <td>3807</td>\n",
       "    </tr>\n",
       "    <tr>\n",
       "      <td>3807</td>\n",
       "      <td>30.3256</td>\n",
       "      <td>15.9097</td>\n",
       "      <td>2.4639</td>\n",
       "      <td>0.4467</td>\n",
       "      <td>0.2526</td>\n",
       "      <td>38.2613</td>\n",
       "      <td>8.0953</td>\n",
       "      <td>9.8041</td>\n",
       "      <td>32.7886</td>\n",
       "      <td>186.1560</td>\n",
       "      <td>1</td>\n",
       "      <td>3808</td>\n",
       "    </tr>\n",
       "    <tr>\n",
       "      <td>3808</td>\n",
       "      <td>31.9774</td>\n",
       "      <td>11.9107</td>\n",
       "      <td>2.7723</td>\n",
       "      <td>0.4088</td>\n",
       "      <td>0.2255</td>\n",
       "      <td>-6.8707</td>\n",
       "      <td>19.3197</td>\n",
       "      <td>-10.7704</td>\n",
       "      <td>6.4600</td>\n",
       "      <td>173.8460</td>\n",
       "      <td>0</td>\n",
       "      <td>3809</td>\n",
       "    </tr>\n",
       "    <tr>\n",
       "      <td>3809</td>\n",
       "      <td>24.8732</td>\n",
       "      <td>10.6854</td>\n",
       "      <td>2.3971</td>\n",
       "      <td>0.5170</td>\n",
       "      <td>0.3307</td>\n",
       "      <td>13.7192</td>\n",
       "      <td>20.6316</td>\n",
       "      <td>-7.3335</td>\n",
       "      <td>1.7270</td>\n",
       "      <td>201.0700</td>\n",
       "      <td>0</td>\n",
       "      <td>3810</td>\n",
       "    </tr>\n",
       "    <tr>\n",
       "      <td>...</td>\n",
       "      <td>...</td>\n",
       "      <td>...</td>\n",
       "      <td>...</td>\n",
       "      <td>...</td>\n",
       "      <td>...</td>\n",
       "      <td>...</td>\n",
       "      <td>...</td>\n",
       "      <td>...</td>\n",
       "      <td>...</td>\n",
       "      <td>...</td>\n",
       "      <td>...</td>\n",
       "      <td>...</td>\n",
       "    </tr>\n",
       "    <tr>\n",
       "      <td>19015</td>\n",
       "      <td>13.1787</td>\n",
       "      <td>10.8308</td>\n",
       "      <td>2.2082</td>\n",
       "      <td>0.7740</td>\n",
       "      <td>0.4241</td>\n",
       "      <td>14.4768</td>\n",
       "      <td>-2.7238</td>\n",
       "      <td>-11.6297</td>\n",
       "      <td>27.1060</td>\n",
       "      <td>197.2640</td>\n",
       "      <td>0</td>\n",
       "      <td>19016</td>\n",
       "    </tr>\n",
       "    <tr>\n",
       "      <td>19016</td>\n",
       "      <td>38.3448</td>\n",
       "      <td>14.1032</td>\n",
       "      <td>2.8238</td>\n",
       "      <td>0.3781</td>\n",
       "      <td>0.2093</td>\n",
       "      <td>40.6911</td>\n",
       "      <td>26.0716</td>\n",
       "      <td>-5.8822</td>\n",
       "      <td>0.1899</td>\n",
       "      <td>177.9740</td>\n",
       "      <td>0</td>\n",
       "      <td>19017</td>\n",
       "    </tr>\n",
       "    <tr>\n",
       "      <td>19017</td>\n",
       "      <td>93.3756</td>\n",
       "      <td>56.9617</td>\n",
       "      <td>3.3768</td>\n",
       "      <td>0.1600</td>\n",
       "      <td>0.0825</td>\n",
       "      <td>-7.6621</td>\n",
       "      <td>18.5969</td>\n",
       "      <td>32.2942</td>\n",
       "      <td>47.4540</td>\n",
       "      <td>332.2960</td>\n",
       "      <td>1</td>\n",
       "      <td>19018</td>\n",
       "    </tr>\n",
       "    <tr>\n",
       "      <td>19018</td>\n",
       "      <td>140.5780</td>\n",
       "      <td>33.8769</td>\n",
       "      <td>2.9959</td>\n",
       "      <td>0.2161</td>\n",
       "      <td>0.1106</td>\n",
       "      <td>126.1110</td>\n",
       "      <td>113.4860</td>\n",
       "      <td>-8.1873</td>\n",
       "      <td>87.3467</td>\n",
       "      <td>113.6530</td>\n",
       "      <td>1</td>\n",
       "      <td>19019</td>\n",
       "    </tr>\n",
       "    <tr>\n",
       "      <td>19019</td>\n",
       "      <td>235.3670</td>\n",
       "      <td>108.8140</td>\n",
       "      <td>4.1361</td>\n",
       "      <td>0.0526</td>\n",
       "      <td>0.0280</td>\n",
       "      <td>-284.7810</td>\n",
       "      <td>-163.2770</td>\n",
       "      <td>-50.4738</td>\n",
       "      <td>59.6710</td>\n",
       "      <td>171.6980</td>\n",
       "      <td>1</td>\n",
       "      <td>19020</td>\n",
       "    </tr>\n",
       "  </tbody>\n",
       "</table>\n",
       "<p>15215 rows × 12 columns</p>\n",
       "</div>"
      ],
      "text/plain": [
       "        fLength    fWidth   fSize   fConc  fConc1     fAsym   fM3Long  \\\n",
       "3805    26.4601   15.9796  2.3747  0.3797  0.2089    1.2693    5.2042   \n",
       "3806    37.1132   12.3937  2.8949  0.3401  0.1790   13.4391   21.4918   \n",
       "3807    30.3256   15.9097  2.4639  0.4467  0.2526   38.2613    8.0953   \n",
       "3808    31.9774   11.9107  2.7723  0.4088  0.2255   -6.8707   19.3197   \n",
       "3809    24.8732   10.6854  2.3971  0.5170  0.3307   13.7192   20.6316   \n",
       "...         ...       ...     ...     ...     ...       ...       ...   \n",
       "19015   13.1787   10.8308  2.2082  0.7740  0.4241   14.4768   -2.7238   \n",
       "19016   38.3448   14.1032  2.8238  0.3781  0.2093   40.6911   26.0716   \n",
       "19017   93.3756   56.9617  3.3768  0.1600  0.0825   -7.6621   18.5969   \n",
       "19018  140.5780   33.8769  2.9959  0.2161  0.1106  126.1110  113.4860   \n",
       "19019  235.3670  108.8140  4.1361  0.0526  0.0280 -284.7810 -163.2770   \n",
       "\n",
       "       fM3Trans   fAlpha     fDist  class  index  \n",
       "3805     4.5312  38.5430   39.9789      0   3806  \n",
       "3806    -5.7741  46.9290  135.5520      1   3807  \n",
       "3807     9.8041  32.7886  186.1560      1   3808  \n",
       "3808   -10.7704   6.4600  173.8460      0   3809  \n",
       "3809    -7.3335   1.7270  201.0700      0   3810  \n",
       "...         ...      ...       ...    ...    ...  \n",
       "19015  -11.6297  27.1060  197.2640      0  19016  \n",
       "19016   -5.8822   0.1899  177.9740      0  19017  \n",
       "19017   32.2942  47.4540  332.2960      1  19018  \n",
       "19018   -8.1873  87.3467  113.6530      1  19019  \n",
       "19019  -50.4738  59.6710  171.6980      1  19020  \n",
       "\n",
       "[15215 rows x 12 columns]"
      ]
     },
     "execution_count": 7,
     "metadata": {},
     "output_type": "execute_result"
    }
   ],
   "source": [
    "df = sklearn.utils.shuffle(datos)\n",
    "\n",
    "trainingSize=int(df.shape[0]*0.8)\n",
    "testSize=df.shape[0]-trainingSize\n",
    "\n",
    "df.reset_index(inplace=True, drop=True)\n",
    "vector=np.arange(df.size).tolist()\n",
    "df=df.assign(index=lambda x: x.index+1)\n",
    "testSet=df.loc[:testSize,:]\n",
    "trainingSet=df.loc[testSize+1:,:]\n",
    "\n",
    "trainingSet"
   ]
  },
  {
   "cell_type": "markdown",
   "metadata": {
    "id": "E6l3q6ZaxWlO"
   },
   "source": [
    "### Ahora definimos el clasificador de Bayes.\n",
    "\n",
    "Primero creamos el Entrenador que entrenará el clasificador con un histograma. Para ello primero creamos la clase que creará el histograma para cada caracteristica y clase. La verosimilitud se calculará considerando a cada valor como independientes entre sí, por lo que se multiplicaran entre sí."
   ]
  },
  {
   "cell_type": "code",
   "execution_count": 8,
   "metadata": {
    "id": "dHBknsUjzymU"
   },
   "outputs": [],
   "source": [
    "import operator\n",
    "#Creamos el histograma, que despues se usará en la verosimilitud, y para clasificar.\n",
    "def EntrenamientoBayes(x,bins,c,classB):\n",
    "    hist={}\n",
    "    size=int(len(x))\n",
    "    valor=x[c]\n",
    "    k=0\n",
    "    if (x['class'].any()==classB):\n",
    "        x=x[x['class']==classB]\n",
    "    hist[c]=np.histogram(x[c],bins)\n",
    "    return hist"
   ]
  },
  {
   "cell_type": "markdown",
   "metadata": {},
   "source": [
    "Ahora calculamos todos los histogramas usando una rutina."
   ]
  },
  {
   "cell_type": "code",
   "execution_count": 59,
   "metadata": {},
   "outputs": [],
   "source": [
    "bins=10\n",
    "clases=['fLength', 'fWidth', 'fSize', 'fConc', 'fConc1',\n",
    "'fAsym', 'fM3Long', 'fM3Trans', 'fAlpha', 'fDist']\n",
    "\n",
    "\n",
    "\n",
    "c=len(clases)\n",
    "matrizHistogramaClass0={}\n",
    "matrizHistogramaClass1={}\n",
    "for i in clases:\n",
    "    matrizHistogramaClass0[i]=EntrenamientoBayes(trainingSet,bins,i,0)\n",
    "    matrizHistogramaClass1[i]=EntrenamientoBayes(trainingSet,bins,i,1)\n",
    "\n"
   ]
  },
  {
   "cell_type": "markdown",
   "metadata": {},
   "source": [
    "Definimos la siguiente función, con el proposito de que está obtenga los valores de los histogramas dependiendo de la clase y la característica."
   ]
  },
  {
   "cell_type": "code",
   "execution_count": 28,
   "metadata": {},
   "outputs": [],
   "source": [
    "def ObtenerValorHistogramaClass0(x,c,indice):\n",
    "    histograma=matrizHistogramaClass0.get(c).get(c)\n",
    "    \n",
    "    if(indice <=0):\n",
    "        return histograma[0][0]\n",
    "    if (indice >= (len(histograma)-1)):\n",
    "        return histograma[0][len(histograma)-1]\n",
    "    \n",
    "    if (x >histograma[1][int(indice)-1] and x < histograma[1][int(indice)]):\n",
    "        return histograma[0][int(indice)]\n",
    "    elif (x <histograma[1][int(indice)]):\n",
    "        return ObtenerValorHistogramaClass0(x,c, indice/2)\n",
    "    elif (x > histograma[1][int(indice)]):\n",
    "        return ObtenerValorHistogramaClass0(x,c,indice+(indice/2)-1)\n",
    "    \n",
    "    "
   ]
  },
  {
   "cell_type": "code",
   "execution_count": 29,
   "metadata": {},
   "outputs": [],
   "source": [
    "def ObtenerValorHistogramaClass1(x,c,indice):\n",
    "    histograma=matrizHistogramaClass1.get(c).get(c)\n",
    "    \n",
    "    if(indice <=0):\n",
    "        return histograma[0][0]\n",
    "    if (indice >= (len(histograma)-1)):\n",
    "        return histograma[0][len(histograma)-1]\n",
    "    \n",
    "    if (x >histograma[1][int(indice)-1] and x < histograma[1][int(indice)]):\n",
    "        return histograma[0][int(indice-1)]\n",
    "    elif (x <histograma[1][int(indice)]):\n",
    "        return ObtenerValorHistogramaClass1(x,c, indice/2)\n",
    "    elif (x > histograma[1][int(indice)]):\n",
    "        return ObtenerValorHistogramaClass1(x,c,indice+(indice/2)-1)\n",
    "    \n",
    "    "
   ]
  },
  {
   "cell_type": "markdown",
   "metadata": {},
   "source": [
    "### Definiendo la verosimilitud y el clasificador.\n",
    "\n",
    "Para ello definimos una función llamada verosimilitud, que busca los valores dentro de los histogramas, y los divide por el tamaño del set de Entrenamiento.\n",
    "\n",
    "Tambien tenemos la funcion del clasificador que calcula la verosimilitud de cada valor y escoge la mejor decision en base a si la verosimilitud de la clase 1 es mejor que la de clase 0. Para ello le entregamos un $\\theta$, y un vector en donde guarda los valores para poder compararlos. Esta funcion entrega como resultado TFP, TVP y la Precision."
   ]
  },
  {
   "cell_type": "code",
   "execution_count": 18,
   "metadata": {
    "id": "t9oBtfEwxsC4"
   },
   "outputs": [],
   "source": [
    "largo=len(trainingSet)\n",
    "def verosimilitud(a,x,c,bins):\n",
    "    if (a==0):\n",
    "        i=ObtenerValorHistogramaClass0(x,c,bins/2)\n",
    "        \n",
    "        total=i/largo\n",
    "    else:\n",
    "        i=ObtenerValorHistogramaClass1(x,c,bins/2)\n",
    "        \n",
    "        total=i/largo\n",
    "    return total"
   ]
  },
  {
   "cell_type": "code",
   "execution_count": 13,
   "metadata": {
    "id": "m3UnhbLQKGMy"
   },
   "outputs": [],
   "source": [
    "#Tenemos el algoritmo que determina la decision con menos Loss.\n",
    "def Bayes (a,b,theta,x,c,bins):\n",
    "    p_a=1.0\n",
    "    p_b=1.0\n",
    "    for i in c:\n",
    "        p_a=verosimilitud(a,x[i],i,bins)*p_a\n",
    "        p_b=verosimilitud(b,x[i],i,bins)*p_b\n",
    "    if (p_a/p_b >= theta):\n",
    "        return 1\n",
    "    return 0"
   ]
  },
  {
   "cell_type": "code",
   "execution_count": 32,
   "metadata": {
    "id": "OWG5xSj70-hW"
   },
   "outputs": [],
   "source": [
    "# Retorna la clasificacion de valores que entrenamos despues.\n",
    "def ClasificadorBayes(x,y,y_p,classA,classB,caract,theta,bins):\n",
    "    a=0.0\n",
    "    b=0.0\n",
    "    c=0.0\n",
    "    d=0.0\n",
    "    for k in range(0,len(x)):\n",
    "        y_p[k]=Bayes(classA,classB,theta,x.iloc[k],caract,bins)\n",
    "        if (y[k]==y_p[k] and y_p[k]==1):\n",
    "            a=a+1\n",
    "        elif (y_p[k]==y[k] and y_p[k]==0):\n",
    "            d=d+1\n",
    "        elif (y_p[k]==1 and y[k]!=y_p[k]):\n",
    "            c=c+1\n",
    "        else:\n",
    "            b=b+1\n",
    "\n",
    "    if(a==0):\n",
    "        TVP=0\n",
    "        Precision=0\n",
    "    else:\n",
    "        TVP=a/(a+b)\n",
    "        Precision=a/(a+c)\n",
    "    \n",
    "    if(c==0):\n",
    "        TFP=0\n",
    "    else:\n",
    "        TFP=c/(c+d)\n",
    "    return TVP,TFP,Precision"
   ]
  },
  {
   "cell_type": "markdown",
   "metadata": {},
   "source": [
    "### Curvas ROC y Precision-Recall\n",
    "\n",
    "Ahora graficamos las dos curvas, variando el $\\theta$ de 0 hasta 0.5, usando 100 valores. Se grafica entonces los valores TFP  y TVP, en variacion a la \"tolerancia\", o el valor de $\\theta$."
   ]
  },
  {
   "cell_type": "code",
   "execution_count": 60,
   "metadata": {},
   "outputs": [],
   "source": [
    "theta=np.linspace(0,0.5,100)\n",
    "TVP=np.zeros(100)\n",
    "TFP=np.zeros(100)\n",
    "\n",
    "y=np.zeros(len(testSet))\n",
    "y_p=testSet['class']\n",
    "\n",
    "p_1=np.zeros(100)\n",
    "\n",
    "for i in range(len(theta)):\n",
    "    TVP_1,TFP_1,Precision=ClasificadorBayes(testSet,y_p,y,1,0,clases,theta[i],bins)\n",
    "    TVP[i]=TVP_1\n",
    "    TFP[i]=TFP_1\n",
    "    p_1[i]=Precision\n",
    "    "
   ]
  },
  {
   "cell_type": "code",
   "execution_count": 61,
   "metadata": {},
   "outputs": [
    {
     "data": {
      "text/plain": [
       "Text(0.5, 1.0, 'Tasa entre TFP con TVP usando Histogramas')"
      ]
     },
     "execution_count": 61,
     "metadata": {},
     "output_type": "execute_result"
    },
    {
     "data": {
      "image/png": "[encoded data removed]",
      "text/plain": [
       "<Figure size 432x288 with 1 Axes>"
      ]
     },
     "metadata": {
      "needs_background": "light"
     },
     "output_type": "display_data"
    }
   ],
   "source": [
    "plotHistograma1=plt.plot(TVP,TFP)\n",
    "plt.ylabel('TFP')\n",
    "plt.xlabel('TVP')\n",
    "plt.title('Tasa entre TFP con TVP usando Histogramas')"
   ]
  },
  {
   "cell_type": "code",
   "execution_count": 51,
   "metadata": {},
   "outputs": [
    {
     "data": {
      "text/plain": [
       "Text(0.5, 1.0, 'Curva Precision-Recall')"
      ]
     },
     "execution_count": 51,
     "metadata": {},
     "output_type": "execute_result"
    },
    {
     "data": {
      "image/png": "[encoded data removed]",
      "text/plain": [
       "<Figure size 432x288 with 1 Axes>"
      ]
     },
     "metadata": {
      "needs_background": "light"
     },
     "output_type": "display_data"
    }
   ],
   "source": [
    "plotHistograma1=plt.plot(p_1,TFP)\n",
    "plt.ylabel('Recall')\n",
    "plt.xlabel('Precision')\n",
    "plt.title('Curva Precision-Recall')"
   ]
  },
  {
   "cell_type": "markdown",
   "metadata": {},
   "source": [
    "Se puede ver que ninguna curva es mejor que la curva de un clasificador al azar, puesto que son una curva lineal de 1 a 1, como un clasificador al azar."
   ]
  },
  {
   "cell_type": "markdown",
   "metadata": {
    "id": "eug5MCNaKG5O"
   },
   "source": [
    "# Pregunta 3\n",
    "\n",
    "Ahora hacemos lo mismo que en la pregunta anterior. Se entrena el clasificador con los datos de entrenamiento, los mismos que se usaron en la pregunta 2. Aqui obtenemos la matriz de covarianza y la media de los datos.\n",
    "\n",
    "Con estos podemos calcular la Gaussiana asociada a estos datos, y comparar cual de las dos verosimilitudes es la más grande."
   ]
  },
  {
   "cell_type": "code",
   "execution_count": 37,
   "metadata": {
    "id": "HpbxUZakKJfr"
   },
   "outputs": [],
   "source": [
    "def EntrenamientoBayesGaussiana(x,classB):\n",
    "    x=x[x['class']==classB]\n",
    "    x=x.iloc[:,0:10]\n",
    "    cov=np.cov(x, rowvar=False)\n",
    "    mean=np.mean(x)\n",
    "    return cov,mean"
   ]
  },
  {
   "cell_type": "markdown",
   "metadata": {},
   "source": [
    "Ahora calculamos la matriz de covarianza y la media para cada clase, usando una rutina."
   ]
  },
  {
   "cell_type": "code",
   "execution_count": 38,
   "metadata": {},
   "outputs": [],
   "source": [
    "covClass0,meanClass0 = EntrenamientoBayesGaussiana(testSet,0)\n",
    "covClass1,meanClass1 = EntrenamientoBayesGaussiana(testSet,1)"
   ]
  },
  {
   "cell_type": "markdown",
   "metadata": {},
   "source": [
    "### Definimos la verosimilitud y el Clasificador\n",
    "\n",
    "Esta funcion verosimilitud calcula la Gaussiana usando los valores de covarianza y media dependiendo de la clase, entregando un valor $f$.\n",
    "\n",
    "Se calcula la Gaussiana para cada clase y se comparan entre ellas, y en base al valor $\\theta$, se define si dar 1 o 0."
   ]
  },
  {
   "cell_type": "code",
   "execution_count": 39,
   "metadata": {},
   "outputs": [],
   "source": [
    "def VerosimilitudBayesGaussiana(x,classB):\n",
    "    if (classB==0):\n",
    "        cov=covClass0\n",
    "        mean=meanClass0\n",
    "    else:\n",
    "        cov=covClass1\n",
    "        mean=meanClass1\n",
    "    c=len(cov)\n",
    "    u=x[0:10]-mean[0:10]\n",
    "    inverse=np.linalg.inv(cov)\n",
    "    f=np.exp(-1/2*np.matmul(np.matmul(u,inverse),u))\n",
    "    f=f/np.sqrt(np.power(2*np.pi,c)*np.linalg.det(cov))\n",
    "    return f"
   ]
  },
  {
   "cell_type": "code",
   "execution_count": 40,
   "metadata": {},
   "outputs": [],
   "source": [
    "def ClasificadorBayesGaussiana(x,y,y_p,classA,classB,theta):\n",
    "    a=0.0\n",
    "    b=0.0\n",
    "    c=0.0\n",
    "    d=0.0\n",
    "    for i in range(len(x)):\n",
    "        p_a=VerosimilitudBayesGaussiana(x.iloc[i],classA)\n",
    "        p_b=VerosimilitudBayesGaussiana(x.iloc[i],classB)\n",
    "        if (p_a/p_b >= theta):\n",
    "            y[i]=1\n",
    "        else:\n",
    "            y[i]=0\n",
    "        if (y[i]==y_p[i] and y[i]==1):\n",
    "            a=a+1\n",
    "        elif (y_p[i]==y[i] and y_p[i]==0):\n",
    "            d=d+1\n",
    "        elif (y_p[i]==1 and y[i]!=y_p[i]):\n",
    "            c=c+1\n",
    "        else:\n",
    "            b=b+1\n",
    "    \n",
    "    if(a==0):\n",
    "        TVP=0\n",
    "        Precision=0\n",
    "    else:\n",
    "        TVP=a/(a+b)\n",
    "        Precision=a/(a+c)\n",
    "    \n",
    "    if(c==0):\n",
    "        TFP=0\n",
    "    else:\n",
    "        TFP=c/(c+d)\n",
    "    \n",
    "    return TVP,TFP,Precision"
   ]
  },
  {
   "cell_type": "markdown",
   "metadata": {},
   "source": [
    "### Curvas ROC y Precision-Recall\n",
    "\n",
    "Se calculan los valores de TFP, TVP y Precision para $\\theta$ de entre 0 a 0.5, con 100 valores."
   ]
  },
  {
   "cell_type": "code",
   "execution_count": 42,
   "metadata": {},
   "outputs": [
    {
     "name": "stderr",
     "output_type": "stream",
     "text": [
      "c:\\users\\magicalgirl\\appdata\\local\\programs\\python\\python37\\lib\\site-packages\\ipykernel_launcher.py:9: RuntimeWarning: divide by zero encountered in double_scalars\n",
      "  if __name__ == '__main__':\n"
     ]
    }
   ],
   "source": [
    "TVP_2=np.zeros(100)\n",
    "TFP_2=np.zeros(100)\n",
    "p_2=np.zeros(100)\n",
    "classA=1\n",
    "classB=0\n",
    "\n",
    "y=np.zeros(len(testSet))\n",
    "\n",
    "for i in range(len(theta)):\n",
    "    TVP_1,TFP_1,Precision=ClasificadorBayesGaussiana(testSet,y,y_p,classA,classB,theta[i])\n",
    "    TVP_2[i]=TVP_1\n",
    "    TFP_2[i]=TFP_1\n",
    "    p_2[i]=Precision"
   ]
  },
  {
   "cell_type": "code",
   "execution_count": 43,
   "metadata": {},
   "outputs": [
    {
     "data": {
      "text/plain": [
       "Text(0.5, 1.0, 'Tasa entre TFP con TVP usando Gaussianas')"
      ]
     },
     "execution_count": 43,
     "metadata": {},
     "output_type": "execute_result"
    },
    {
     "data": {
      "image/png": "[encoded data removed]",
      "text/plain": [
       "<Figure size 432x288 with 1 Axes>"
      ]
     },
     "metadata": {
      "needs_background": "light"
     },
     "output_type": "display_data"
    }
   ],
   "source": [
    "plotGauss1=plt.plot(TVP_2,TFP_2)\n",
    "plt.ylabel('TFP')\n",
    "plt.xlabel('TVP')\n",
    "plt.title('Tasa entre TFP con TVP usando Gaussianas')"
   ]
  },
  {
   "cell_type": "code",
   "execution_count": 44,
   "metadata": {},
   "outputs": [
    {
     "data": {
      "text/plain": [
       "Text(0.5, 1.0, 'Curva precision-recall del modelo gaussiano Naive Bayes')"
      ]
     },
     "execution_count": 44,
     "metadata": {},
     "output_type": "execute_result"
    },
    {
     "data": {
      "image/png": "[encoded data removed]",
      "text/plain": [
       "<Figure size 432x288 with 1 Axes>"
      ]
     },
     "metadata": {
      "needs_background": "light"
     },
     "output_type": "display_data"
    }
   ],
   "source": [
    "pltGauss2=plt.plot(p_2,TVP_2)\n",
    "plt.xlabel('Precision')\n",
    "plt.ylabel('Recall')\n",
    "plt.title('Curva precision-recall del modelo gaussiano Naive Bayes')"
   ]
  },
  {
   "cell_type": "markdown",
   "metadata": {},
   "source": [
    "Se puede ver que tiene la curva \"estándar\" Precision-Recall, pero que no es tan \"perfecta."
   ]
  },
  {
   "cell_type": "markdown",
   "metadata": {
    "id": "tiuSQNsbKaJY"
   },
   "source": [
    "# Pregunta 4\n",
    "\n",
    "Primero comparamos las dos curvas ROC, de entre los dos modelos.\n",
    "\n",
    "### Curva ROC"
   ]
  },
  {
   "cell_type": "code",
   "execution_count": 45,
   "metadata": {
    "id": "bRF7XHpHKbhk"
   },
   "outputs": [
    {
     "data": {
      "text/plain": [
       "Text(0.5, 1.0, 'Curva ROC en modelo histograma vs modelo Gaussiano')"
      ]
     },
     "execution_count": 45,
     "metadata": {},
     "output_type": "execute_result"
    },
    {
     "data": {
      "image/png": "[encoded data removed]",
      "text/plain": [
       "<Figure size 432x288 with 1 Axes>"
      ]
     },
     "metadata": {
      "needs_background": "light"
     },
     "output_type": "display_data"
    }
   ],
   "source": [
    "plt.plot(TVP, TFP)\n",
    "plt.plot(TVP_2,TFP_2)\n",
    "plt.title('Curva ROC en modelo histograma vs modelo Gaussiano')"
   ]
  },
  {
   "cell_type": "markdown",
   "metadata": {},
   "source": [
    "### Curva Precision-Recall"
   ]
  },
  {
   "cell_type": "code",
   "execution_count": 47,
   "metadata": {},
   "outputs": [
    {
     "data": {
      "text/plain": [
       "Text(0.5, 1.0, 'Curva Precision-Recal en modelo histograma vs modelo Gaussiano')"
      ]
     },
     "execution_count": 47,
     "metadata": {},
     "output_type": "execute_result"
    },
    {
     "data": {
      "image/png": "[encoded data removed]",
      "text/plain": [
       "<Figure size 432x288 with 1 Axes>"
      ]
     },
     "metadata": {
      "needs_background": "light"
     },
     "output_type": "display_data"
    }
   ],
   "source": [
    "plt.plot(p_1, TFP)\n",
    "plt.plot(p_2,TFP_2)\n",
    "plt.title('Curva Precision-Recal en modelo histograma vs modelo Gaussiano')"
   ]
  },
  {
   "cell_type": "markdown",
   "metadata": {},
   "source": [
    "# Conclusiones\n",
    "\n",
    "Primero que todo, se puede concluir que al ver los resultados, que la curvas Gaussianas son mejor modelo para este tipo de problemas que usar histogramas. Puesto que tanto su curva ROC como su curva Precision-Recall poseen una mejor \"forma\", al alejarse más del modelo lineal para la curva ROC, y al acercarse a la curva ideal en la curva Precision-Recall. Ademas de que el entrenamiento de las Gaussianas en mucho más corto (en tiempo) que el modelo de Histogramas, y considerando además el espacio que ocupa, esto hace que el modelo de Gaussianas sea mejor para este tipo de problemas que el modelo de las histogramas.\n",
    "\n",
    "Suponer que las variables son independientes no es buena idea para este tipo de problema, puesto que hay variables altamente correlacionadas entre sí como lo son 'fSize'-'fWidth' y tambien con 'fLength'. Tambien una variable que se supondria tendria mayor peso al momento de clasificar, sin embargon no impacto tanto como debia era 'fAlpha', puesto que no hay diferencia al momento de clasificar. El modelo Gaussiano que con la matriz de covarianza no asume independencia posee mejores resultados al respecto que el modelo de histogramas que si asume independencia.\n",
    "\n",
    "Las mayores dificultades al resolver el problema fueron el uso de librerias, principalmente debido a algunas peculiaridades de numpy, en particular para calcular la covarianza. Otro tema, es que eran muchas tareas que programar y el tiempo en probar cada tarea importante, hacia que se generaran dificultades para coordinar el tiempo de trabajo."
   ]
  }
 ],
 "metadata": {
  "colab": {
   "collapsed_sections": [],
   "name": "Tarea1Inteligencia.ipynb",
   "provenance": [],
   "toc_visible": true
  },
  "kernelspec": {
   "display_name": "Python 3",
   "language": "python",
   "name": "python3"
  },
  "language_info": {
   "codemirror_mode": {
    "name": "ipython",
    "version": 3
   },
   "file_extension": ".py",
   "mimetype": "text/x-python",
   "name": "python",
   "nbconvert_exporter": "python",
   "pygments_lexer": "ipython3",
   "version": "3.7.1"
  }
 },
 "nbformat": 4,
 "nbformat_minor": 1
}
